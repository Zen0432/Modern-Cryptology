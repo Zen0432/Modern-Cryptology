{
 "cells": [
  {
   "cell_type": "code",
   "execution_count": 1,
   "metadata": {},
   "outputs": [],
   "source": [
    "import random"
   ]
  },
  {
   "cell_type": "code",
   "execution_count": 2,
   "metadata": {},
   "outputs": [],
   "source": [
    "## Input permutation\n",
    "ip = [57,49,41,33,25,17,9,1,\n",
    "      59,51,43,35,27,19,11,3,\n",
    "      61,53,45,37,29,21,13,5,\n",
    "      63,55,47,39,31,23,15,7,\n",
    "      56,48,40,32,24,16,8,0,\n",
    "      58,50,42,34,26,18,10,2,\n",
    "      60,52,44,36,28,20,12,4,\n",
    "      62,54,46,38,30,22,14,6]\n",
    "\n",
    "## Inverse of Input permutation\n",
    "ip_rev = [39,7,47,15,55,23,63,31,\n",
    "         38,6,46,14,54,22,62,30,\n",
    "         37,5,45,13,53,21,61,29,\n",
    "         36,4,44,12,52,20,60,28,\n",
    "         35,3,43,11,51,19,59,27,\n",
    "         34,2,42,10,50,18,58,26,\n",
    "         33,1,41,9,49,17,57,25,\n",
    "         32,0,40,8,48,16,56,24]\n",
    "\n",
    "## Output permutation\n",
    "op = [7,39,15,47,23,55,31,63,\n",
    "      6,38,14,46,22,54,30,62,\n",
    "      5,37,13,45,21,53,29,61,\n",
    "      4,36,12,44,20,52,28,60,\n",
    "      3,35,11,43,19,51,27,59,\n",
    "      2,34,10,42,18,50,26,58,\n",
    "      1,33,9,41,17,49,25,57,\n",
    "      0,32,8,40,16,48,24,56]\n",
    "\n",
    "## Inverse of output permutation\n",
    "op_rev = [56,48,40,32,24,16,8,0,\n",
    "         58,50,42,34,26,18,10,2,\n",
    "         60,52,44,36,28,20,12,4,\n",
    "         62,54,46,38,30,22,14,6,\n",
    "         57,49,41,33,25,17,9,1,\n",
    "         59,51,43,35,27,19,11,3,\n",
    "         61,53,45,37,29,21,13,5,\n",
    "         63,55,47,39,31,23,15,7]\n",
    "\n",
    "## Permutation after S block\n",
    "p = [15,6,19,20, \n",
    "     28,11,27,16,\n",
    "     0,14,22,25,\n",
    "     4,17,30,9,\n",
    "     1,7,23,13,\n",
    "     31,26,2,8,\n",
    "     18,12,29,5,\n",
    "     21,10,3,24]\n",
    "\n",
    "## Inverse of permutation after S block\n",
    "p_rev = [8,16,22,30,\n",
    "         12,27,1,17,\n",
    "         23,15,29,5,\n",
    "         25,19,9,0,\n",
    "         7,13,24,2,\n",
    "         3,28,10,18,\n",
    "         31,11,21,6,\n",
    "         4,26,14,20]\n",
    "\n",
    "## S blocks\n",
    "s =     [\n",
    "            [\n",
    "                [14,4,13,1,2,15,11,8,3,10,6,12,5,9,0,7],\n",
    "                [0,15,7,4,14,2,13,1,10,6,12,11,9,5,3,8],\n",
    "                [4,1,14,8,13,6,2,11,15,12,9,7,3,10,5,0],\n",
    "                [15,12,8,2,4,9,1,7,5,11,3,14,10,0,6,13]\n",
    "            ],\n",
    "            [\n",
    "                [15,1,8,14,6,11,3,4,9,7,2,13,12,0,5,10],\n",
    "                [3,13,4,7,15,2,8,14,12,0,1,10,6,9,11,5],\n",
    "                [0,14,7,11,10,4,13,1,5,8,12,6,9,3,2,15],\n",
    "                [13,8,10,1,3,15,4,2,11,6,7,12,0,5,14,9]\n",
    "            ],\n",
    "            [\n",
    "                [10,0,9,14,6,3,15,5,1,13,12,7,11,4,2,8],\n",
    "                [13,7,0,9,3,4,6,10,2,8,5,14,12,11,15,1],\n",
    "                [13,6,4,9,8,15,3,0,11,1,2,12,5,10,14,7],\n",
    "                [1,10,13,0,6,9,8,7,4,15,14,3,11,5,2,12]\n",
    "            ],\n",
    "            [\n",
    "                [7,13,14,3,0,6,9,10,1,2,8,5,11,12,4,15],\n",
    "                [13,8,11,5,6,15,0,3,4,7,2,12,1,10,14,9],\n",
    "                [10,6,9,0,12,11,7,13,15,1,3,14,5,2,8,4], \n",
    "                [3,15,0,6,10,1,13,8,9,4,5,11,12,7,2,14]\n",
    "            ],\n",
    "            [\n",
    "                [2,12,4,1,7,10,11,6,8,5,3,15,13,0,14,9], \n",
    "                [14,11,2,12,4,7,13,1,5,0,15,10,3,9,8,6], \n",
    "                [4,2,1,11,10,13,7,8,15,9,12,5,6,3,0,14], \n",
    "                [11,8,12,7,1,14,2,13,6,15,0,9,10,4,5,3]\n",
    "            ],\n",
    "            [\n",
    "                [12,1,10,15,9,2,6,8,0,13,3,4,14,7,5,11], \n",
    "                [10,15,4,2,7,12,9,5,6,1,13,14,0,11,3,8], \n",
    "                [9,14,15,5,2,8,12,3,7,0,4,10,1,13,11,6], \n",
    "                [4,3,2,12,9,5,15,10,11,14,1,7,6,0,8,13]\n",
    "            ],\n",
    "            [\n",
    "                [4,11,2,14,15,0,8,13,3,12,9,7,5,10,6,1],\n",
    "                [13,0,11,7,4,9,1,10,14,3,5,12,2,15,8,6],\n",
    "                [1,4,11,13,12,3,7,14,10,15,6,8,0,5,9,2], \n",
    "                [6,11,13,8,1,4,10,7,9,5,0,15,14,2,3,12]\n",
    "            ],\n",
    "            [\n",
    "                [13,2,8,4,6,15,11,1,10,9,3,14,5,0,12,7], \n",
    "                [1,15,13,8,10,3,7,4,12,5,6,11,0,14,9,2], \n",
    "                [7,11,4,1,9,12,14,2,0,6,10,13,15,3,5,8], \n",
    "                [2,1,14,7,4,10,8,13,15,12,9,0,3,5,6,11]\n",
    "            ]\n",
    "        ]\n",
    "\n",
    "## Expand operation for R entering in f function for a round\n",
    "expand = [31,0,1,2,3,4,\n",
    "          3,4,5,6,7,8,\n",
    "          7,8,9,10,11,12,\n",
    "          11,12,13,14,15,16, \n",
    "          15,16,17,18,19,20, \n",
    "          19,20,21,22,23,24, \n",
    "          23,24,25,26,27,28,\n",
    "          27,28,29,30,31,0]\n",
    "\n",
    "## Mapping of letters in text to binary \n",
    "## This is found from the frequency analysis of the ciphertext \n",
    "t2b = { \"d\": \"0000\",\n",
    "        \"e\": \"0001\",\n",
    "        \"f\": \"0010\",\n",
    "        \"g\": \"0011\",\n",
    "        \"h\": \"0100\",\n",
    "        \"i\": \"0101\",\n",
    "        \"j\": \"0110\",\n",
    "        \"k\": \"0111\",\n",
    "        \"l\": \"1000\",\n",
    "        \"m\": \"1001\",\n",
    "        \"n\": \"1010\",\n",
    "        \"o\": \"1011\",\n",
    "        \"p\": \"1100\",\n",
    "        \"q\": \"1101\",\n",
    "        \"r\": \"1110\",\n",
    "        \"s\": \"1111\" }\n",
    "\n",
    "## Mapping of binary to text letters\n",
    "b2t = { \"0000\": \"d\",\n",
    "        \"0001\": \"e\",\n",
    "        \"0010\": \"f\",\n",
    "        \"0011\": \"g\",\n",
    "        \"0100\": \"h\",\n",
    "        \"0101\": \"i\",\n",
    "        \"0110\": \"j\",\n",
    "        \"0111\": \"k\",\n",
    "        \"1000\": \"l\",\n",
    "        \"1001\": \"m\",\n",
    "        \"1010\": \"n\",\n",
    "        \"1011\": \"o\",\n",
    "        \"1100\": \"p\",\n",
    "        \"1101\": \"q\",\n",
    "        \"1110\": \"r\",\n",
    "        \"1111\": \"s\" }\n",
    "\n",
    "## Shift for key scheduling\n",
    "shifts = [1, 1, 2, 2, 2, 2, 2, 2, 1, 2, 2, 2, 2, 2, 2, 1]"
   ]
  },
  {
   "cell_type": "code",
   "execution_count": 3,
   "metadata": {},
   "outputs": [],
   "source": [
    "## Permute the given \"text\" using \"perm\" as required permutation array\n",
    "def get_perm(text, perm):\n",
    "    s = \"\"\n",
    "    for i in perm:\n",
    "        s = s + text[i]\n",
    "    return s\n",
    "\n",
    "## Xor text1 with text2\n",
    "def xor(text1, text2):\n",
    "    y = bin(int(text1, 2)^int(text2, 2))[2:].zfill(len(text1))\n",
    "    return y\n",
    "\n",
    "## convert text to binary\n",
    "def text2bin(text):\n",
    "    s = \"\"\n",
    "    for c in text:\n",
    "        s = s + t2b[c]\n",
    "    return s\n",
    "\n",
    "## convert binary to text\n",
    "def bin2text(text):\n",
    "    s = \"\"\n",
    "    for i in range(len(text)//4):\n",
    "        s = s + b2t[text[4*i:4*i+4]]\n",
    "    return s\n",
    "\n",
    "## Give the output of ith S-box for \"text\" (text is a 6 bits binary number) \n",
    "def sbox(text, i):\n",
    "    row = int(text[0]+text[5], 2)\n",
    "    column = int(text[1:5], 2)\n",
    "    return format(s[i][row][column], \"04b\")"
   ]
  },
  {
   "cell_type": "code",
   "execution_count": 4,
   "metadata": {},
   "outputs": [
    {
     "name": "stdout",
     "output_type": "stream",
     "text": [
      "qkggppfhhoqijdesikkdnhdnroseriijldflqmieglifnjmeeldqsggkojpehkorrnlhdgqspinmjkmoisnklqnofgnioskqdhghsrrkhheqnhnihhiqkdsqhnfnfildegdgrrihqqhldmklifiomnglnmoeqqfodofslgqrdnijflidhooorplofrpfodssghnehoekslrpogllodhkmsknrihjojgpnfqnrelmjsfqqhidekdorpjfjrhhqosphoespgelsjshipipoffoskoldmrddgfsfqgijedjmkpejmiofehgkhqosdejrqggelfgfrhmfnqjkgmpkfnjpqgqssmjpssrsoirqsggnnssjkfdgnkopkeipiphrendeerfrlooehfrhimlggpqmohdgenrqrsqnqelehfklkjsrjlnrnipdppkjjlpishdihrinfdpehqnesppllqnseqjmlihfkfsngijerijjsfmgohsqgdgpmeqdfpkokeliimdnsihieemqjqijkfqgokimpjrfeommphkdqhfnjprgseonpreridoooeonkmjooipfosgdkskonrieegdlesmsfreiqjleglqkqjrnnoppdkqlpnekdiremphjqpqknrpoegkgssqrnnsjeiqidjpirogfminsnfknpnjdgdkkosssilfqiiknsolojnisgpmjlrrprjogqnlosqjpsippqosekrijmnfplhnepkrroqdljjeihdpjhhrgksjfjngelljkojrlniolqsjqgdqqdgfhmmomnserjiifdjddqqmmhqpmsiqmkfpoqkiiholenorqnkqqrrljhirrnsrqpjnrlkelqrphroimlpisognklqjhoigggfgoloqhefjfkhnsdeoopmglfmgkmhqfpnsslonjqpgpmkjefqrjeniklenjlhlhskmmsfmgshofqnhqjgqsmsfghggknloifqmohsokjqjpfkgolsrksodkijsohemfmhfsnphsmlkijjngifqjrpldjpfsslhospisrinqlgrlrfrmffkhslrmpkosrjfdhorekgfqgdlrrooinlqedqphmijmjlppoehpqomignihrsgepofekeddrjdjrffgngesjngejikligspsqkforjigrepknirsjhgikjdrekogrjgdgejfjgfdildronlpkqkhqsgkimdnosnppqiniqlosfqolifjdsonhqsjpdrhmqppiseilhhkmisljiflmkimslmosenrsdpgsjdiriqmknfqhqsdgoknleljdkpdenrikdrgeememkgmdsjpjpdninsdedlkqjsskkhhefneipfffeslmqkjhjdrpkqlkdkmgrgslneldpefshsdmqglppqgkpmkkdmrmfdhfppjlmfejhifpqnnklogpslhrkjhoilgokhmonspkfespglpkfddporneqnqpkepomhfppnppnsohmkqppekedkdlseqskfsshkjqphdsrlqpmqghsqkokdgrdekeneooqrlmfddgiqismkqmpopgqjprpfmojdkepkfgqmesejijqsilhpelenhlfoqfjsspqdsjgsisnihhginiqiopoirkmoqrfhijemhmlmmqmnlrsesfpieghggqlmdgleielopqkjrdmkdqqfgfrjoiqsddjkongdflinfljnooknlgfkkdqosegdpfdrohkdlhlhprlerhfqhsiliqhinopmekkdgoqorfninmdhdpmdlkdjkljpjhpeflsqirdsqdemorilhgirsjpnrjjgekhreeklhlmnhhssijsfjhkrdndenjdkqimlgkdqgflkepsfkkdfgjnepifsoerqrhenpdgkenrhmikmlehssgnplnejjhgqohjdgndinnkmhgdkhreqfrpilsrqsqglpfkkqogmqdnismgsknsimprsqqqplpkkllllskmjrlgqnjnhdsojpgoimgeqqjklkgiojkrpdnogfnngskfeohppopmgiffogmgqqqqmpldlgnfljophffkkordsijqmefglegjgpgmnpeppojsmhhdfngqsfifshddleqdffgenkgslhqnsnoedfmnniofoqjdnsogsqnkressijphoppefgglkonkprrfiqlfmerpjrdmirsgkefqgmjhgrhhdqffmlkismknfjdmeoekpensdhisomigimdgomjlirqidosljkemisfgfpmrgjmdfiskhnmqsdgrnplqillsimeqrkfpmrqedlppgqllqgeosjemfdfrsgnpglrgjqpfnffpfsjnnmoelggrknoiihnmmnofjlpsqdqkslnodqrhhqikqdeokhodrnohopnspmdllkgrjeiqghjsgmqdnnsdsjeihdpngiojdlrosdfppiigjoerrjsffffoonsldlfmnfhjegqifrgddnklmpenjdqqmmpofdjphkhggeigfekghrkeoemeonopeglqiqfnokemsglgiomirnerimdeekkgkdnpjlflmiokdkseirffloheffiikiqeorjofjrigjdprppgnpdsfqoklljpmsrmklieqfgfglqskjnkeqijqmrsmnfoqifdlgsrdpfppnqfgjjfhgsnmokjlfeikgeknsenkmglijghkkpjhjlnkdqdhpjjhkpodspgkfpjkgijgeqekggeqqhmmkjlqdflhqrjpsfomifsnmeqdqrdfoissinelnjsgliklldglplreqillodlekfkqfsmsggloenghdegrfkjsqgjdkqgmlddjjrqojlldfdhifgnrikhgioopdkgnihkqojrohpdrldhpndklgissmmmknmskeiiplnirqioreqoiloemmdjpjfpgkermfnqempnfgkgkhjjllipemkilopgpmedniejnofqjpeeepinrhqqlniihdpkhffeniljeelsrqkieshkispslkjfmngmhgfmeeeojlhlfkpsehpndhijihpjosfmfjhmmshkhoegsdenhgprsflhrhdsnoqlnpmeoiqjjnejklrpkkkphqmnkokgeiefopqeqgfssfgplihfdpogllnhejmjjipqisjirnqnegkdphokpmmfelddlinrsllsensfsjhdinddhnsdllhnlmrhgpjdhhsjnnqhhkmhijohlmjqedjslgflrljhpsjkrjlplfsimffkqpgppqormhfpqrppndkpepjfjnqnghlnfrpfrlpfgedngmpjkpjiqnomismhkgloipnppjqsegkedopikdhjlldhomgkrplrmdlsiiqsqkooprjgfhhfqfsenrhqdhslqojllmenfpjnfsprfgjgkejmpfodeqiihnjkdsgeokdnihiojggqedofeikepgnfhjdigrmhepekdkiihgqrhfdfngiefqdhelqohjsrndfrsgpejihrgkijjdoidgprpgosrmeddpqedikikqkshjnifnkkqkkirqpghhdigjdiqrojhrjohoippipeofjsegrpmoqskomqdmohokfllfqljlninkgolpdnhmohoosqleimirdlenksdjporkgffrgmfhpheqnfomesqdmmqdrjjrieofjfkedgohleifjoieihlkpefqllesrghoqgdpjhijieiegkssgrqehqdkpilqpjhnmoropohlghikekoqoeqqpdmpseklmjjpjhhjedfrfhsfesjpqlqqmfinernphrgfeohmmsrllefmonojnoohjfdekfdiilmrqpjsdonpgheppopkplgofsrsdesdglhfijkloqqlshgloreifirhrlhplqmgrsrjphjfmlmsqfpsjigqdpqdnniedqekmlmljoolhrdjfpodnlnmkgrndiodksisdrphejegkslpqojppsrdoknljngmlfringmfljhhsrnslm\n",
      "\n",
      "\n",
      "ekneskkpohsdknliggklrkemrngigqfiekjieqjeqjfnlhkgegggokelqsoqipdjhghkpdgidfhglsfngrmhhgqninngennmorjkikhlnnpfqdjqrpkdksgedgkdppsieherskenkihreiddeneljfmedsogmrssmdfndlsmheqpingrhsoloisnsemgeqpmehehdgsrmpjrlqprknolhooniidskjjnhnmoefnkjqhsjgnjqddifrshslmepeomrhfqjhgrjldegrfgpnrdsiqsldljnmepjpfhrgsnjepormjpqnjsinfeeosmlogirikgikhsmnpsjlgneslhrdopimsqendpgqemokekggdmqreosnrfolgspesqidkfmpsmjkofgnklqhdndsoiooksgdplspsddinpiodqofrisknmjenliseliqefqqfeojrqmskehjijdohripenqfhlhdkglqeplkmpihnlmqeoogqopjemqqqifnmheodsofjegeqlgpsskolnljlpofikpkhfgsjlfqrkknpgrsgilsenqplnfdqkernpjrirligfoqsmpfinkooofppppsnkpghioogfkmlimnjdgkhomrpnjfgerehmidjfdonoolqmosfijdqlsliipphnqedkhlioimfkgfrjrpgdqefmqpnlhiqmedlfdhdlikeklqlnmfsssqoplgkmgdfdqmpglhosnnofhgqifolphlfsnslhohrjdqpdlgemleeokdpqphnreqqimoqqgorninfkgrdhpiipjeffspfqssihjfnrmkqghljhqndogqpiisieiplqspmihkrnmfejeqphdogsnqkksqeislkhillgrpfiokmggihinnhhmrdgmoofdfmffkrqmglnkdhqpfrplqrefqnhoqsjqfhpphhhqodndkpkqjfegghdqflogmoplsqgmsjjhgmoqoqgoflhohorhpiemmqmrgpnpmqennkqkshrkqneokffgpkikroksojlogqrdfdeodsrjlhirekfemgngpfipfgemffqergnpkhllsqrnqdqhgrnjikeqfdgnogdromppkirogjppejnprosjnfhdjnmrpqfidhiedmpegepprsqqlrinmeqlripmhhgrnffhnidffjdnrolfoonioenjimmnpgikpmfnfesffqkqjnqrqfniihkhhdpqmlhiqogfqklrsgfirpsmmpigkqidggfqkngdmmlkjlmfihigqefjfmrdqflrfqgqjdeldsffqloofrpnlrmfeoopprgqhrlohdjrefekkrqfqrnrqpsmrofpesgrmhmegqsridfkpmndimhdngqdmdmedlrpmejonopqookoidrihemsilkodmolidofnsfhdhrdmpjishodkjjkhhrpqphhgsijokfpfogijqgmihqdmliqgelkgifmrpsiflofdffpoomgefsjjkqfmsqidnsmpslqhhgljshpnpmdqmkdergmlopmqjpqnmjqhheilkplfheogfelpfsdjislfphqgjdsesldfimeprdsjnfnennomhnriqlekrfirqdjdkqkdgjsdoengligksmdspkjhjqisqqdqosrfojemsssrnsijnsdffpqoqdofglnggfhpierpdnpdrlsflilijrqlqeogesdmqijqqppseiifefhdsjepnirjopspdhkqdkeloqdrnrspjpssgilokiqhjesnegmgrsgrooknjnrelrorsmsiosonifgdjrfdeddrnmlrfmslgsjgorqfefgqfofopmmdpoprlgnnjjrgrkefoqjlinjdkoirjomihhhjlrkgpgsjkkqsjjojnskerjheskgsihnkqmldqlllqoshnfgkpqerosrglpkpnqfhmjlesmhijippnsqqdpolprlsefmnpgrhqsjdflfhhidgfekmedeshfoenjdhoropdropphgqghrflirfhkqlmrnhkkqilhfdsjpekkjfpjfidqqkkmkqsqeeirmioeikjojelsimkiqsslpsfgfoqmipffjqqfgpsmljosokiokdenjmqeoildmqlpnfkdnmndnofpjlmdldpmlpddgkhllieopolihnkhkpgnokjpgqlokslqodqedqdjgkngmmflernssohehnjlkoikhlrjlggkefsoprjshlgmppoenrdrkqhfphmsgqjrhdrihjsosjmflhhddsmlrrpkqhspfnlgrdlpessensjlrshkssqklflmefhjnsgijjqiiekkprhgseeslojfskripnlmgqerflfpripnnrggsgolrdoijnhpleijkqopsnojpjhsfkfqompremqrksespnspnlseefgdqhejdkqhmkhfisdfknqdneskgmeofkshsjdpskqkgffnjdlpmhjlhjqisdgkmrmnhfpippeqmqsoksprkfleonkdripmnigregkndjpkjjhrriirirqpplsnmkdnfphnmnmeemjmgmnhghfddginmgsmpssrnromepmomgjqlogrgeghddhesjjpnhlmgpqspdffogeifhiijjqhnigrpsgsqohkjjfedfdrpqlsfmjiqlimdidsrmoleeomenqdiinkkoiksfihdofosedeigessjhjilkofhskrefjifnddfrqhsjqmriqnssgrrhmionlsporreskjmlknipgifdhjqjqdeghlnselsigmjpgmojonlkkpsdrlejeronkpsldoofnfhpgllkmqhflnfpqoeerhfemoiejjokelppqkdqmmkdidgjhllnqpjnpqiqpljmiflekgflhlhdkdppkgspkksjpsqiodrnkfprngrgdfloqjepnjdinhhokkonlfrpqigfejegopppdooedmgiqmdspenrfeijrnnpdkhshidmqqldqflnfdeoerqdkjfirefdnojrnmrdlpnsodjmfqrqdoiqhiqqjqhqsrklrliklfhngdhhfijejnnrelgsheppkoeggrogojpqpfgeoiqfjfqglkhkjsdiljkommddsqgkomkjhgedghosdkkosliefdfsrqjijskgoljiondseesjisrfehjnldrmejndldhkrokphfsgsdrfgknkjsqdiqjmofkoisnqerjhofkdkidpherfrflfrsjiiokskodjosfojqdimqnqnhoifedgfhgjiqfndmlmjghqjkleirklgleperkdjesnplpmsolgkjimhjgslrgshlreijoehopkkrjshmjfiqhkkgfmosspeqphihllspngglmhilpooqosrnsqmmjqlkjiinmfqjpqklrorjnkqjjedomilllqqoleijookqjgjssmnnkqmslqkrdqresmgpjrseihjmrdlhhmpjpigqehqiogrdjrpgplflqmqhholspqklqghfqoiimgmrneonljqmheskplkhmlonllsljoijjmepplhljpoeokjjoginhfggphoekqodkrreeiqroqjmklshligqjkplfiidfhgpgsqqehllojhglgjedknglrdqrqmedsqsqrjenghmihhsjofqqnhkkfjsfdppidmdgpghigljghkjhmhqpplqogdhrhqrfeediqgjkdjdhlfdkremlhhokihkjgmodrdjspoefipfjrljfjhinqedglojmpmmpldmeiojsrfhsrnkpoepdqqfojllilsnrsnmsmernomjrgnjqlriodlsgjpfofejjrdkdphpflpfqdnpkshjmkiprjomjpilfnngrkkdosjrprerigrlmdhiomldqjnrmkhqihpipqqiksssdfjmnfrmpgdksmdfnlmfikkrlmilkpsmpmhomkgjhmjrpnosdqqdlhmheneneqmhilnqnogsnhpemegjdlkdedelljqdldmfqrfhishooiq\n",
      "\n",
      "\n",
      "ikhdronklkmjdflfnohhqigfndoeehrnhkqlromloorhpqonefodkkmknhqrfiloogddsssfqdsqslsidrefnhikqmdglqhpilmsnojjkrejsrfissqispqmqgmdsjmempifprpkilmsmkdjdqkqqnjinfjdgqmnirosqkrppfkmopprkqdliqdqiiqeeshqeknishnmsqglgkenrssoqmdglsqgmkgsskqldskelrqkgdejrpphqdsrdqdkfhjselpgljfkofmiknphjrhmlrsijpkmjdooijedpgdhpgshoeheqqrlhsdqhkmedisdersomlngipffmodoqqgrojkdkkmmoodfoiilphijpgikshfrhffhohephisrjlnhsreeolfeoslfslhngoksorhsmsehhhmgdiihmeqnkdiedlsdmkdqepgmlqhmisrsprnogeohkidieqkdodqqlqjnkijemfroikdiifmhehspmdohlokpkkfimrdiglfrdsnnsdldsrqmhslnjnmshqefsggneeljqgglljmfqookhhnjgjjgojgekmegekisiigqhpqmfkjsgeknslooirsdggjeknprsjhkpfrejfipfispghrphsnplnfhgqjrdnmfspjsfdkoqrsepdiniqomspedeedlfnflmgkfjrofskmdpirgjmqidekfsfopmmdliprflmloghqgnoqegprpplgnlhlgdlnfdqmkghgsmigfddhgqjmosnenijoemldmrpepkdjhiqgfeqdrfngmdmkophqiimsrnhsrjfrigfhhgjgesdljjqhffqkjhlrogsjndejoqpnjsqlfsdrikkhfesjpdejrphfmemsfdqrolneeqkipsirhmpspidofgnlmfmiffpqedehrqsohhodfjqmseeskgjfpdggoqsnnhirqppsipephfrqirssipmmermoenmgqqkhjokmqdfigkehlhmigsmripkmnpjppfjnekeoqpmsrjomfgomiiirnshmnnoiikfmeihmjisngkqrpkfdgilfnhjiioliirdsggnlrorqdikgoseddjlqifrghfpkhmmepmpeddionpiknglhodmfmneejfoonjhrjjqonlmddhsekohndlfmjigssgihsmlrqglfsjinrsqhsjdjlhehrghhfdlepoqqnmgpndeissolpqhfshrnngfpkkdijejhjgdqlfopolpppofjlisesrfkgfhnplqoknorkhoidljfeejofhpfmmfidfmdglmidgkdkddlogmpglhoorqqjggdoesinsqehmsjgnedkrnhsqfommlqqrgoonnmpgqhfsrgfqrfimjqgnlehlpinlkppjmrpqkfqlpihlmdnisohhglrsnlplmjpfiphenoimmompjrjinrejodpfmfekfpinllppndlghnflejmifigsdfgmperhhpjnmqilrirhsmlmismsrnjqheoppfinikqhoqfeeggsdfiongfqijppljrrmmkdfjnkphgdmheikoqosiqpqednqfoeknldqkhinhrnsdpohlggkoifdqfjeiqinrgmfhffeplsnmjefsglmnpilqohosdoelnrrhslnseflfgffjfqekqmfggqhqfsmoirlnsjsnhqedrqkrqmhlrkqlnjpqlmnpeflkjgkoogrgqifhfmgeginiimmjfolmdqojlrkphjldlqhogeejpghrepjrelgkhlqqjqqiefgnsdhopnlkdqjlgqmelofmrnkgsegflgmdsiqoijkfjigflflqlepsljrqifhqoodsfnnjqrkrmhlqhmenmrndpfidjhdomjemgleridgjfjislrrenrfhlkqedprspoelndsesmfefrhpnloeqrdgkdeopgrsjlenikfoeomqmdpsifoohjqiidoddfiqrjhqmhhpefklljhhggmdiphlhieiqspoidsedppqiggjieshrnroegosqjemedfdifjomkngflfffeglejnpfsdspmfdilqillnqrinfrfsnoonlgjhhqqoordsgqndjilsgsnkmoreqlndjfhgfgdpfonsqoghhspdqsrmhimsegolnkejdkopslsriponeqojqhlikqpflhhornfdjqpjlprspdgjmfrjqdfoijpdofmnegsrgoqrojpejqklejfingmqdknnrsoqrmrfffjkpdkshnjrdqpnpgfmjhqlkisjplehghfesrgnmpkiinmojmsonhjgsjsjfqnmhkdeersgrdmqjggpdgsepoheqkslfjdomjnogsmhehkpsnpmemnlnggnmehmlilmkorlprhdqsihomeqfiepfolnfgklfkfipdnolqnnkqsjgdfjglgkidmmpihjkeodqplpirsomsoinsgrrldelpjfiojfqhsgkhqrpppfnssjqenrhlojgnrsmkgpferepqrkrpihogjnqsrohnrlghgegldfmohjgqmhjiqrgosshhfmdgifhioqmofmfjersnklnjodkihsnfsjlifqinkenepqrdegnqnimgmdsknshijsgrleeningdjmqqggppgiillklmldldfksegieegrdksqhfkjsfjpmnqedlosijpgefjsiihhnnrjomeognppedrighgfdqmpemdpmgjkfijnedndfrjqqleeqkfioklpojgismldpessikjehkfloefmmmmgmkopfehqhjsphhjforofnqljikkoghliegpegnkmqogmqmersnnlfqihgflflgosgnehghgfdidlpmklokeflsfhjpnfoefmhhgfjggjdfosidggisdkgldqrierosrgnsojlsmogmsjjjplsqghmkohinipmlepkprgmeheppsfheflhfdphomrirqreslhqipdjfqmhfpprnknqmfrnkengksslirkjrlhhfionpsnkdqnpesodqgfjkpgglqkqlgdsmhliprseingsiqgddffsnjorgslsjlpphpisshkjgmomghrhfkmhieodpeejrrqqggqdmjkpqfkrfhpedhinnppfgesilmkdhmfeohqlkqrmifnsrhqifosdksosnqfrkgmnqnlggddmfrgrnpqseerrmoqfqpjpiqkplgrsmfksmpmorglmndrfpspjmgfflkfijqjrjfnlkelsqssffsjngmiqnokeqjqlneqeejogdlhodepepkinirggmknoqrslqghemnolmjjrllhsmepleikdooshjgesenfgdrhgolrgsflgrpskllephiprokdgnmjilknqfmmorijinkrkhpkesdenkrsgqemqqmpjhqmemnqllohifomerfsnpkodshjghfomifppprllfnpseqipqldmjmdpmpiqfenkmidrgiohsmhjlqqkknflqkkjdgssirookjqjfnjrfplpjrgjireihrnhmefrejeqjggpqoirqmlhqqiqonkjsfflkllddfhgipjehmjmsfismfpileqkjoohhfkmmgqiooifpqnsjihlqkehnipfndljhldekeqekdqhklpshsslrdkgnjmprjjsoirlomkrgigmopldniopqomqlmnnkrenqehrghrokddheonhoishdhmljqfsgmgprpmmkdmphjpglsrjdnlosmrsrgmgkilrfgiiloohrrepsjpqoprpihemifgjkkpdeefpoegkkpqephodkfpqqqmfjgrndlejihpgfefnkeoigiffqgimqdenrmnfmrshilgmjijdsmjdliolskkmlrrhsejqoeompillfgifjefkgnslkokjepffjljdolllnkqhdoonmroksplrpqrsjfjihkkegnghnmkidneegeilqgirqldijhhpndnjlijdoqnnphokspqkkfjfifmsdqkrpsonhflehopholhhe\n",
      "\n",
      "\n",
      "siieonpkdjkjlserrnkqddkmlrihskgskgijqehdrloelfehnpoojskfqnqepjdmpgohnfikimogpmkeferogqppfprqldeoqifsfmhmqeqqjrfnikirelgdmrkqhhjnoffnljrqrefmrqmsosedrffkrnkfmfnjiersonrdmssrjjmhjkkrpfqeqkqkrgdekqnfpedfnmqllssrmqefhigfjgoheeihlkhgnhqrenflemhhlpemorrkfnqfrjpppdqmeelpdoeqigqmflrjgoodejdjifomjffgslhlkpgsdsqsrrlemognmplpdkofnjhfigrffgsqdenenedjoqmlnkmpgksjqrpedhiihndeemrnsijsimodfnfslprpmmjhiosgfhljgfsldmfspsjpngkoohrnfomesmddhdeindlifihigogkfsofdoggnkjokliqndmnreklmlordjqdkgsqjdshgsohnejkosoeknnhnqfrjfgnorprqnkflenhmnflsehrjiodhpoodiehkdmkpnoidgkjddoksjrjkkhlhgefpdgfkfgllikomeisogodfnglqoffpskqqphnkopefhkoqoijeelnpodijgphrghrpnglrhiddgssesdsrsmipgpfmmrfnlqsqjdrkderedojjigrqjlrrgrmemjqgnndeengmgjfhjgqdliogfrirljnersshieisrjnhsmfedfseesoieimdimsdohphknlrrjknmsiohfioqqsnqlqdkisojsmgmnjjjrehhemnrgjokgmnjkeeigrsrelsrenshqdgmiedjejelriroismrrsrnroffjomppodkfgosshjfpeopfdhphggqrpoloiiedrndhgjlhhhnprfkjfsimlprrohkodimqgqihqfesslghdrlhrmoodfoqifjodgnsqhjsjegndilrrpfppikioepsinnighjnfgolsldiplqppdkiikpgmsemsfsnqnohglifrfkkjldgrplhjhnkroggmoqoqqmmogrjmjrodqfeqmfgjqlsdreigemgpfedsgsidfqrmeejpkfjrrpjkkjmdlrrkdposmlesglghnkldhhpefrnijrhjmrgdemgldggdhmdjdhqjkepfksskgqlhjmkhrkhjhnqfgmmssljhlohlijedhfeqphdnenefojsnffhrshplidhdpiejofgkpelgknsrdpehnsmoeqqmqkngnmmlhsnqlfoqmomkgdrqdrhkfpehoqhssmpdrrfiigdhsqhkpeinglorhkrpjlrhgogdsnnfsgromnpgkiopgdelkrkdoognqmordmgjjieqnhfmjfjknpnkpjiojegprpqmfjomqfikopqhfdjgnggginmjpnlknmrmjpjjeorgdqjpnkqsoedoghfgikrehhgqjrkloesppinerefhdsnpngfrfrsmjkdpliodkjogmihprfsoihfjleffdpjmeppdqsogjgeggqmsmgjqqsrdkoqflnpfemdgindqhhlghfkmehgjmdpimplsmjfgigjlnrlnjejmgdqmrrdngslsqedsiisfnkolfpfkkfpmeprinimeodgpnlsognhnmeonnglffgldffngpikghnnhhonnnniopdqfqnlsojijjnemsmgoqoqjsmifhgmjslhofpqierskjidnqmidmpmodmddieseoilnmogqpjmldphhenqdgpffkjgnmroehhidfoojsoqfikgkmpmohrioillfrsmmgghpmsgrgklhlrkkqjgleoejhirknsgikhdqjilnqhgnnseiiqklspnqlhpfphlonmsmqnnnosenjjjlkhkloqrdliqilngmqglrjmlhplsmifijekgnllprnlnkkimdonomgdiemrhhmlsjqdhqfmlnplfpggregmsismlgddehedrpepnfirrekfqpigekiqornqfleknjgknkmrnngprrrpihjrhjghrnmjrqilhomhngkqnkrneolrdrkhspmpolgdgkqhiihllsogepmlinelpredpfndpogjlrkgkfnedkngligdishdrosjfgljprhdhskgmmnhjmlfooldmismmqikskfshqjfiokirsigpfnpkdhseqehsdrlmmdmdmqqmrmsggeglqjsrheeqpqrfsiffhhqpqnsmpsqforkmiesrppeseknmsmroeiinggheeirepmgofllmggrqdmkkfsmdmdlehqkdojgkiofmpjqpsddlpmqieolqmeierigfqklheqkelfsidoqpkkjddrehhrhojfhgqqkrkokenkimlhopslikgoseplnokmndmjdghiosrhpoigirishqmlqiqkeqrsdfkionmsgeogfdpdohrngdqnfqrjigrqlkopoihihgihkgmsjdlolshnslopspgllssqmrsffqigmhphkgfnokhqrhjgnhkskmejqpjhjdmjpqqkmdeikholgjmlffjqnfdngjpqpfrmhlqhhnelmrmrrsjjlgskhmlgdgogfmqgijrdghpfijkdjreglinmjjhkrenllnhfkjkpjermfihrsfehdohihqqonshepirhjgdhephdegolliqnppmsjjgljqdiqkffgjifidjdkffjdiopinlqqfdejomqhihmeorqjeqgjdqmjgfjesokidskofgirjspidffpmrilfmplgldsmijejknmigemhjflojsofldmdffigsdfmriofgnromfnlkrogilrkjjolhojfklhjdgheqdpfqeqjfmpeifsnmsikmesmnofhjfjmkqrisgodkpoplmgpokonnqgqmkihfnmjeoshorersmikqksdpnipenpeghiqomffskehkqkqilosfifnliefplfrklknfdrfqemgrmjenserfngmopseghjhddkhhsgjsijgmrikhhpoqeomrqqnigrolrofdhsfhephilnkmpljgiqmifijqnlkdisemseshingpiddpdkiphlsmigjpkqljhmemlhflpiesknhermeheisplfijojrlrfoeognpmpsejmeffkggqignfflsmllhpgplekpsfsogidrqedemhmlpknkqrkoqrloemnoniemkleffjffpmjdpkfdnjdrpsfjeoiompdlmmkjrepeefpfgjkhnfmfpqsqjqlsrfjinnkqfggjndhkfdnglspkfpjinpdipsqfpkkoeodqgjfgnleqsrihdekkrlsjfsjeddheoghrhmmsopldpsqhlrrohgijmmdjksdhklriodkqgprflfelmlfgmforqpdrmrqqkeqemdgddnnrpjgeghmhjrlrpplogqlfhlpoermqfgogepdglisfhkjrdodoeipiprmrmiqhsnojfmjmmhdhrnlimqfrekiipondngqqoiprlmojepdqirinlljpfqgohrhosfnqmqoenegsmgpdmriihfiepqrdfgfliighqpknjklslnqsejdmdqdjklsorpgroohksernogsedngfqqjdsekfpigkoqkgkporhnkpiosqqfjfflfdmmrsqhskdfsklrnqlerelrkfegfkkmgpqlhjleeprgmidsorjqisqlnprplljeqehlrjgpjrfssnomdgoiddklmkqhglgpelsikjrkipddghdqkknlnpnqfjisfkdhphefopsspprjrgniseofqojfhhrisqedgmmgiflpilgslnfsdhkfdenjnqfseqfjjphfeqerspmdrselgmqossnjfjpnijidnomsskjldnmehljqhdgmhhlipjsfrroslnihgefhpeqlsnselldgismrqssfmeeerfjnliqoodieghrqiedrsqndpsenkgqggllgmdmdpldqqpqfjjidfoeoingpholldrgkmfgqmldeqeqiskl\n",
      "\n",
      "\n"
     ]
    }
   ],
   "source": [
    "random.seed(100)\n",
    "input_a = []            ## list of 1st plaintext of input pairs as 64 bit binary after applying initial permutation\n",
    "input_a_orig = \"\"       ## string after concatanating 1st plaintext of all input pairs \n",
    "\n",
    "for i in range(1000):                              ## 1000 plaintext ciphertext pairs were used\n",
    "        a_in = format(random.getrandbits(64), \"064b\")   \n",
    "        a_orig = bin2text(get_perm(a_in, ip_rev))   \n",
    "        input_a.append(a_in)\n",
    "        input_a_orig = input_a_orig + a_orig\n",
    "    \n",
    "print(input_a_orig[0:4000])\n",
    "print('\\n')\n",
    "print(input_a_orig[4000:8000])\n",
    "print('\\n')\n",
    "print(input_a_orig[8000:12000])\n",
    "print('\\n')\n",
    "print(input_a_orig[12000:16000])\n",
    "print('\\n')"
   ]
  },
  {
   "cell_type": "code",
   "execution_count": 5,
   "metadata": {},
   "outputs": [],
   "source": [
    "def generate_input_with_characterstic(input_xor_text, input_a):\n",
    "    input_xor = text2bin(input_xor_text)    ## xor of given characteristic\n",
    "\n",
    "    input_b = []            ## list of 2nd plaintext of input pairs as 64 bit binary after applying initial permutation\n",
    "    input_b_orig = \"\"       ## string after concatanating 2nd plaintext of all input pairs\n",
    "\n",
    "    for i in input_a:                   ## 1000 plaintext ciphertext pairs were used\n",
    "        b_in = xor(i, input_xor)\n",
    "        b_orig = bin2text(get_perm(b_in, ip_rev))\n",
    "        input_b.append(b_in)\n",
    "        input_b_orig = input_b_orig + b_orig\n",
    "    \n",
    "    print(input_b_orig[0:4000])\n",
    "    print('\\n')\n",
    "    print(input_b_orig[4000:8000])\n",
    "    print('\\n')\n",
    "    print(input_b_orig[8000:12000])\n",
    "    print('\\n')\n",
    "    print(input_b_orig[12000:16000])\n",
    "    \n",
    "    return input_b\n"
   ]
  },
  {
   "cell_type": "code",
   "execution_count": 6,
   "metadata": {},
   "outputs": [
    {
     "name": "stdout",
     "output_type": "stream",
     "text": [
      "qkgghpghhoqifdesikkdfhenroseniijldflimheglifrjmeeldqkgfkojpedkorrnlhlgpspinmfkmoisnkdqoofgnisskqdhghkrskhheqrhnihhiqsdrqhnfnjildegdgjrhhqqhlhmklifioenflnmoemqfodofsdgprdnijjlidhooojpmofrpfsdssghnepodkslrpsgllodhkesjnrihjsjgpnfqnjemmjsfqmhidekdojpkfjrhhmosphoeshgdlsjshepipoffokknldmrdhgfsfqgireejmkpefmiofehgshposdejnqggelfgnrimfnqjggmpkfnjhqfqssmjlssrsoirisfgnnssfkfdgnkohkdipiphnendeerfjlnoehfrdimlggpqeoidgenrmrsqnqelmhgklkjsnjlnrniplpqkjjlpeshdihriffepehqnisppllqnkepjmlihjkfsngijmrhjjsfmkohsqgdghmdqdfpkskeliimdfshhieemmjqijkfqoojimpjrjeommphklqifnjprkseonprejieoooeorkmjooipnorgdksksnrieegddermsfreeqjleglqsqkrnnopldkqlpnesdhremphfqpqknrpgefkgssqnnnsjeiqqdkpirogjminsnfkfpojdgdkgosssilfiihknsolsjnisgpmrlsrprjokqnlosqjhshppqosikrijmnfhlinepkrnoqdljjeqhepjhhrkksjfjngmlmjkojrpniolqsjigeqqdgfdmmomnsejjhifdjdhqqmmhqpeshqmkfpsqkiiholmnnrqnkqmrrljhirjnrrqpjnnlkelqrpprnimlpioognklqjpohgggfgsloqhefjnkinsdeospmglfmgsmiqfpnsolonjqpghmjjefqrfeniklenrlilhskmqsfmgshonqohqjgqomsfghggsnmoifqmshsokjqjhfjgolsrgsodkijsghdmfmhfonphsmlkqjkngifqfrpldjpfksmhospiorinqlgrdrgrmffkdslrmpkokrkfdhorikgfqgdljrnoinlqidqphmijejmppoehlqomigniprrgepofikeddrjdrrgfgngeojngejikdifspsqkjorjigrehkoirsjhkikjdrekggsjgdgeffjgfdillrnnlpkqghqsgkimlnnsnppqeniqlosfiomifjdssnhqsjpdjhlqppisiilhhkmiklkiflmkemslmosefrrdpgsjhiriqmknnqiqsdgognleljdkhddnrikdngeememkomesjpjphninsdeddkpjsskkdhefneipnfgeslmqgjhjdrpkiljdkmgrkslneldpmfrhsdmqklppqgkpekjdmrmfhhfppjlmnekhifpqrnklogpsdhskjhoipgokhmonkpjfespgppkfddpojndqnqpkipomhfppfpqnsohmgqppekedsdmseqskjsshkjqppdrrlqpmmghsqkoklgsdekeniooqrlmfldfiqismgqmpopgqrpspfmojhkepkfgqeerejijqoilhpelefhmfoqfjospqdsjgkirnihhgeniqiopoqrjmoqrfdijemhmlempmnlrsisfpieghogplmdgliielopqkrremkdqqjgfrjoiqkdejkonghflinfljfonknlgfgkdqoseglpgdrohkhlhlhprlmrifqhsipiqhinopeejkdgoqsrfninmdpdqmdlkdfkljpjhpmfmsqirdoqdemoridhfirsjprrjjgekhjedklhlmrhhssijsnjikrdndinjdkqimdgjdqgflgepsfkkdngknepifooerqrhefpegkenrdmikmlehksfnplnefjhgqohjlgodinnkqhgdkhreifspilsrmsqglpfksqngmqdnesmgsknsqmqrsqqqllpkkllldsjmjrlgmnjnhdsorpfoimgemqjklkgigjjrpdnokfnngskfmoippopmkiffogmgiqpqmpldpgnfljoppfgkkordoijqmefgdefjgpgmrpeppojsehidfngqofifshdddepdffgerkgslhqnknnedfmnriofoqjdfsngsqnknessijphgpqefgglgonkprrfqqmfmerpfrdmirsgsegqgmjhkrhhdqffeljismknjjdmeoekheosdhissmigimdggmklirqihosljkemqsggfpmrkjmdfiskpnlqsdgrrplqillsqmdqrkfpqrqedlppoqmlqgeoojemfdfrkgopglrgfqpfnffpnsknnmoepggrknoiqhommnofflpsqdqkkloodqrhdqikqdeoshndrnohspnspmdldkfrjeiqkhjsgmqdfnrdsjeiddpngiojllsosdfpliigjoerjjrffffosnsldlfmffijegqijrgddnklepdnjdqqqmpofdjppkiggeigjekghrkegeleonopiglqiqfngkdmsglgeomirnerqmeeekkggdnpjlfleinkdkseerfflohenfhikiqesrjofjriojeprppgrpdsfqokdlkpmsrmglieqfgfolpskjnkiqijqmrsengoqifdpgsrdpfphnpfgjjfdgsnmokjdfdikgekrsenkmglqjfhkkpjdjlnkdqdppkjhkpohspgkfpjsghjgeqegggeqqhmekklqdfldqrjpsfoeigsnmeqhqrdfoiskioelnjskliklldgdpmreqilpodlekfkifrmsgglsenghdegjfjjsqgjhkqgmlddrjsqojllhfdhifgnjijhgiooldkgnihkiokrohpdnldhpndkdghssmmmgnmskeiihloirqioneqoiloeemejpjfpkkermfnqmmqnfgkgghjjllipmmjilopglmedniejfogqjpeeipinrhqqdnhihdpkdffeniljmemsrqkiishkispsdkkfmngmdgfmeeeorlilfkpsihpndhijqhqjosfmjjhmmshkpodgsdendgprsflhjhesnoqlrpmeoiqjrndjklrpgkkphqmnsojgeiefspqeqgfskffplihfhpogllnhmjljjipqesjirnqnmgjdphoklmmfeldddiorsllsinsfsjhdqnedhnsdplhnlmrhopkdhhsjrnqhhkmhqjnhlmjqidjslgfljlkhpsjknjlplfsiefgkqpgplqormhfpirqpndkpipjfjnqnohmnfrpfnlpfgednomqjkpjimnomismhsgmoipnpljqsegkeloqikdhjpldhomgkjpmrmdlseiqsqkoohrkgfhhfmfsenrhqlhrlqojlpmenfpjnnsqrfgjggejmpfodmqhihnjkhsgeokdnqhhojggqidofeikehgofhjdikrmhepeklkhihgqrdfdfngienqehelqodjsrndfrkgqejihrkkijjdoilgqrpgosnmeddpqelijikqksdjnifnkkikjirqpgdhdigjdiirnjhrjodoippipegfksegrpqoqskomqlmnhokflpfqljlnifkfolpdndmohoosqdehmirdlinksdjpojkfffrgmjhpheqnfgmdsqdmmmdrjjriegfkfkedgshleifjoqehhlkpejqllesrgpopgdpjhejieiegkksfrqehqhkpilqpjpnloropodlghikekgqneqqpdqpseklmjrpkhhjedjrfhsfesrpplqqmfenernphrofdohmmsnllefmongjooohjfhekfdiilerppjsdorpgheppohkqlgofsnsdesdglpfhjkloqmlshglormigirhrldplqmgrsjjqhjfmlqsqfpsjioqepqdnneedqekmlelkoolhrhjfpodnlfmjgrndisdksisdrhhdjegksppqojppsjdnknljnkmlfringefmjhhsrrslm\n",
      "\n",
      "\n",
      "eknekkjpohsdgnliggkljkdmrngikqfiekjimqkeqjfnphkgeggggkdlqsoqepdjhghkhdfidfhgpsfngrmhpgpninnginnmorjkqkilnnpfmdjqrpkdssfedgkdlpsieherkkdnkihriiddenelrfledsogqrssmdfnllrmheqpengrhsolgirnsemgiqpmehehlgrrmpjrpqprknolponniidsgjjnhnmomfokjqhsfgnjqddinrrhslmeleomrhfqrhfrjldekrfgpnrdkipsldljrmepjpfhjgrnjeponmjpqnjsqngeeosmpogirikgqkismnpsflgneslhjdnpimsqindpgqemgkdkggdmmreosnrfglfspesqedkfmpsmrknfgnklmhdndsoigojsgdplopsddinpqoeqofrioknmjenlqsdliqefmqfeojrqesjehjijhohripenifilhdkgpqeplkmpqholmqeosgqopjemiqpifnmhiodsofjeoeplgpssgolnljlpgfhkpkhfksjlfqrksnqgrsgipsenqplnndpkernpfrirligfgqrmpfingooofppphsokpghisogfkmlienkdgkhoqrpnjfgejeimidjfhonoolqmgsgijdqloliipphnieekhlioemfkgfrjjpfdqefmmpnlhiqmmdmfdhdlekeklqlnefrssqoppgkmgdfdimqglhosrnofhgqinomphlfsrslhohrjlqqdlgempeeokdpqhhoreqqiqoqqgornqngkgrdhliipjeffkpgqssihffnrmkqgplkhqndokqpiisieqpmqspmidkrnmfejmqqhdogsrqkksqeikljhillgnpfiokmgoiiinnhhqrdgmooflflffkrqqglnkdhqhfsplqrejqnhoqsjifipphhhmodndkpkijgegghdmflogmopdspgmsjjdgmoqoqggfmhohordpiemmqmjgqnpmqernkqkshrsqoeokffkpkikrokkoklogqrhfdeodsrrliirekfimgngpfihffemffqirgnpkhldsprnqdqdgrnjikeifegnogdnomppkirggkppejnlrosjnfhljomrpqfedhiedmpmgdpprsqmlrinmeqdrhpmhhgnnffhnidnfkdnroljoonioenrilmnpgigpmfnfesnfpkqjnqnqfniihkphepqmlheqogfqkljsffirpsqmpigkqilgffqknghmmlkjlmniiigqefffmrdqfljfpgqjdepdsffqlogfspnlrmjeoopprgihslohdjnefekkrqnqsnrqpsqrofpesgjmimegqsnidfkpmnlilhdngqhmdmedlrhmdjonopmookoidrqhdmsilksdmolidonnrfhdhrhmpjisholkkjkhhrlqphhgsirojfpfogejqgmihqlmmiqgelggifmrpsqfmofdffloomgefsrjjqfmsqednsmpslihigljshlnpmdqmklesgmlopqqjpqnmjihieilkppfheogfedpgsdjispfphqgjdkerldfimiprdsjnffeonomhnniqlekrfqrpdjdkqgdgjsdoefgmigksmhspkjhjqqspqdqosnfojemsskrosijnshffpqoqdgfflnggfdpierpdnhdslsflipijrqlqeggdsdmqifqqppseiqfdfhdsjipnirjopkpehkqdkiloqdrnrkpkpssgipokiqhjekndgmgrskrooknjnjemrorsmoiosonifodkrfdedhrnmlrfmklfsjgormfefgqfonoqmmdpolrlgnnjjjgskefoqflinjdkoqrkomihhdjlrkgpgkjjkqsjjsjnskerjperkgsihrkqmldqldlposhnfkkpqerosjgmpkpnqjhmjlesmpikippnsmqdpolprdsdfmnpgnhqsjdflnhiidgfegmedeshfgeojdhorspdropphoqfhrflinfhkqlmrfhjkqilhjdsjpekkrfqjfidqmkkmkqsqmehrmioeekjojelsqmjiqssllsfgfoqmqpgfjqqfkpsmljosgkhokdenfmqeoildeqmpnfkdrmndnofprlldldpmppddgkhldidopolidnkhkpgngkkpgqlogslqodqelqejgkngqmflernskoiehnjlgoikhlrjdgfkefsolrjshlgmhpnenrdrgqhfphmsoqkrhdridjsosjmfdhiddsmlnrpkqhspnnmgrdlpissensjljsikssqkpflmefhjfsfijjqieekkprhgkedslojfokripnlmoqdrflfpnipnnrggkgnlrdoifnhpleijsqnpsnojljhsfkfqgmqremqrgsespnspflreefgdmhejdkqhekifisdfgnqdneskomdofkshojdpskqkofgnjdlpqhjlhjqikdfkmrmndfpippeqeqroksprgfleonkdjiqmnigrigkndjpkrjirriirerqpplsnekenfphnqnmeemjmomohghfdhginmgsmhsrrnromipmomgjqdofrgeghhdhesjjpfhmmgpqsldffogeinhhijjqhrigrpsgsioikjjfehfdrpqlsnmkiqlimhidsrmolmenmenqdeinkkoikkfhhdofooedeigeskjijilkojhskrefjqfoddfrqdsjqmriqfsrgrrhmeonlsporjerkjmlkripgifdhrqkqdeghpnselsigejqgmojorlkkpsdrdekeronklsldoofnnhqgllkmmhflnfpqgedrhfemsiejjokedpqqkdqmqkdidgjhdloqpjnpmiqpljminldkgflhphdkdppkosqkksjpoqiodrnknpsngrgdjloqjepnrdhnhhokgonlfrpqqggejegolppdooedeghqmdspinrfeijrfnqdkhshedmqqldqnlofdeoenqdkjfirmfenojrnqrdlpnsoljlfqrqdsiqhiqqjihpsrklrpiklfhnglhifijejrnrelgshmpqkoeggnogojpqpngdoiqfjjqglkhkjkdhljkomqddsqgkoekkhgedgdosdkkosdidfdfsrmjijskgodjhondseisjisrfepjoldrmefndldhkrgkqhfsgshrfgknkjkqeiqjmojkoisnqejjiofkdkedpherfrnlgrsjiiskskodjokfnjqdimmnqnhoifmdffhgjimfndmlmjohpjkleinklglepejkejesnpppmsolgkrilhjgslngshlreirodhopkknjshmjfiihjkgfmoospeqphiplmspnggpmhilpooiorrnsqmqjqlkjiifmgqjpqkprorjnkqrjddomilplqqoleironkqjgjosmnnkqmklpkrdqrismgpjrsmiijmrdldhmpjpigieiqiogrhjrpgplfdqlqhholopqklqghnqniimgmnneonljqehdskplkdmlonllsdjnijjmelplhljpomojjjogirhfggphomkpodkrrieiqroqjekmshligmjkplfiilfigpgsqmehllojholfjedknklrdqrqmmdrqsqrjinghmihhkjnfqqnhgkfjsfdphiemdgpgdigljghkrhlhqpplmogdhrhqjfdediqgfkdjdhlflksemlhhskihkjgmgdsdjspoifipfjrlrfkhinqehglojmpmepmdmeiofsrfhsrnspnepdqqjojllilsfrrnmsmennomjrgnrqmriodlogjpfoferjsdkdphlflpfqdnhkrhjmkilrjomjpidfongrkkhosjrprejifrlmdheomldqjnjmjhqihpepqqiksskdgjmnfrqpgdksmdnnmmfikknlmilkpseplhomkgfhmjrpnokdpqdlhmdeneneqmpimnqnogonhpemegrdmkdedepljqdldmnqsfhishsoiq\n",
      "\n",
      "\n",
      "ikhdjooklkmjhflfnohhiiffndoeihrnhkqljolloorhlqonefodsklknhqrjiloogddksrfqdsqolsidreffhhkqmdgpqhpilmsfokjkrejorfissqikppmqgmdojmempifhrqkilmsqkdjdqkqinkinfjdkqmnirosiksppfkmspprkqdlqqeqiiqeishqeknikhomsqglkkenrssoimeglsqgqkgsskqllsjelrqkkdejrpphidrrdqdkjhjselpgdjgkofmignphjrhmdrrijpkmfdooijedhgehpgshseheqqrlpseqhkmehisdersoelogipffqodoqqgrgjjdkkmmsodfoiilhhhjpgikohfrhffhghdphisrflnhsreeglgeoslfolhngoksgrismsehdhmgdiiheepnkdiehlsdmkdqmpfmlqhmesrsprnooenhkidiiqkdodqqdqknkijeqfroikdiqflhehspqdohlokpskgimrdiklfrdsnnkdmdsrqmdslnjnmspqdfsggnieljqggldjlfqookdhnjgjjggjfekmegikisiigqpppmfkjskeknslooqrrdggjegnprsjhkhfsejfipjispghrppsoplnfhkqjrdnmfkpksfdkomrsepdinqqnmspediedlfnflegjfjrofokmdpirgrmpidekfofopmmdlqpsflmlokhqgnoqeopspplgnphlgdlnflqlkghgsqigfddhgijlosnenejoemldmjpdpkdjheqgfeqdrnnfmdmkolhqiimsrfhrrjfrikfhhgjgekdmjjqhfjqkjhlrooskndejompnjsqlfkdsikkhfisjpdejrhhgmemsfhqrolneeikhpsirhqpspidofonmmfmifjpqedehrisnhhodffqmseeskojgpdggomsnnhirqhpripephjrqirssihmlermoermgqqkhjgklqdfiggehlhmigkmsipkmnljppfjnesenqpmsrfomfgomiqisnshmnroiikfmeqhljisnggqrpkfdgqlgnhjiisliirdsgonmrorqdekgoseddrlpifrghjpkhmmepepdddionliknglholmgmneejjoonjhrjrqnnlmdddsekohnddfljigsskihsmlrqolgsjinroqhsjdjlpeirghhfhlepoqqnegqndeisoolpqhfsprongfpkgdijejhjodplfopoppppofjlqsdsrfkgjhnplqokfoskhoidpjfeejofppgmmfidjmdglmidokekddlokmpglhoojqpjggdoisinsqeheskgnedknnhsqfomelpqrgoornmpgqhfkrffqrfiqjqgnlehdphnlkppfmrpqkfqdphhlmdnesohhglrknmplmjpjiphenoiemnmpjrjenrejodpnmgekfpirllppndlohoflejmefigsdfgepdrhhpjrmqilrirpsllmismornjqheohpginikqdoqfeeggkdgiongfmijppljrjmlkdfjngphgdmheqknqosiqlqednqfomkoldqkhenhrnsdpghmggkoijdqfjeiqqnsgmfhfjeplsnmjmfrglmnpelqohosdgemnrrhspnseflfgnfkfqekqqfggqhqfkmnirlnsfsnhqedriksqmhlrgqlnjpqlenqeflkjkkoogrgqqfifmgegeniimmjfglldqojlnkphjldlihngeejpkhrepjredgjhlqqjmqiefgnslhnpnlkdmjlgqmelgflrnkgsigflgmdsqqnijkfjegflflqlmprljrqijhqoodsffnkqrkrmdlqhmenmjnepfidjddomjemgdesidgjffislrrenjfilkqedlrspoelnlsdsmfefnhpnloeqjdfkdeopkrsjlenisfneomqmhpsifoohrqhidoddjiqrjhqmphqefkllfhhggmdihhmhieiqopoidsedhppiggjiishrnroeoorqjemehfdifjomsnfflfffiglejnpfkdrpmfdipqillnqrqngrfsnosnlgjhhqionrdsgqrdjilsgsfkloreqlrdjfhgfglpgonsqokhhspdqsjmiimsegslnkejdkgprlsripsneqojqhdijqpflhdornfdjqhjmprspdkjmfrjqdnohjpdofqnegsrgoirnjpejqglejfingeqeknnrssqrmrfffrkqdkshnfrdqpnpgnmkhqlkiojplehghnerrgnmpgiinmojmkoohjgsjojfqnmhkledrsgrdqqjggpdgkeqoheqkolfjdomjfofsmhehgpsnpmemfloggnmedmlilmkojlqrhdqsehomeqfimpgolnfgglfkfipdfomqnnkqojgdfjglokhdmmpidjkeodqpdphrsomssinsgrrllempjfioffqhsgkhirqppfnsojqenrhlgjfnrsmkkpferepqjkspihogfnqsrohnjlfhgeglhfmohjgqehkiqrgooshhfmdgqfiioqmojmfjersnslojodkidsnfsjlinqhnkenelqrdegnqfilgmdskrshijsgrdedningdfmqqggppoihllklmpdldfkseoidegrdkoqhfkjsfrplnqedlssijpgefrshihhnnnjomeognhpddrighkfdqmpemlplgjkfifnedndfrrqpleeqkjioklpojoirmldpeosikjehknlnefmmmqgmkopfepqijsphhfforofnqdjhkkoghpiegpegnsmpogmqmirsnnlfqqhfflflgssgnehghofeidlpmglokeflsnhkpnfoejmhhgfjgojefosidkgisdkgllqsierosngnsojlseofmsjjjllsqghmkghhnipmlipkprgmepeqpsfhejlhfdphoerhrqresphqipdjfimifpprngnqmfrnkmnfksslinkjrlhhfqoopsnkdmnpesodqofkkpgglmkqlgdsmplhprseirgsiqgddnfrnjorgolsjlpphhirshkjgqomghrhfsmiieodpiejrrqqgoqemjkpqjkrfhpedpionppfgisilmkdhefdohqlkmrmifnsrpqhfosdkoosnqfrkomoqnlgghdmfrgrnhqreerrmsqfqpjpiikqlgrsmjksmpmorollndrfpopjmgfflsfhjqjrjjnlkelsqksgfsjngqiqnokeqrqmneqeefogdlhodmpdpkininggmknoqjsmqghemrolmjjrldhrmepleekdooshjoerenfgdnhgolrgsnlfrpsklpephiprosdfnmjilgnqfmmorqjhnkrkhlkesdenkjsfqemqqqpjhqmemfqmlohifsmerfsnpsoeshjghjomifpppjlmfnpsemipqldmjedqmpiqfinkmidrgqoismhjlmqkknflqskkdgssinookjqjffjsfplpjngjireihjnimefrefeqjggpqgisqmlhqmiqonkjsnfmkllddjhgipjehejlsfismjpileqkjgoihfkmmkqiooifpinrjihlqgehnipfnllkhldekiqekdqhkdprhsslrhkgnjmprrjroirloqkrgigmohleniopqsmqlmnnkjeoqehrgdrokddhegnioishddmljqfsgegqrpmmkhmphjpglkrkdnlosqrsrgmgkqlsfgiilsohrrepsrppoprpidemifgjkspeeefpoigkkpqeppoekfpqqmmfjgrnddekihpgfifnkeoigqfgqgimqhenrmnfmjsiilgmjejdsmjdlqomskkmlnrhsejqomolpillfkifjefkgfsmkokjelffjljdodlmnkqhdsonmrokshlspqrsjjjihkkegfginmkidreegeilqoisqldijdhpndnjlqjeoqnnpdokspqkknjgifmsdmkrpsonhnldhophophhe\n",
      "\n",
      "\n",
      "siiegnqkdjkjpserrnkqldjmlrihokgskgijieidrloepfehnpoorsjfqnqeljdmpgohffhkimoglmkeferooqqpfprqpdeoqifsnmimqeqqfrfnikirmlfdmrkqdhjnoffndjsqrefmnqmsosedjfgkrnkfqfnjiersgnsdmssrfjmhjkkrhfpeqkqkngdekqnfheefnmqlpssrmqefpiffjgohieihlkhgfhprenflimhhlpemgrskfnqfnjpppdqmmempdoeqegqmflrjoondejdjefomjffgklilkpgshsqsrrleeofnmplphkofnjhfqgsffgsqhenenedjgqllnkmpkksjqrpelhhihndeimrnsijsqmndfnfspprpmmjhqorgfhljkfsldmfshskpngkoshrnfomekmedhdeirdlifihioofkfsofhoggnkjoslhqndmnneklmlorljpdkgsqfdshgsohfekkosoegnnhnqfrrffnorprmnkflenhenglsehrfiodhpoolidhkdmklnoidgkjldnksjrjgkhlhgefhdffkfglpikomeisggndfnglmoffpskqipinkopejhkoqoijmemnpodifgphrghrhnflrhidhgssesdsjslipgpfqmrfnlqsijerkderidojjigrijmrrgrmimjqgnndmeogmgjfdjgqdlioofsirljnirsshieikrknhsmfidfseesoqehmdimshohphknljrkknmsishfioqqsfqmqdkissjsmgmnjrjsehhemrrgjokgmfjjeeigrorelsrenkhpdgmiehjejelrijohsmrrsnnroffjoepqodkfgssshjfpegpgdhphgkqrpoloiqeerndhgflhhhnprnkkfsimllrrohkodqmpgqihqjesslghdjlirmoodjoqifjodonrqhjsjigndilrrhfqpikioipsinnigpjofgolspdiplqpplkhikpgmoemsfsnqfoiglifrjkkjldgrhlijhnkrsggmoqoqimlogrjmfrodqfeqeffjqlsdneigemgpneesgsidjqrmeejpsfkrrpjkgjmdlrrklpnsmlesklghnkldphqefrnifrhjmrgdmmfldggddmdjdhqjseqfksskkqlhjmkhjkijhnqfkmmssljhdoilijeddfeqphdnmndfojsnjfhrshplqdidpiejsfgkpelgsnrrdpehrsmoeqqmikognmmldsnqlfoqeolkgdrqhrhkfpehgqissmpdnrfiigdhkqikpeinklorhkrprlshgogdonnfsgroenqgkiopkdelkrkdgofnqmorhmgjjieqfhgmjfjkrpnkpjiorefprpqmjjomqfikgpphfdjgrggginmjhnmknmrmfpjjeorglqkpnkqssedoghfgqksehhgqfrkloesphioerefhhsnpngfrnrrmjkdppiodkjogeiiprfsoehfjlefflpkmeppdmsogjgegoqlsmgjqmsrdkoqfdnqfemdgendqhhlgpfjmehgjqdpimplsejggigjlrrlnjejmodpmrrdnkslsqedsqirfnkoljpfkkfpmmpsinimesdgpnlsooninmeonrglffgldnfogpikgdnnhhonnfnhopdqfmnlsojijrndmsmgomoqjsmifpgljslhojpqierskrienqmidqpmodmddqereoilnqogqpjmllpihenqdkpffkjgnernehhidjoojsoqfqkfkmpmodrioillfjslmgghpqsgrgklhdrjkqjglioejhirkfsfikhdqfilnqhgnfsdiiqklopnqlhpfhhmonmsmmnnnosenrjklkhklsqrdliqidnfmqglrfmlhplsmqfhjekgnplprnlnksildonomkdiemrhhelrjqdhqjmlnplfpogsegmsiomlgddehmdspepnferrekfqpqgdkiqorrqfleknjokokmrnnkprrrpihrrijghrnqjrqilhoehogkqnknneolrdrshrpmpolkdgkqhiiplmsogepqlinelprmdqfndpokjlrkgkffeeknglikdishdrokjggljprddhskgmmfhkmlfoopdmismmqqkrkfshqffiokirsqgqfnpkddseqehsdjllmdmdmmqmrmsggmgmqjsrhieqpqrfsqfghhqpqrsmpsqfojkliesrpleseknmserneiingkheeirepegnfllmgkrqdmkkfkmemdlehmkdojgkigflpjqpshdlpmqieglpmeieregfqklheikdlfsidsqpkkjddjeihrhojjhgqqkrkgkdnkimldopslikggsdplnokqndmjdghqorrhpoikirishqmdqhqkeqrodfkionmkgdogfdphohrngdqffprjigrmlkopoihqhfihkgmojdlolshfsmopspgplssqmrsnfpigmhpdkgfnokhirijgnhkokmejqpjpjemjpqqgmdeikhodgkmlffjmnfdngjpipgrmhlqdhnelmrmjrrjjlgsghmlgdgooflqgijrhghpfijkljseglinqjjhkrendlohfkjkljermfihjsgehdohehqqonshmphrhjgddephdegodlhqnppmojjgljqdqqjffgjijidjdkffrdhopinlmqfdejomihhhmeormjeqgjdqejffjesogidskofgqrkspidfjpmrilfmhlfldsmifejknmigmmijflojoofldmdfnifsdfmreofgnromnnmkrogiprkjjolhgjgklhjdkheqdpfqmqkfmpeijsnmsikmmslnofhjjjmkqrisooekpoplqgpokonnigpmkihfrmjeoshojessmikqgsdpnipefpdghiqoqffskehkikpilosfefnliefpdfsklknfhrfqemgrejdnserfrgmopsegpjiddkhhogjsijgmjijhhpoqiomrqqniornlrofddsfhephidnjmpljgeqmifijqfljdisemoeshingpqdepdkipdlsmigjpsqmjhmemphflpiessniermehiisplfijgjslrfoesgnpmpsermdffkggmignfflselmhpgplikpsfsogqdsqedemdmlpknkqjknqrloeqnoniemkdegfjffpqjdpkfdnrdspsfjesiompdlmekkrepeejpfgjkhnnmgpqsqjmlsrfjinfkpfggjnhhkfdnglkpjfpjinldipsqfpskneodqgffgnleqsjiidekkrpsjfsjedlhdoghrhqmsopldpkqilrrohkijmmdjkkdiklriohkqgprflnemmlfgmjorqpdrmjqpkeqemhgddnnrprgdghmhjnlrpplogilghlpoenmqfgogehdflisfhgjrdodoeqphprmrmeqhsnojfejlmhdhrrlimqfresihpondnkqqoiprleokepdqininlljpfignhrhosjnqmqoenmgrmgpdmniihfiepirefgflieghqpknjslrlnqsefdmdqdjkdsnrpgroshksernoosddngfqmjdsekfpqgjoqkgklorhnkpigspqfjffpfdmmrsqpsjdfsklnnqlereljkgegfkkqgpqlhjlmeqrgmidoorjqisqdnqrplljiqehlrjghjsfssnoqdgoiddkdmjqhglglelsikjrsiqddghdmkknlnpnifkisfkddphefopskpqrjrgneseofqojnhirisqehgmmgiflhimgslnfodhkfdenrnpfseqffjphfeqejsqmdrsepgmqossnrfkpnijihnomsskjddomehljmhdgmhhlqpksfrroolnihgefppdqlsnsilldgismjqrsfmeeirfjnliqgoeieghrmiedrsqnlprenkgqkgllgmdmlpmdqqpqjjjidfoegiogpholpdrgkmfgimmdeqeqeskl\n",
      "\n",
      "\n",
      "qkggphfihopijdesikkdnpdororeriijldflqeidglhfnjmeeldqsogjojqehkorrnlhdoqrpiomjkmoisnklinnfgoioskqdhghsjrjhhdqnhnihhiqklsphngnfildegdgrjiiqqildmklifiomfgmnmneqqfodofsloqsdnhjflidhooorhlnfrqfodssghnehgejslspogllodhkmkkoriijojgpnfqnrmlljsgqqhidekdorhjgjrihqosphoespoemsjrhipipoffossomdmsddgfsfqgijmdkmkqejmiofehgkpqnsddjrqggelfgfjhlfnpjkgmpkfnjpigpssljpssrsoirqkgfnnrsjkfdgnkopsehpiqhrendeerfrdonehgrhimlggpqmghegeorqrsqnqelepfjlkksrjlnrnipdhpjjjmpishdihrinndqehpnesppllqnsmqkmlhhfkfsngijejikjsgmgohsqgdgpeepdfqkokeliimdnkiiiedmqjqijkfqggkhmpkrfeommphkdihgnjqrgseonprerqdnoodonkmjooipfgsfdkrkonrieegdlmslsfseiqjleglqkijsnnnppdkqlpneklisemqhjqpqknrpomgjgsrqrnnsjeiqiljqirngfminsnfknhnkdgekkosssilfqqijnsnlojnisgpmjdrsprkogqnlosqjpkiqpqnsekrijmnfpdhoepjrroqdljjeipdqjhirgksjfjngedlkkokrlniolqsjqodpqdffhmmomnserrihfdkddqqmmhqpmkipmkgpoqkiiholefosqnjqqrrljhirrfssqpknrlkelqrphjohmlqisognklqjhgifggggoloqhefjfshosddoopmglfmgkehpfposslonjqpgpekkefprjeniklenjdhmhsjmmsfmgshofiniqjfqsmsfghggkflnifpmohsokjqjpnkfolrrksodkijsopelfmifsnphsmlkirjogigqjrpldjpfskliosqisrinqlgrljfsmfgkhslrmpkosjjgdhnrekgfqgdlrjoninmqedqphmijmrlqpodhpqomignihjsfepnfekeddrjdjjfggnfesjngejiklqgrpspkforjigrepsnhrskhgikjdrekoorkgdfejfjgfdildjoolpjqkhqsgkimdfornpqqiniqlosfqglhfjesonhqsjpdrpmppphseilhhkmisdjhfllkimslmosenjsepgrjdiriqmknfihpsdfoknleljdkpleorijdrgeememkgedrjpkpdninsdedlsqkssjkhhefneipfnfdsllqkjhjdrpkqdkekmfrgslneldpensisdlqglppqgkpmskemrlfdhfppjlmfmjiifqqnnklogpslprjjhnilgokhmonshkgesqglpkfddporfepnqqkepomhfppnhposoimkqppekedkllreqrkfsshkjqphlsslqqmqghsqkokdoreekdneooqrlmfdlghqirmkqmpopgqjhrqfmnjdkepkfgqmmsdjikqsilhpelenplgoqgjsspqdsjgsqsoihiginiqiopoijkloqsfhijemhmlmeqlnlssesfpieghgoqmmdfleielopqkjjdlkdpqfgfrjoiqsldkkoogdflinfljngojnlffkkdqosegdhferoikdlhlhprlejhgqhriliqhinopmmkjdgnqorfninmdhlpldljdjkljpjhpenlrqisdsqdemorilpghrskpnrjjgekhrmejlhmmnhhssijsfrhjrdodenjdkqimlokeqgglkepsfkkdfojoephfsoerqrhenhdfkeorhmikmlehskgoploejjhgqohjdoneinokmhgdkhreqnrqilrrqsqglpfkkiofmqenismgsknsiepssqpqplpkkllllkkljrmgqnjnhdsojhgnimfeqqjklkgiorkspdoogfnngskfeghqpoqmgiffogmgqiqpmpmdlgnfljophnfjkosdsijqmefglmgkgpfmnpeppojsmphefnfqsfifshddlmqefffenkgslhqnsfoddflnniofoqjdnkofsqokressijphohpdfgflkonkprrfiilgmespjrdmirsgkmfpgmkhgrhhdqffmdkhsmjnfjdmeoekpmnrdhhsomigimdgoejmirpidosljkemikfffplrgjmdfiskhfmpsdfrnplqillsieeprkgpmrqedlppgilmqgdosjemfdfrsonqglsgjqpfnffpfkjonmnelggrknoiipnlmnnfjlpsqdqksdnndqshhqikqdeokpoernnhopnspmdllsgsjehqghjsgmqdnfsesjdihdpngiojddrnsdgppiigjoerrrsgffgoonsldlfmnnhkegpifrgddnklmheojdpqmmpofdjphshfgehgfekghrkeommdonnpeglqiqfnoselsgmgiomirnerieddekjgkdnpjlflmqojdkreirfflohefnihkipeorjofjrigrdqrpqgnpdsfqokldjqmssmklieqfgfgdqrkjokeqijqmrsmffnqigdlgsrdpfppfqggjkfhgsnmokjlnehkgdknsenkmglirgikkqjhjlnkdqdhhjkhkqodspgkfpjkoikgepekggeqqhmmsjmqdglhqrjpsfomqfrnmdqdqrdfoissqndlnksgliklldglhlseqhllodlekfkqnslsgfloenghdegrnkksqfjdkqgmlddjrrpojmldfdhifgnrqkiginopdkgnihkqgjsohqdrldhpndkloirsmlmknmskeiipdnhrqhoreqoiloemedkpjgpgkermfnqeepofgjgkhjjllipeekhloqgpmedniejngfpjpdeepinrhqqlfihhdqkhffeniljemlrrqjieshkispslsjgmnfmhgfmeeeojdhmfkqsehpndhijippkosgmfjhmmshkhgefsddnhgprsflhrpdrnoplnpmeoiqjjfekklspkkkphqmnkgkfeidfopqeqgfssngqliifdpogllnhermkjiqqisjirnqneokephnkpmmfelddlqnsslmsensfsjhdifdehnrdllhnlmrhghjehhrjnnqhhkmhiroilmkqedjslgflrdjipskkrjlplfsimnfjqpfppqormhfpqjpqndjpepjfjnqngplofrqfrlpfgedngepkkpkiqnomismhkolnipoppjqsegkedgphkdijlldhomgkrhlsmdmsiiqsqkoopjjffhifqfsenrhqdpsmqokllmenfpjnfkpsfgkgkejmpfodeiihhnkkdsgeokdnipinjgfqedofeikeponghjeigrmhepekdsihhgprhfdfngiefidielpohjsrndfrsopdjiirgkijjdoidopspgnsrmeddpqedqkhkqjshjnifnkkqskhrqqghhdigjdiqjokhrkohoippipeonjregspmoqskomqdeoiokgllfqljlninsgnlpenhmohoosqlmilirelenksdjporsggfrfmfhpheqnfoeerqdlmqdrjjrieonjgkeegohleifjoimiilkqefqllesrghgqfdpkhijieiegkskgsqeiqdkpilqpjhfmnroqohlghikekoiodqqqdmpseklmjjhjihjddfrfhsfesjhqmqqlfinernphrgnenhmlsrllefmonornnohkfdekfdiilmjqqjseonpgheppopspmgogsrsdesdglhnikklnqqlshgloreqfhrhslhplqmgrsrrpijfllmsqfpsjigidqqdoniedqekmlmdjnolirdjfpodnlnekfrneiodksisdrppekegjslpqojppsrlojnlkngmlfringmnlkhhrrnslm\n",
      "\n",
      "\n",
      "eknesskqohrdknliggklrselrnfigqfiekjieijdqjgnlhkgegggosemqsnqipdjhghkplghdfiglsfngrmhhoqoinogennmorjkishmnnqfqdjqrpkdkkgddgjdppsiehersseokiireiddeneljnmddsngmrssmdfnddslheppingrhsoloqsoselgeqpmehehdossmpkrlqprknolhgooiieskjjnhnmoennjjqisjgnjqddifjsisllepeomrhfqjpgsjleegrfgpnrdsqqrldmjnmepjpfhrosojeqormjpqnjsiffdeormlogirikgishrmnqsjlgneslhrloqimrqendpgqemosejggemqreosnrfodgrperqidkfmpsmjsoggnjlqhdndsoiogkrgdqlspsddinpigdpofsisknmjenlikemiqdfqqfeojrqmkkdhjhjdohripenqnhmhdjglqeplkmpipnmmqdoogqopjemqiqhfnlheodsofjegmqmgprskolnljlponijpkifgsjlfqrkkfpfrsfilsenqplnflqjeropjrirligfoislpfhnkooofppppknjpgiioogfkmlimfjegkiomrpnjfgermhlidkfdonoolqmokfhjdplsliipphnqmdjhlhoimfkgfrjrhgeqegmqpnlhiqmellgdhelikeklqlnmnsrsqnplgkmgdfdqepflhnsnnofhgqifglqhlgsnslhohrjdipelgdmleeokdpqppnseqpimoqqgorniffjgrehpiipjeffshfpsshhjfnrmkqghdjiqneogqpiisieihlpsplihkrnmfejeipidofsnqkksqeisdkiilmgrpfiokmggqhhnnihmrdgmoofdnmgfksqmglnkdhqpnrqlqsefqnhoqsjqnhqphihqodndkpkqrfdggidqflogmoplkqfmskjhgmoqoqgonliohnrhpiemmqmropopmpennkqkshrkindokgfgpkikroksgjmogprdfdeodsrjdhhrejfemgngpfipngdmfgqergnpkhllkqsnqeqhgrnjikeqndfnofdromppkiroojqpeknprosjnfhdrnlrppfidhiedmpeoeqprrqqlrinmeqljiqmhigrnffhnidfnjenrnlfoonioenjqmlnpfikpmfnfesfnqjqjoqrqfniihkhpdqqmmhiqogfqklrkggirqsmmpigkqidoggqkogdmmlkjlmfqhhgqdfjfmrdqflrnqfqjeeldsffqloonrqnlsmfeoopprgqprmohejrefekkrqfirorqqsmrofpesgrehlegpsridfkpmndqmidnfqdmdmedlrpeekonnpqookoidripelsimkodmolidoffsghdirdmpjishodsjkkhirpqphhgsijgkgpfngijqgmihqdelhqgdlkgifmrpsinlnfdgfpoomgefsjrkpfmrqidnsmpslqphfljrhpnpmdqmkdmrfmlnpmqjpqnmjqphdiljplfheogfelhfrdjhslfphqgjdsmsmdfhmeprdsjnfnmnoominriqlekrfijqejdjqkdgjsdoenolhgkrmdspkjhjqikqpdqnsrfojemsssjnrijosdffpqoqdongmngffhpierpdnplrmsfmilijrqlqeooerdmpijqqppseiineghdrjepnirjopshdikqekeloqdrnrshjqssfilokiqhjesfefmgssgrooknjnrmlsorrmsiosonifgljsfddddrnmlrfmsdgrjgnrqfefgqfofgplmdqoprlgnnjjrorjefnqjlinjdkoijjnmiihhjlrkgpgsrkjqskjojnskerjhmsjgshhnkqmldqlldqnshofgkpqerosrolqkpoqfhmjlesmhqjhpposqqdpolprlkegmnqgrhqsjdflfphhdggekmedeshfomnkdhnropdropphgigirfmirfhkqlmrnpkjqimhfdsjpekkjnpkfieqqkkmkqsqemismineikjojelsiekhqsrlpsfgfoqmihfgjqpfgpsmljososinkddnjmqeoildmilqnfjdnmndnofpjdmeldqmlpddgkhllqenpomihnkhkpgnosjqgqmokslqodqedidkgkogmmflernssghdhnklkoikhlrjlogjefroprjshlgmphodnrerkqhfphmsgijshdsihjsosjmflphedsllrrpkqhspfflfrdmpessensjlrkhjsspklflmefhjnkghjjpiiekkprhgsmerlokfskripnlmgiesflgpripnnrggsoomrdnijnhpleijkioqsnnjpjhsfkfqoepsemprksespnspndsdeffdqhejdkqhmshgisefknqdneskgeenfkrhsjdpskqkgnfojdmpmhjlhjqislgjmrlnhfpippeqmisnksqrkfleonkdrqplnifregkndjpkjrhsrihrirqpplsnmsdofpinmnmeemjmgenighgddginmgsmpkssnrnmepmomgjqlggsgefhddhesjjpnpllgppspdffogeifpihjjphnigrpsgsqghjjjgedfdrpqlsfejhqlhmdidsrmolemolenpdiinkkoiksniidogosedeigessrhkiljofhskrefjinnedfsqhsjqmriqnksfrrimionlsporrmsjjmmknipgifdhjijpdefhlnselsigmrpfmokonlkkpsdrlmjdrookpsldoofnfppflljmqhflnfpqomeshfdmoiejjokelhppkdpmmkdidgjhldnppjopqiqpljmifdejgfmhlhdkdppkgkpjkskpsqiodrnkfhrogrfdfloqjepnjliohhnkkonlfrpqiofdjefopppdooedmoipmdrpenrfeijrnfpekhrhidmqqldqfdngdenerqdkjfirendoojsnmrdlpnsodrmgqrpdoiqhiqqjqpqrrkmrliklfhngdphgijdjnnrelgshehpjoefgrogojpqpfoeniqgjfqglkhkjslimjknmmddsqgkomsjigeeghosdkkoslqegdfrrqjijskgolrinndreesjisrfehrnmdrlejndldhkrospifsfsdrfgknkjsidhqjlofkoisnqerrhnfkekidpherfrfdfssjhiokskodjosnokqdhmqnqnhoifelgghgkiqfndmlmjgpqkkldirklglepersdkesoplpmsolgkjqmijgrlrgshlreijgeiopjkrjshmjfiqpkjgflosspeqphihdlrpnfglmhilpooqgssnspmmjqlkjiinefpjppklrorjnkqjreeomhlllqqoleijgojqjfjssmnnkqmsdqjrdpresmgpjrseqhkmrelhhmpjpigqmhpiofrdjrpgplflimphhnlspqklqghfiohimfmrneonljqmperkpmkhmlonllslrohjjlepplhljpoegkkjofinhfggphoesqndksreeiqroqjmslrhlhgqjkplfiidnhfpgrqqehllojhgdgkedjnglrdqrqmelspsqsjenghmihhsrogqqohkkfjsfdppqdldgqghigljghkjpmiqpqlqogdhrhqrneddipgjkdjdhlfdsrdmlihokihkjgmolrejsqoefipfjrljnjiinpedglojmpmmhlemehojsrfhsrnkhodpdpqfojllilsnjsomslernomjrgnjilsioelsgjpfofejrrekdqhpflpfqdnpssijmjiprjomjpilnnogrjkdosjrprerqgslmehiomldqjnrekiqiipipqqikssslfkmngrmpgdksmdffllfijkrlmilkpsmhmiomjgjhmjrpnoslqpdlimheneneqmhqloqnngsnhpemegjlljdeeelljqdldmfirghirhooiq\n",
      "\n",
      "\n",
      "ikhdrgnjlkljdflfnohhqqggndneehrnhkqlrgmmooshpqonefodksmjnhprfiloogddsksgqdrqslsidrefnpijqmeglqhpilmsngjkkrdjsrfissqishqlqgldsjmempifpjpjillsmkdjdqkqqfjhnfkdgqmnirosqsrqpfjmopprkqdliidpiipeeshqeknispnlsqflgkenrssoqedflspgmkgsskqldkkdlrpkgdejrpphqlssdqekfhjselpglrfjofliknphjrhmljshjpjmjdooijedpodipgrhoeheqqrlhkdphkledisdersomdnfipgfmodoqqgrorkekklmoodfoiilppikpghkshfrhffhopeqhirrjlnhsreeodfdosmfslhngoksojhrmsdhhhmgdiihmmqokdhedlsdmkdqehgllqimisrsprnogmoikieieqkdodqqlijokikemfroikdiinmiehrpmdohlokpksfhmreiglfrdsnnsllesrpmhslnjnmshiegsgfneeljqggllrmgqonkhhnjgjjgorgdkmdgekisiigqhhqlfkksgeknslooijseggkeknprsjhkpnrdjfhpfispghrphknqlnghgqjrdnmfshjrfdjoqrsepdiniiolspddeedlfnflmokgjrnfskmdpirgjeqhdejfsfopmmdlihrglmmoghqgnoqeghrqplfnlhlgdlnfdimjghfsmigfddhgqrmnsndnijoemldmrheqkdkhiqgfeqdrffgldmjophqiimsrnpssjfsigfhhgjgesllkjqiffqkjhlrogkjodekoqpnjsqlfslrhkkifesjpdejrppflemrfdqrolneeqsiqsishmpspidofgfllfmhffpqedehrqkoihoefjqmseeskgrfqdgfoqsnnhirqphshpeqhfrqirssipemdrmnenmgqqkhjosmpdfhgkehlhmigserhpklnpjppfjnekmoppmrrjomfgomiiqroshlnnoiikfmeipmkisogkqrpkfdgidfohjhioliirdsggflsorpdikgoseddjdqhfrfhfpkhmmepmheedinnpiknglhodeflnedjfoonjhrjjioolmedhsekohndlnmkigrsgihsmlrqgdfrjiorsqhsjdjlhmhsghifdlepoqqnmopodehssolpqhfshjnogfqkkdijejhjglqmfoqolpppofjlikerrfjgfhnplqokngrjhohdljfeejofhhflmfhdfmdglmidgsdjddmogmpglhooriqkggeoesinsqehmkjfneekrnhsqfommdqprgnonnmpgqhfsjggqrgimjqgnlehlhiolkqpjmrpqkfqlhiilmenisohhglrsflqlmkpfiphenoimeolpjsjinrejodpfefdkfqinllppndlgpnglekmifigsdfgmheshhqjnmqilrirhkmmmirmsrnjqheophfhnijqhoqfeeggslfhonffqijppljrremjdfknkphgdmheisoposhqpqednqfoesnmdqjhinhrnsdpoplfgknifdqfjeiqifrfmfiffeplsnmjensflmopilqohosdomlorrislnseflfgfnjgqejqmfggqhqfseohrlosjsnhqedrqsrpmhmrkqlnjpqlmfpdfljjgkoogrgqinhgmgdginiimmjfodmeqoklrkphjldlqpofeekpghrepjrelokilqpjqqiefgnsdpoqnljdqjlgqmelonmsnkfsegflgmdsiiohjkgjigflflqlehsmjrpifhqoodsfnfjprksmhlqhmenmrfdqfiejhdomjemglmrhdgkfjislrrenrnhmkqddprspoelndkermfdfrhpnloeqrlgjdenpgrsjleniknodompmdpsifoohjiihdoedfiqrjhqmhppdfkmljhhggmdippliiehqspoidsedphqhggkieshrnroeggspjeledfdifjomkfgglfgfeglejnpfslsqmfeilqillnqriffsfsooonlgjhhqqgosdsfqndjilsgsnsmnreplndjfhgfgdhfnnspoghhspdqsrehhmsdgolnkejdkohsmsrhponeqojqhlqkppfmhhornfdjqprlqrsqdgjmfrjqdfgikpdnfmnegsrgoqjokpekqklejfingmidjnnssoqrmrfffjspeksinjrdqpnpgfejiqljisjplehghfmssgnlpkiinmojmsgnijgrjsjfqnmhkdmessgsdmqjggpdgsmpnhepkslfjdomjnggrmhdhkpsnpmemndnfgnlehmlilmkordpshdpsihomeqfiehfnlnggklfkfipdnglpnnjqsjgdfjglgsiemmqihjkeodqplhissolsoinsgrrldmlqjfhojfqhsgkhqjpqpfossjqenrhlorgorslkgpferepqrsrqihngjnqsrohnrdgigefldfmohjgqmpjhqrfosshhfmdginhhoqlofmfjersnkdnkodjihsnfsjlifiiokeoepqrdegnqnqmfmdrknshijsgrlmeoinfdjmqqggppgqimlkmmldldfksegqedgreksqhfkjsfjhmoqeelosijpgefjkihhhonrjomeognpheerifhgfdqmpemdhmfjkgijnedndfrjiqmeepkfioklpojgqslldqessikjehkfdodfmlmmgmkopfehihkspihjforofnqlrijkofhliegpegnkeqngmpmersnnlfqipgglfmgosgnehghgndhdlqmklokeflsfpjqnfnefmhhgfjggrdgoshdggisdkgldirhernsrgnsojlsmgglsjkjplsqghmkopioipllepkprgmehmpqsfieflhfdphomjisqrdslhqipdjfqehgppsnknqmfrnkefgjssmirkjrlhhfignqsnjdqnpesodqgnjjpgflqkqlgdsmhdiqrsdingsiqgddfnsojosgslsjlpphpqsrhkkgmomghrhfkehheoepeejrrqqggidljkqqfkrfhpedhqnoppggesilmkdhmnenhqmkqrmifnsrhiigoseksosnqfrkgenpnlfgddmfrgrnpisdersmoqfqpjpiqspmgrrmfksmpmorgdmodrgpspjmgfflknikqjsjfnlkelsqskfgsjogmiqnokeqjiloeqdejogdlhodeheqkioirggmknoqrklpghdmnolmjjrllpslepmeikdooshjgmsdnffdrhgolrgsfdgspsjllephiproklgomjhlknqfmmoririokrjhpkesdenkrkgpempqmpjhqmemnilmohhfomerfsnpkgdrhjfhfomifppprdlgnpreqipqldmjmlplpipfenkmidrgighrmhklqqkknflqksjegsrirookjqjfnrrgplqjrgjireihrfhlefsejeqjggpqoqrpmliqqiqonkjsfnljlledfhgipjehmrmrfirmfpileqkjoghifklmgqiooifpqfskihmqkehnipfnddjilddkeqekdqhklhsissmrdkgnjmprjrsnirmomkrgigmopddoioqqomqlmnnkrmnpehsghrokddheofhnisidhmljqfsgmopspmlkdmphjpglsjjenlnsmrsrgmgkidrggihloohrrepsjhqnprqihemifgjkkhddefqoegkkpqephgdjfppqqmfjgrndlmjhhpffefnkeoiginfpgilqdenrmnfmrkhhlgljijdsmjdliglrkkllrrhsejqoegmqilmfgifjefkgnkljokkepffjljdoldlokqidoonmrokspdrqqrrjfjihkkegnohomkhdneegeilqgqrpldhjhhpndnjlirdnqnophokspqkkfrfhfmrdqkrpsonhfdeiopiolhhe\n",
      "\n",
      "\n",
      "siieofpjdjjjlserrnkqdlkllrhhskgskgijqmherlnelfehnpoojkkgqnpepjdmpgohnnijimngpmkeferogipqfpsqldeoqifsfehlqepqjrfnikiredgemrjqhhjnoffnlrrpregmrqmsosedrnfjrnjfmfnjiersofremsrrjjmhjkkrpnqdqkpkrgdekqnfpmdgnmpllssrmqefhqggjgnheeihlkhgnpqsenglemhhlpemojrjfnpfrjpppdqmemlqdodqigqmflrjggoeejejifomjffgsdhmkpfsdsqsrrlemggompmpdkofnjhfiorgfgrqdenenedjoimmnklpgksjqrpedpihhneeemrnsijsieoefngslprpmmjhigsffhmjgfsldmfspkjqngjoohrnfomesedehddindlifihigggjfsnfdoggnkjokdipndlnreklmlordrqekgrqjdshgsohnmjjosneknnhnqfrjngoorqrqnkflenhmffmseirjiodhpoodqeikdlkpnoidgkjdlojsjsjkkhlhgefplggkffllikomeisoooefnflqoffpskqqhhokoqefhkoqoijemlopoeijgphrghrpfgmrhhddgssesdsrkmhpgqfmmrfnlqsqrdskddredojjigrqrlsrgsmemjqgnndemnfmgkfhjgqdliognrhrlknersshieisjjohslfedfseesoimildilsdohphknlrjjjnmriohfioqqsnilpdkhsojsmgmnjjrrdhhdmnrgjokgmnrkdeifrsrelsrenspqegmhedjejelrirgirmrssrnroffjomhpndkggosshjfpeohfehpiggqrpoloiimdsndigjlhhhnprfsjgsillprrohkodieqfqiiqfesslghdrdhsmondfoqifjodgfsphjrjegndilrrpnpqikhoepsinnighrnggomsldiplqppdsihkpfmsemsfsnqnghfligrfkkjldgrpdhkhnjroggmoqoqqemngrkmjrodqfeqmngkqlrdreigemgpfmdrgshdfqrmeejpknjsrpkkkjmdlrrkdhormldsglghnkldhppdfroijrhjmrgdeegmdgfdhmdjdhqjkmpgksrkgqlhjmkhrshkhnpfgmmssljhlghmijddhfeqphdnefegojrnffhrshplilhepidjofgkpelgkfssdpdhnsmoeqqmqsnfnmllhsnqlfoqmgmjgdsqdrhkfpehoihrsmqdrrfiigdhsihjpehnglorhkrpjdrigofdsnnfsgromfpfkinpgdelkrkdoggoqmnrdmgjjieqnpfljfkknpnkpjiojmgqrppmfjomqfikohqifdkgnggginmjpfljnmsmjpjjeorgdijqnkpsoedoghfgisrdhhfqjrkloesppqndreghdsnpngfrfjsljkepliodkjogmqhqrfroihfjleffdhjlepqdqsogjgeggimrmgkqqsrdkoqflfpgemegindqhhlghnklehfjmdpimplsmrffigklnrlnjejmglqlrrengslsqedsiqsgnknlfpfkkfpmehrhnileodgpnlsogfhomennnglffgldfnnfpijghnnhhonnnfinpdpfqnlsojijjfelsmfoqoqjsmifhomksliofpqierskjqdoqmhdmpmodmddimsdoimnmogqpjmldhhienpdgpffkjgnmjodhhhdfoojsoqfisgjmplohrioillfrkmlggipmsgrgklhljkjqjfleoejhirknkghkheqjilnqhgnnkehiqjlspnqlhpfpplnnmrmqnnnosenjrjmkhjloqrdliqilfglqgmrjmlhplsminikekfnllprnlnkkqmeonnmgdiemrhhmdskqdiqfmlnplfpgordgmrismlgddehelrqepofirrekfqpioejiqnrnqfleknjgsnjmrongprrrpihjjhkghsnmjrqilhompnfkqokrneolrdrkpsqmpnlgdgkqhiihdlrogdpmlinelprelpgndqogjlrkgkfnmdjngmigdishdrosrffljqrhdhskgmmnpjllfnoldmismmqissjfsiqjfiokirsiopgnpjdhseqehsdrdmldmemqqmrmsggeolpjssheeqpqrfsinfihqqqnsmpsqforsmhessppeseknmsmjodiioggheeirepmooglllggrqdmkkfsedldldhqkdojgkionmqjqqsddlpmqieodqleidrigfqklheqsemfshdoqpkkjddrmhirhnjfhgqqkrkoseokillhopslikgokeqlnnkmndmjdghigsshpnigirishqmliipkeprsdfkionmsoengfepdohrngdqnnqsjifrqlkopoihipghhkfmsjdlolshnklnpsqgllssqmrsfnqhgmiphkgfnokhqjhkgnikskmejqpjhrdljppqkmdeikholojllfgjqnfdngjpqhfsmhmqhhnelmrmrjskjlfskhmlgdgognmpgikrdghpfijkdrrdglhnmjjhkrenldnifkkkpjermfihrkfdhdnhihqqonshehishjfdhephdegoldipnpqmsjjgljqdiikgfgkifidjdkffjlinpiolqqfdejomqpiimenrqjeqgjdqmrggjerokidskofgijjrpieffpmrilfmpdgmdslijejknmigeehkflnjsofldmdffqgrdflriofgnromffljrofilrkjjolhorfjlhkdgheqdpfqeijgmpdifsnmsikmekmoofijfjmkqrisggdjpoqlmgpokonnqoqlkiifnmjeoshormrrmijqksdpnipenhefhipomffskehkqsqhlorfifnliefplnrjlkofdrfqemgrmreosesfngmopseghrhedkihsgjsijgmrqkihpnqeomrqqnigjomrogdhsfhephilfklplkgiqmifijqndkeisdmseshingpildqdkhphlsmigjpkilkhmdmlhflpieskfhdrmdheisplfijorrmrfneognpmpsejeegfkfgqignfflsmdlipgqlekpsfsogilrpeddmhmlpknkqrsoprlnemnoniemklmfgjfgpmjdpkfdnjlrqsfkeoiompdlmmsjsepdefpfgjkhnfefqqspjqlsrfjinnsqgggkndhkfdnglshkgpjhnpdipsqfpksododpgjfgnleqsrqheekjrlsjfsjeddpenghshmmsopldpsihmrrnhgijmmdjkslhjlrhodkqgprflfmlllffmforqpdrmriqjeqdmdgddnnrpjoefhmijrlrpplogqdfilpnermqfgogeplgmisghkjrdodoeihiqrmsmiqhsnojfmrmlhdirnlimqfrekqiqonengqqoiprlmgjdpdpirinlljpfqooirhnsfnqmqoeneoslgpemriihfiepqjdggfmiighqpknjkdsmnqrejdmdqdjklkospgsoohksernogkeenggqqjdsekfpioknqkfkporhnkpiokqpfjgflfdmmrsqhkkefsjlrnqlerelrsfdgfjkmgpqlhjlempsgmhdsorjqisqlfpsplmjeqehlrjgprrgssoomdgoiddklekphgmgpelsikjrkqpedgidqkknlnpnqnjhsfjdhphefopsshpsjrfniseofqojfphsispedgmmgiflpqlfslofsdhkfdenjfqgsepfjjphfeqerkpldrrelgmqossnjnjqnikidnomsskjllnlehmjqhdgmhhlihjrfrsoslnihgefhheplsoselldgismrisrfmdeerfjnliqogdhegirqiedrsqndhsdnkfqggllgmdmdhleqqqqfjjidfoeoqnfphnlldrgkmfgqeleeqdqiskl\n"
     ]
    }
   ],
   "source": [
    "input_xor_c1 = \"hddldddddhdddddd\"         ## Xor for input pairs (after initial permutation) according to characterstic 1(in text)\n",
    "input_xor_c2 = \"ddfddddldddddhdd\"         ## Xor for input pairs (after initial permutation) according to characterstic 2(in text)\n",
    "\n",
    "input_b_c1 = generate_input_with_characterstic(input_xor_c1, input_a) ## 2 plaintext input for characteristic 1\n",
    "print('\\n')\n",
    "input_b_c2 = generate_input_with_characterstic(input_xor_c2, input_a) ## 2 plaintext input for characteristic 2"
   ]
  },
  {
   "cell_type": "code",
   "execution_count": 7,
   "metadata": {},
   "outputs": [],
   "source": [
    "ciphertext_a1 = \"sldpopoqlnhddpplfsdigghsronpegrgiflsdqgsiisqmigmrnfsdfglkgoooldlmgojsgogqodkrqfqlgedrdmongkpjpfjgdijoqfidgklpgfgpfiirneenrmplrdpriignkpisehfrkjpdkjfmgolgokmmlgomflirpkigopfodlfilrnekmffpfimknlkofjqhkgemkdolpenrsgigkiinedferdjshrnilfsngljrhplgeegmfhqdgqjfqdnhrhomlmepnljehklinfmdininnnmomplqsiejinfgilmirjlnnjfhhmlsppsgpispfjqllheomksoihrneqkomodgdhrdmsfjgijjmnqislgfhpldldrgmfhegdgllqijdpofdkiikkipomfopogjhjglnesdrmsrhkfkhqqhrjrgolgnesolemrjqjqklpreereqprklkqfghofirikmhjlspreleinmlgpenjefmpngpdfmdjmfdeqogjkdgjmipirgqpkmgdnlmfhgkshrkjsknljhimgjglsmpoojiidpdjlojllinglspflqjqkhkjpqkdrlgjjqgllirppnflesdpprmehgkngirmsmhdkghoqrqgqgidjjhjikgogkpklenlnorqoolmqrjiooiskiehhnkmdiqnkjpgfkliqhmiglseojhqerfkkeerekogdprmngjsfermrmophjlgnhhergjqfldirgqdolrrqphgskqklsjhlsdemkrglsgmerfmfrhgghhhhnoskepkgoplefffdekdhnmrsognssilsgrlfjqehhqkkpgqirifjskjpqoqilqsesedmmsjrqmkgojhkkjiheinhdolrsgdinlnggdhsoqmfisprjqisllemoieengslidhonkjhmiefdkofnifgqgijlhkkfjfgririjgmdriflkmilrnpphikkpqqpedkgiqjlfjhqoddsrepqmilhhohplpjsisklenirrdehpsjsokljjrksmeikffdinpjdmedjmndgfhiisdfseijdlfjikqdppmlgghnihdnjhmhrnmmhmedhsfpdopjikgrmikohprmkdhphpnfrdnplrrhfopdpnfhqeljmoehmopoeegphgkqpmppqksogddkipjnkiglgmlierphksodqnprhkikpimldkfloeiprpregnosklmldssolofsdrgklmlpfpokgdfrlglhpfkjorindlhhlfgprpkjjgsnnpmnpfldmogjeendlqjlrnqpjkmhmjrhdjfrigfnfonodjnmhklqgkpjsiemdooflifeheeigjiegghlqrksojqgeilnijmkhmopjqqkdkmkrqpdiqmhneskodosdhinfkkojepsrghqigimeljlroroiihohglfmgspsjskgleenieedssokqkrpqoenfjlsfqsedhsrgppqppfjihffkdlmshsniiordsgpqdljfokkjrqksesgjmokkklkeglisjdomhhkhsgpjprsrfphoohgoempgripopfkinqmrlgfgdiqsmeppfhhgimppjmhskfkdokqjqefmosmqlhnllmgjfsdeefjqpmhhkgjnpkdrhpkmdprnqdeoseddokidddefqqhghgdsjfhoiqppglhrhlohespdsihfnqfljlkpfdokklrkqqisdeemniegfqnfsrpkdelkfmhgdiqldpffmoelnrffmdklmegpheeflfriorgflhjdskqddhmqspeoijhrmnehfipslimohojlnoqrsklddojkgjdopdlkqsfjmsefrojriojpgqnhnolisgdqqnjmqnpiidjesnnrldgrifmfsghiipghpphssqemrnfddkmfdllkqrnqoslrpjjnefdisdnjgldkiqlrfmjlrijqgpnohomhikmsfqmenhfronkjslplsdpoflinejjineplnfsiefsrgfplokgkepkqoogfmqrpsmgdnpfknrlqogodsqksoopofsndsemgnmhfqlnlqonqkdljhesghiidnehinnsgghilheflehnghdnsderoleieqjolleflmdilghfqehrjrlholookhjgkhknrkmgoqmhpomgqpfolqosfgjdqpljklndlefphgrsqknpdfllrnmolngfofhfgrhgsqqmkkimjlgdqdpqnmnqnqrgsiphlepmhpplksresriikhmeqpfrjqshqjfhgqdjdskhdlhfnpmfgihrlnqejrhenplmieiikisjhlfepejkpgnfrdehqooksohsrposijfipnefonpelhslkdrdgmoslggiqlgqlmiidhpjiiqkpgkkeggsligmggifroginkinphnhilgoromqhhkprpeqngofdsimhddfqhqrsrooikimqhhqphgpnmfgfeglefghjqghndekqmgerpeshodhqnfsmhpdlkoknlssrdenpkmgsodqsijnqqqnjqdqgdlqhnmgjfksodofflkeojgsihqofjklroilshjddhgmrfhlfmkonnjpqrgmqlgleipdpemhgslhmjfqlolirkgsmlhimepnldmphmeejeqpqnippgeeommhoqpoisndjhpnmgjmeodpgioqpfrmdijhrlhogrjedgjkiinhijilgdorrmnfndfolggrrqdoofdlmnrdhrhsmelolpflfmpkqksqpmqhigfdpsolgoofnpgprkglphsnjfjrqsfkgnsjisnlgjokmsksihfoesfnlgokgnsfepdrlmrnlshhnsrmslmpslonrrfmhgfkkrqekgljkogdlndqqhmlhipokkmerrpjqjmpsnspomngsdqroikeshdrmojhfirfrpdhksfdqhkkmdlprjmkqlqpspkfqhjsfmfrhmfkdppkjqdmioqerjmnoifdoqrhksqnprgoqidminshqilrlrosqhmesohdjmqrgopsoghejfedfjkmhensrpimlsfnookomiplrhjgrpekfldfniphkkiliprnrdefirpjfnsgdpiilplsfqrsfsdsmfrskkspmeorhommfgenfipirmjemddmmiknihehprqkrhksmsfimfjqlsmsnjnpklgnpskddqpolpegfrsofidjpnkfihmooqpnfdigfdegmngrdkpjqlnkjmgqrhlmqmlkhreldkrksqsfipmfhrfmoimhnehfrdjkkmsrfjsrsrkehqnkrqpfkjqmshmfgknioknjefhqokdeokeeinodfqoedmeksrkhpnojonohejkrlqjfrqohqeipriqmkohlneheohlimornmlofkgqlnpggsfphlgrhsfhmfdldikmrkoojonrlefjkdjiepggeiseppgjdiqdsfjnqigphqhfhimpflkdfonmnqphifsjoishkdglsrqksifljhmnpiogmjrssninigllsjnrjeiemihkghphpsrqdoflgofknpdhlkmhfnnsiihepeimigifehmrdkjrrmiiqphkseoljgjfrrooqsegpjsekqsoepndflqgrnqmsedkneqfhlnrpgrqoplphsloohdofsppmernqfrlmmnpgroqjegsejjdndosopridfhpmqgflrkkpeoprmknmgfsjgjgpnrnmpsnndqsikqnokrjnhnqgrprgqgfpnfqnpijjhpqiifejnsiosrsfigkihjnnnfdgjeredolfqgmhnqejqseijgplppmmrqplhopgkmodpsiipejfjhdsledmoosfqmgjjqqkfiipggrsgoneegmkdqmosmjermjknmreepmoplfnepifdldemhgkfdgjpkkishjkpqirrkljnmphqrsdigmgmhperqindddirhkoogfeigfrmopfnhffnholsmgegefjlhmfpqilknjdsmjpgsopihpenfikmesjrkmondj\"\n",
    "ciphertext_a2 = \"nskhddsspnslshlkdpmkfokkhdokgdpsefhklilfiignipfjefliemfhinnnmgffljefgpsrmeoornlnhrmnqnfpqpssfdqqonjopqoqsispgfdpledlhllflkprqjiqrrpnsihkhdlsnpoqsjerdefrnrhmepqlomdrqsihnogfmrsqnrepsfnlesjfgrldlrfkgllgkfdrrggnkllimkfqniqrskefmnkfnehfdpgpmpsfhesrjmrioenlsiqqqqeqdfpqsihqkjrlmkpmkmlofmnremnqsjflfnqnhhprojoonjifqreglkhhngghokqemseiffjkjqenepkkphpqfgrqdjjfjgjqqflhdiphonknmjlkkdfrelepmnhllfljiklmrkhojpjkghnhmjoqlgqsflsghhjghnejnrirldifsekqfrqeflqokepeonqhrlnfgqhisipjkmipmeqhshippedqrdkomeoqglpdprnhfkhsrioerhmffdemogqkpdlimkmeiisfsnrfqimhdlrsnookmopehqjssjqlpohjjojfdiqnflfnnsglfmhsqhqghikiddsmmosgjlseorkdkgodoegmsnqsrmglgmpejsrmdhklngigllojsmmlledjrpiprppelmqfdilkfohlkmkldoosrirqmgsegdmsmpnlkhqhgmddrkegrdffkolghisiikhkhhnlhnioneolmdkhsnrlfslkqospooggeknnlpjplnifjhhpnqddmdplohknmrhmmldemhnldkjeprogglolhhlsdmjeokfhqesdfollrolskhfgiomgjnlpfokmhkfejdnmgoohdglgpqeeorfpmnofrjqiqgqpikqeorlidsjgspqfsmkhdfhrdeidnphdsdhhmrrplidrssmrrmklnlpilsdlporjdhrpsmfdimfekgfdsregoprfjoiljqmdklghoiqogfndipqipkqilflmhhkdkodnnkrqpqdjfsgmdklisjpephrhdmpfpqldigjlpdqdhjeggqrosoerljksdsesirrphinspinmknqhddfeoohmsqrlmjnejfejildfikrgskkqgkneidhlrkgnehpppiqghkpqmghpjlhflldspkifheqgphjmseqsfsdhfqhlokgoegrirlmqngdklmqilpmejrmlejjrgdkejjiogdphjddfmkqmpqqdioijmjmenipsjmfqkerjkiqdhihgkhoogjmlqoefgssjjjhnnmnlsoqdngrkldsdnhdmhhmlshhfrknsqflqrfgksnidgjfsrgefonjjnqloegkjrhspqkrjqqdqpgsljrsrhpnjeofkqqodkolodipjlgghgsgiohgfdmfinihehehppmmmefhhjjinmhmgiprprfjeshqgnkjnlhpimkqleegkmnfhpipglqngoroikldenojdmjssrfklkmdnfrgemhojpknmsodiflklffhddlkhdqlgqkpdpeemdklhssksmhhferfenqfphsfngndjsjsihlfsiigjpfenhgsqjldiiedogregfjhqjgqeqjglnpeepmlghmjhflslgeekhimqghnfmdnikfsompriqgfpinsegqfijedjhfqoldsnimsrhsndeiodkkrlimpdoliorssdjfimgnjnrghiqksdfrjdqllipmkqrpnkpqiolgrmekfkkfosrrpfoohehdldepjhklneeineghronnkgdrhdijodnksojdgnkfplohgdejgpplqglekoinfkpljsrjjqgmojqqfdnfhipsjgsgqigoqiromlodrsifdqdrrpepnkhpohnkqmqelesdlgklmfpidddhhhsomeehrfnsmeiifdqiminihqgppljgphpggpmssspeninonplpmsgeoqrjpsippergipomprnisdhfrimdgdkhfhrfrhrmerikiehremsfghdfefgleqjegkqndslfosseghfellpeqfssnloqmjerggjnpllgesnjplndlomhomldksffiqoerkpdqfrkkljdfjekpojelslholgfjlmofqeoqpqfpjfrmpfgfhjgdifggoinnfmgfnqnphjgdlnnggmnpkrhorkjngrofpklosehkljhijomkjnhsqirknipselsmolmeonreqfegfpjjijiigphqsgsnplshqdfjmdojlppkskernhnlojjlpeghmsgliejjrmqifdrflqenjrlqmpfpghfgpgiqoppfqjrqsrippoqrmgksssdkdlrniplodpqpphqqdhfflomiqsnlnrjsjgjqfqdrmqdmlgosgrlsrmnfdqlssppfdsesfekespkerjirkflfrmpsflpjlkgqmmigfsgdoqrorklhjhirkggfqnpnffgqohhrgqhiopjgmfejnlqpnesiisfeifdsqkrmoolpresfjhgmdrqqpqjfmpjlkqrsnjddssjgjejmfqhdssshiehhmjqjrreplomqdgmppprpmldljsdqpfooqlsdfhpgijllggipmqilqmhsjgjfolrnrpphrldprjmjgglpridrjmhoplfishnhilpkmhpkrflnkfjqeoqsqonqmhpmfsihmdrqjsjrkofhffgrsqfdneohrlekhhriffknhnokhhnihpnerfkenlfdqlqknprsnegjqkongheppsopiqgpgqfgqeirmkqgdqnnhjihgeimmrhepkmqjqlsnnqheqgngrhgqrdkqnpdrpforjenonimsfnprmlmlrihlnrdpgolpdjgngmeeqjelklfllnodroojmghjegossmifpoffkedpilpopfpfjqkqfohgredhiprksfkhgphildoghhgoqkiqrlgrfifdffirmjlqnpgjfkdfmjmqqqrhgmqreopfdpnhkmidggkjdrdfgionsjlpfgilhpshjjdjhhqpkspimeiqpejfrgdpodrdeeeessikgellhkhrlqminpnmfsmqfqerllkdsmhpggjgpsjeljqggjnifmrgfsfeljheirghkdhigqmofeofskdmjpelmlmnqhqodljoposldlrmsgeggmgmkqhkmdqkjieeremhipppnieqpnogjmloprqkodmsidimljinmqgriseolgjsfpkpgqpmoqfpgqplrqqqdimmjhffekhqeloijoodolhqnofjsfqenjrmiddefkrfqifqodgkmsledqoqpiosffhkkklsmkmomlrdrdhfnqfrpprdghomdskhnhhllfkmknlemnkehohiglkgsnmpgqhdsilrjmplklffikpmgddermleqfopjneiogiqohinfjipqpggdsqmkhoqofqmlkpjsgrkeskmndrqmqppokeekefdoinekjjmieejgrdeelkgdplfgjjgimoqdgqqedplqsfehpojmsoompkoomeqqmkhsjfehrpgjjqidphrpdijqplhhennimnlkprjphleohioggiqmrenhgnlssdlifneogdrmqdlqhirfjiksdjpmmshpdhgqegnpnerrdjjpdlemhfdsjdeolrndqrfkgdkhrrldgplghegjqssioeilojqjnjmiomemipgpppdleddsjlkpiigejkdriipsirgennihdoikrkmgnsrdejndpgnfgnkelhlhjikrefflgqgqslrhgmfflogdfopfqsdirfdrrkidfqnjpdglrikfisqrohhpknkhprmprhqhnlddsqmfnflfpgorpselndknfmholfhegpgfjrogqlphjpionfrgmrsmqfhgrskknglqfjnsdeohqpgefqhhqfiolnhmojpjlqglrjmslgognnlmjqimesmgksgoekmigogoksdqqgrhrjikieqfnhrpimnmmhpgjksggmrmljqgodposkkrimlonrlhoiqpeqq\"\n",
    "ciphertext_a3 = \"pqdnhklfhlqdlismpqssnqhqeohpgdmpqhokpoinkddsdffsolskhjdsnoqsdnsggosqrqrgkkejdmsiqloddekedsneoqplhgdfdhrphhfreieklpspjmogrnjmmnildpjishephminqokimsgfdehiohrqqnhgkmkegdehneejrsieqdmnjjqmnomfpopjdpqeoslhdnmerfkisjgkfnfpmmhedhjosedqrqdekididppfljkpeqdrjqinmnpioqjshjqnegdrolndiogloqhdlfjrgpgmfikmkiksgojesnglliijnpmhrofoidokhsnjdfsgdkqlmpsefkkpfmrkopdpmmkdmfnsprflpgldpmmmofpkkiojionpijmmjfehdokomdohkoiplolqkffgrjhneijlifiqgpoksrofniipsfgjieslojepdoqllqsfjhhhlqjsllpiksdpokoiqklpqejelrofqrjgehldelonedrofrlpssogsdqdnfkqormisgorqempkgfjrigmrqkoffgdirnfjlhkpkgjoseiqdhopqflljkmhhhsdlnkslkrsipoikomslrhljfjqkiordmgsojdepskfkmmlhomppokmkgjpkdjepijpkeipkoknooglrhidksomsnkeninlgrhlrfjfofmnsqsliemqjheleedpqkornlqrkdmqnhglgliqhmpmdghhdosljnfspolonmnrrrffipesgsnehoqiphjmegjsdnpfporsiiqhkjfprnmqjioofsrrrhmirgjeeqdqmgjefdimikfojegoimepqedohkdkrsojmjhrrfomijhefooqsejiipigihsedjenjrhkrikgdrlrnofkffnshpkprilkdoskphqhinifplpqrdnkkpjpffrgjqjpjpoqfifsidgiisfmqdmklpjemgmqrnqqoogqriifffksljoohhgfrjjpnkgnmmemhnomiikiigdfmijiklrfjddpdhrfkfoleefmjrfkfqrklolpsmdkiflndfqpksijplfeholieqmrlifnogegpgqoknodsiiglggghfiiorfrpdignlmrgdghekifrnlhslmjjsodqllkrjreggfioddnqflipjelmjfhqfgfosddrfookhjenleokjnpkhmnsolsinmgidlrqmkkhnnelsjrjffghsnkfgefileimkmismfmpghngsgqeeqqohmqgmrlgeqmkjdhkqdrgqrgfrjsnkkfqrdskiookfpdngjgolqedpqkdesmmqfphmlrjmeflignefrkpsnfesslnlerdiqgdmmhrrsjqsqorollkhlmqslkgoglhkejsomnippilmedemkiffolioqdresdimhkqlohkimenhpddsslghmqqnshsdreipprkliorhfnoqkmdirndgkkdsprhfppshfdenrjnnqqkppqmpeimlhejrgfjhkipmjienndissordljokgporddfepqnfsfofjphjimnohffeinkhnhdlekkpqnhkfoheppjjqjqddssfsprpdhogommrdnmpjnpnnrqhqemrdmpdhprefjjgrklhdrnfqodmnokekoerfokdlqrkjooildqjgpneprskjjpgpdpqdodoikqrfgogorjmoesgrjmjjldginddjljhfhgmieqlfrpddkoqhofqhqigridjmqrdfohsqdiglshfqmmdpdsfsinnlrlellmmnqiqdfqhfggljhognehidpodmddelhmisdlfnkfnhknhrjfesmlefljmpnllrdgnghdmjmdjpehokfnhgdindghfondlofpsjhnsfnqdoflfqkgklhfhqelgqfkpknspdjjhrnkonorneshihqmgdkmmrpriirmqqrklppgffogkpmmmkmrrqoqrhhoodhqkpqijonorqkkepqlfjphoolhkffddkjpipkplrlphrfngslnmisehsifrrpsoemogoqhrreonlegoksrdnsjpideiiikerfkdfjmfrmrdnjqeklegdiednshpjdqehkerjfdrjrlfokigdefjgdirmmnrifrhjsehojjsrdmphgsoonrehinppmkoqkiqlejmjpsdpgrkpkglkefdemhfjggiikslfdkgpdnhjkfjsfkssrsmridqkgsnlofnhrqphfnoimpgsednkrqnnhkqsplnkehfmkmijioflhihoqmnokghgppppqksmkhhroqegingflskfmlsgkohpklqggehsnsnjlrfnffjoerllspneenmllfesnedpmdldjdqppenmpijsoqlnjoflqgrsmkgihlmhqrejmhnsrjoeolomikdlsedigngogqdgrfeqqloklollllpfmjkrqhglgsjiskqdrfhdsmnmrsgerhmofhhsmnrfjkpqinjfohqeljjkrhnlqhqddddrmeplijdmefrkerpjdrkfhkpoqnqgsijjdeeeojldjsjpfrihoehrfrmfokkldjjknjsfkdnorrjqsdeofjhfsdgsrfkmrropsdqqejlgjjshrkokmnfpdjedsnlhperfgddkmpmeghdhohfqdssemmnmjmlnsdsimgrqjllskmiisohprlespqsmffnqdnmdokjkorfgloqkrddirkqhkpelfhlsgkisqimpmhdqiinkefeopppmqmhmiqdeoormloifsimnkokksddnikjsdepfsmllpolrrhengieonqgggqqrdkgeikfeokqhikfqemqidkgiridleemqrmomjpqorqidolmpmkoqfmfmpfneghkpiqolddonhsnrkmjshprpojrddhgmphnrpjqmjenipfinlelhrkkmnsdffjldprooodjqpdkgkpsdojegolgqknijemqpskldenkgeilkenndrplddonfnfhfneojphspdsginqfdiffinssogrdfkgrrrlkdorphmgeegeflmqneiqrfqpisklkjrpjmoeqfksloijmmeimqgpipofllgeinqeseoqmerdmjsfoihsidfhffhdsomighnifjphnmlfgnhkhmeknighnnsonhefpprlslspdqfshnssrgjngrdnmpspoqpjmgpqqrmsqdipfhlioiillpohmlrdhmekpiqmkdekljmqrdlfipsfghpmmrddksehjrnnsimfmrjgonihjpospqresglfsjemkfkehfkkkoeshioojhnfjeknkigldppoqdfkpdiqjrklkkisfmliepfiprkqonslodsoidmrqjpidjhgqrijkldjerjqgrmjhnshofknqlspkgklllliiqmflfngdqolorqqrknqsfposqfqhgmfsgmpqomroiomiqlhdkmlregsejlgpkdkmkqqjjrgphjsrsrmroomghjosmfdgfmfgrknjfflemlmrgishqsjrrqrennfddnkiefnlgrsirkfidhhsjhppphmmiqdeqhjrhoskmsssigqqghgqdeogfqjqepdhilnkkodppkfghnhnlshropegjmfhrlnrmfspordqohlghikdgdiqiprqfkfiodeodqkndnljoofslrmsdhsgjnldgqqgmhpfoimoshddilkpeqfreshondmqdfsmlpkmeglhhiriorjeeipjqrghjrmgnlplfdoiskjkrmsqqnmldhflsdfinigdspfpnloffjgjqsqghhimskninknirdgofgpehopjgopihpfmqfdodkdnrpheqqojdiisfpqkpmmejifpgmnriqhoeqnlonjrhomlsdndqljomrsjmenemdjgeerogrsrgiqehmeooojmondlqgqiqheqngjdpkspdkdimqfqnfhhhoprffrriskmdejmqmjhoikpnehpgrodksidmoffhnokllimhdrpnmhnlfghrpdrepoopksnhgmkq\"\n",
    "ciphertext_a4 = \"qnekirnrhjeqrlphieigmnmsngknfdqlphmrfokgqsfdihrspqgjgnjplskhoonfspeneegrlphspheknjfjmoosjlgkdfqkophonrssqegsieqieerpjhdknrjpkkfkoqoskfropjisqfdfrglqshmrmdheqjekrmnofgoppqnsprjejjommipmlqrssmjqolrlgklrkkdohpihjpnsfsnldkqpjrfmjmsqkgjsrqddmdggqrimdrjememneemldkrkmjmlmdgdnfqhoforqjnrggqmlpgspsgrqeskqqqddhminmqfkilggklhkodsdhnfsgpnjdjfrekspmofiosjkmjjrqoeeeqpmksiirkhfliflhlorhkkgmdihogdnqqhqimlkorkikjqpdglfpnjisodfnpfdgheihqjhkgfplggqllklqogsrjiheilqfssqdjehigrdksdjspklkpjgqdepfldsenjeflgsorhhqnsorlkosihmkkrlmsjhgdsrkihkeirdnlodlgnerplgfjmgjmrsrrsighekdkrmfkshmrnilkfjnnnjhshhmdggnfpkjjjjismsmlmrjgnposlqhgnfegdghfhggqjeesgjodkgqorfmniphiqphokgiddejdeosfnkpdhisfdnijrgqfsoikofnksqpfijlqislrrslsrhimgeelknjerjhdogpphliqgnegjlljkpsqkimlgkjkrrflhjrgqfkilmnhqeqppqhrsgqelomrifsfrferdkfolkshqmjjdelnlnfhkoqqnphplfednddeimoioohfgseqrfndlljjpjsengnefqmkrskmioosimpshgpjsegmmjjsjpjodsneqeeqsepmkinolmoohhqlgfdledjhpqnqpgmknerhespndkeikkiimedkgdmoirsqgknfepmfhsiqseghkrjpnjpodeeirdrgeqjkqjdigjrhhrsmhnfjkepsiponfkrpmifsfhjdiqonpnqpepdqllkdpjneqgfmrkkknpjhemmdnlifshkqmnlejkrikljljjpmkhigdhrrgrhejjqjfikqmkornsgpmjhkpfhjnodrpikrgnigednsiisdfdnpgnhnkooldrlhqprneoppdmodhkhgnqljprpimkjjdigoorlljppfgmregisqomnhmjesdksfssmlineodsqqpddnjjmlnpdolffqsfgjmgjldklosomohhsgqkinngfimjerlqkedqeiorrsplhmpjlqsllfrhhkrrmkprsrioroqqrskoepispgpnkorqhiqimqgrrdinodfjgsqmnokgjqmdgodofkpnmdkmmiifkgehdrofpkdioiokrlpqdhdnrghglidsoleegmprfgdmqkdsqjilgflelpglpspiihqfonjqpmgrrqijeopdooorlqpplfsiimislmlikimhrsfmlmdhfkkddqigkdhkijorrkoqepsgonmkklqqrsljkhjonsigiqgkpkfmeprmpqkdmsjlfmpnhnlfonjefsferrdfmsrrmrhdljjdgfseqodgjehmgonrdkseonhhijsfphqsfmolrhqopmserkisfqnppspomjjslshendqmqdrkjsdrmofmfneqqnkgghkmedigdijnidrjfprhrgjlnkiqqeokklfsilkfeqgkghsmrrrdfpeiekrljqjifsfhignlrkrmfpeedrelrpkrhepkmlqinldskqnkdrknigefjkhijmkeohhsnddpfjgjsmljnqepllprndoignieosfpmfrmfeeishkejgkrgsjmesgqjmkenqspgmdmfjhhhieenifhfkfhkghgfhshomsqdlslhokgsfffkksekhemrojsomgjjgkjifhpipelopsdmimgeidojmpghlfjjmsinijoisfnolknhnssjoepnerlrsohdirmifgpenhrdfrqrrieqshgkigskddqhrknrhqfjlehlslqkefqdehimlkshosirgemghngkllpoqnqhjemjfnskiphpmppffmirkrndmkhgoosdffooerpdkdhiqheigoegedrliogjjioogqnpkmfiljmpfhpsppsqokigkpidqodfghrjlkjrlrsqhsnkolrlrprmkeniefkojkdnnnhnpmkrqkjndeqdripffkpeogheinfkflndgqkpllqsdfdfqpddnmslfllmiqonporfniqhlpljrpkqnsfemnrqeksphqjdokhlldskplhdmloimmfiopgqeliniksqqjogrqfejpplinhlerleelkrgopoomjhejnspegqoollrdrojflnglejmkjfnjssiqepgsqqgppmrpdsokrrhdkdesjsfhldonsrrogdqhhsgedsidpflkpfqqjdlrknnijnegpjosilkmsifjdooqjmhnkropfiqofiofenfqfegsgsoqfjfelkqlsfprknrrispqippidgdhqpsjkkihdgopdrmkonnnhsklsemjqommfgfklilngseedlolgmirmdojsnmomenksilkohdjdlhdngoojsldpnjjsenjmkniighpndnoeooqqiojnskgffmenindhpolddrilkeljjiompijqqoigqirsdosdeejfdsfsdspnpknkqdheernppoqmmqfkqfgipnmrgnjmmnsidimgrsriofqjsenmnplmoqgsggnmhhnlqmkmmjehgjfkljfmngknnhedhoqqnhoslmmggfphejolflohfrfdenndkdgpgjpgsssdsfsnnjflpshihrqrhmjrgsififmojrjjhejqlmpifmiglergqfpqldkdrqoekenkshrprgipiqjhgllkmdlogjhnphihkfinnmfjjndkjhjgjihflrkhpslelqqsppmoqqgkhonmlskehkoodfnhmkopefglgripmskkggjhddjqlojhsjmfrgmiipfnnnrhjkmqefqidqeorgoiinhsqroksiklgeoqlefhijnhnghsjkksnigrsnersiqsleijrghsldkepjemjhehdlfedihhjrsfismspqrehdglfgjiqnsqnddmsrmskkjemgsfrmongroehsdielnghgjimnoqofhhmdomgedfrrrgsisskrkhommqsdkoslfhegfqrppegshgofmmqnjqqjdomikkpjjsdmnqhohdirngpkjmrnlnplskhhrindrsepomrsmesprhmpjreeekmjqpidinjdfompefopfkqgrekqkkisffooonkgdsiokjdpqonfifdfojoseijmhfidqsmjhsjefrgsrgrqifnrmmiekhhkgfgpmfogrogoqkhqiddeoiprrgffkllqlkhnffhhsigikohqfijhefohriiljhkgqnnheglsknofrdkgofreqojojhgrdlqfhhdrkjnonrnqmehogjgdsoorfpmmpdilkdfmmfimldjrlhgsglpigfislmnnldddrriddgeipdgppkknlhjrmnrqgmiroqiidsejnjomseooifjfkghqqlosigmodspkmgolporooneqhqioninildnoomkiphmqlskrssphsisdedronngpoqlrefkesikljsdegrpmqjjfqopsddlkjsjjeilkfohsflssmdeoijdpheemlnpfiemhpirjjqfdfgnngmredsskoimfmgfndsnsnfqplrspfnqiipifgrfihhknokpdqrhnspjjqfgfhgflmefljpnsnfpipokelgpieoldqrklqmhlpeonmrkodidpfpdesqneqgpqfinlkniijqgjesnqkqrpkkqensqpodnmofiehdglkqqisdmenliigjhrispmqdnhehhroglnflskijgggeoiqlljlepqmgkoiqigikqqdnensffkmqqslmsnfnlsiseosdfrm\"\n",
    "\n",
    "ciphertext_b1_c1 = \"fmjqrrrlhrjjqmersqldqplhdhmlkrkglislflrsnljqfismseepfknmisplfodererpfflklfjllhihosidnfjgjghqmsggmqpgholrgrgmisgimopklhjjfljjjkelfmrpqgkeimielhmrqisrpmhehnfnsdmdjqqddeeijfisqmplrffhhfgnnelppoeninplopdkienjqglqpkgpgioioqmklorhnlsdfrlhrojepglgijkeiiolheklrojhirgndjnqjsrmkqhlhqpsjhppdporkjmnkjoellfjldrnpdnhlhqhgllkihlhglkfhpogmpjriiiijsrldrrpklksdjohmshqreddjjopnlofiiokqrfjriiddilkpfeqhflileoiifgkmmkpqlgiqjegpohneoseokmlqnididjgdhdlsohqeefqqnijoksmgngeneqdplqpppgjihodillgederpmlhhdqsjgsgdfepkrniqdiplehgiqjsfogipjefjmjkgljmdqogrqemsqmedlnsfegpggsgsejpgrsemnlsgesoeioqkjgimeqdenmmqjndkprnkejhsnsfnqemmnqnejhflgqeeorhqpmgfhkmopilodqniprlsmdlhddgmmkqfngphernmedipkoerlfdrgimqiqggsmgnqoqsjijffqfkqnkojlnoffgifdemkspnkhhhqmdnqgmrdspqnilorflekrddlmogifmfhsokoiflnriemfgroojrfqfoihfinonmjogrrppsnsddmlkrrlejqjnplrmgpmfkpkomnmqljpgpqfljgodhsgmlnfoofmnggppjrpoqqorshhkldqhrnkiopipqignrelmehqldopenjdosfmrprqilnjqhfignoflfdmmlmorshsdmqdoemrgikjkkrhmfjlgnjpfqqkonrgmqkhrkmmpmkenirejqprqqqliodlimmfhlskiqkgkjogkofqfmkojmgqnqjjfgonhrhelefsieegqfronmhjhfkmonfghdeqpnerjfriqkhrrjllipkrkpnliklinrhgffproilfegijnmkqmeklqemmlmnjhrikgmphsrrjhelmkngjjrnqspkhlinjiignfjikoojfojpgemimnsejionllgmggjqdrledmkihkiqrhnomkeldoefjndigkklgiqfrqrqmekfmkophfokdpehimfljgkmjnqeenrjiqjklhjqnisfnfnrreginorqppiqoopllgiiehhehhfpsjkejjnsqpqdndlfnegejshklpinmhhssqqdinqmespljhmesehesmneskreinpeelhknssrsmpfmnhemhpepgldeeropgqjifsqsssrklpkjjgkpfjomsmjrsqomrqorqqmsjsrefppsinmiinsoiejiefjeermoejgpnqdfekonmsmokndojiinqjfgmijfrsmdhrnoffphjsphnplpsipnmsiepnojgomnsoeqmiqkfjqhiefejogfksgnlegldghpffhidddsqmhfjjodpqjrkkgrfjeeipgrpromesigdimnlojpfmfpjsjdlfdjsoqhspoprqdhdgddojlisknfnlldemgpmnpijjnokomhsdrokelorlposoiofelgddggkiioeirqfniffohrdedhqhhmnfqmnoqokgfnejfilengrlgsdglmngrojeplsmnepdimhsqsnjplingipkesnmsjrnlfjfsdrigeoklopnpqigdmphsgfhqpimifqkjsdjhrdphphmjgsnrdihmlolooomjkqsmjiihddddljiloqgidnnnjhgnkirejnllrmsioefoeolsgnsdrfrlfehdlliffqkhhedjjhmkpmjsehhejhrhiomdsljnnsfeelmogoqksonfinmnomqkjgkoholflsfopmngjrkmfsskqjjfdgpgjfiqnholpglmfjppjlphprsfefgnmeqigjenojpjoepldkrdfkdpmilglfmmoklqpfonhmhfnojormpsrhhknnsrenpnpmqdqqhgperknnpdipnigpnokjmddklgilhgdefjknnfjilgrqpnhnisqeprssdiddsmhghgpdhoegflrhfdgllmpfngofmlfdqkjoqkldpoieeggkhjrrlqiffiihnrlnijiigkifffgpknfqshpjhpkkepfhmmmdfsirfmdmimgnhqnfqlroorrsoesdogokiqggknomojergmnkjqenqqmhklggflgjmlndgqelpggmgjnqhmsfqnfgkdpfeonkloqrfiogfefqhomdnpdsiegqmpiqggqlddeirnfqgplsdrjhnnrkeflqermhinjjekhgsllddqmijleeohhonjehnslqqqkgkqjrokeggfodkffqkpqmdijdjegjjenrrekhmlojjilnsosdfnfirimpfjpegmhgrqjkiiqdkmilnropnlmrqlpnoofnsrnsrdkoijdjgnissqlinhfnqjfgegrrdfrggrmlqhslqslfmonhokgifrlhqgrnihrpprdsggpgdfihpojmijkofpfgrdkqgfinskdfdfrgsejoplojojgdmnonqnsdmlqmpisjeklfeidoieedsjqhfppjehffjqgfhgrlkssdjqrqlnkfljgjjqijfepiqeerglmsmooemrpriiisgfhqrfsdrmigoifrlsljmmdpfmqrmljeiiekdneqidekkfgprphgolhkmsmprehfsslimeqnhfnnihglhqgglondkkfpropelmdgqlqlekjgpeehnhsqsrqngfqdlnihmompggfidieqjegqfqpjifmpdghgndeihlojprgqgdipdskeohmlsnsinmekpgiheisglnpqplrngkgglnkhidgllrjfsiqmognhsmskkfmodpqpigsfghgkmjopdrnfoimpromdfmrspedreilooqgdqnnmdkghiigjpjesisqnlllhhsliqskjkidqjrpriomkgmmrlqdgroisrproollkkolrepreqgsqmhnkggrqifiopqndmjkpfllrfhenlngfmrrklnrrmfpiollhjqgodmridpigjnjkdsoljoerdsisnnpnprkgrhqpfrhrleemgqmnlpspkdkhldoeoegfmmnipglqfqfigjqqophnlkqgirhssgdhdjflkhqheqenglskpllengpnsdrgphififhhiidksjlkioerhpspqqhpfgqppkfoegrehdpikeifnkhorgoeednsrolhknppgflogjmllknlnsmrpodhgpdfrheqkimiqgeijgssjhldgigiiflikejhoddrnffksrrlgnsqsikilkmddprrfnnfgilrgfhedhlpnnmqnjonisghfeeqgjdpssndejriespkrmnhsddkqrnlnmfshmjsskqmneilsdghrhoqfsojijkfnjsleqdoopnmokqgmkglemfrogmpfdsdnsggdslsknnjdhhfpilrihimrfhlmsioddmoqropfisoooijljqerjefjqfpmihidgjliffolflhpfkkpihodhhdehjqgrrigimjmpqdsfiqlhqnjdjlmkojgmrjrplqodorgisrdkrdemorigrjnkorpsnelssgpedllldqpksnhkohlnghrqsmlhisldiohppgikkgjsejqmejorjmjfrkheeirldonjdfmksdgdqiqejljfpohqdqgoodrjddmgkdgghdddhsenqmnfhrfeeqofkdgroorhnjhqolqrggjpppqdmldphdqgqlmgfifohqlhqgmkrddhpkhepmlngospijllhoqrdikhskoflgdqjiglsrhnfmeqsonhimporsrhjglnlnffiopslmoqdfmfseogkhjkogqekhqdnnnsioeqfroqhgieflildfrile\"\n",
    "ciphertext_b2_c1 = \"nskhddsspnslshlkdpmkfokkhdokgdpsefhklilfiignipfjefliemfhinnnmgffljefgpsrmeoornlnhrmnqnfpqpssfdqqonjopqoqsispgfdpledlhllflkprqjiqrrpnsihkhdlsnpoqsjerdefrnrhmepqlomdrqsihnogfmrsqnrepsfnlesjfgrldlrfkgllgkfdrrggnkllimkfqniqrskefmnkfnehfdpgpmpsfhesrjmrioenlsiqqqqeqdfpqsihqkjrlmkpmkmlofmnremnqsjflfnqnhhprojoonjifqreglkhhngghokqemseiffjkjqenepkkphpqfgrqdjjfjgjqqflhdiphonknmjlkkdfrelepmnhllfljiklmrkhojpjkghnhmjoqlgqsflsghhjghnejnrirldifsekqfrqeflqokepeonqhrlnfgqhisipjkmipmeqhshippedqrdkomeoqglpdprnhfkhsrioerhmffdemogqkpdlimkmeiisfsnrfqimhdlrsnookmopehqjssjqlpohjjojfdiqnflfnnsglfmhsqhqghikiddsmmosgjlseorkdkgodoegmsnqsrmglgmpejsrmdhklngigllojsmmlledjrpiprppelmqfdilkfohlkmkldoosrirqmgsegdmsmpnlkhqhgmddrkegrdffkolghisiikhkhhnlhnioneolmdkhsnrlfslkqospooggeknnlpjplnifjhhpnqddmdplohknmrhmmldemhnldkjeprogglolhhlsdmjeokfhqesdfollrolskhfgiomgjnlpfokmhkfejdnmgoohdglgpqeeorfpmnofrjqiqgqpikqeorlidsjgspqfsmkhdfhrdeidnphdsdhhmrrplidrssmrrmklnlpilsdlporjdhrpsmfdimfekgfdsregoprfjoiljqmdklghoiqogfndipqipkqilflmhhkdkodnnkrqpqdjfsgmdklisjpephrhdmpfpqldigjlpdqdhjeggqrosoerljksdsesirrphinspinmknqhddfeoohmsqrlmjnejfejildfikrgskkqgkneidhlrkgnehpppiqghkpqmghpjlhflldspkifheqgphjmseqsfsdhfqhlokgoegrirlmqngdklmqilpmejrmlejjrgdkejjiogdphjddfmkqmpqqdioijmjmenipsjmfqkerjkiqdhihgkhoogjmlqoefgssjjjhnnmnlsoqdngrkldsdnhdmhhmlshhfrknsqflqrfgksnidgjfsrgefonjjnqloegkjrhspqkrjqqdqpgsljrsrhpnjeofkqqodkolodipjlgghgsgiohgfdmfinihehehppmmmefhhjjinmhmgiprprfjeshqgnkjnlhpimkqleegkmnfhpipglqngoroikldenojdmjssrfklkmdnfrgemhojpknmsodiflklffhddlkhdqlgqkpdpeemdklhssksmhhferfenqfphsfngndjsjsihlfsiigjpfenhgsqjldiiedogregfjhqjgqeqjglnpeepmlghmjhflslgeekhimqghnfmdnikfsompriqgfpinsegqfijedjhfqoldsnimsrhsndeiodkkrlimpdoliorssdjfimgnjnrghiqksdfrjdqllipmkqrpnkpqiolgrmekfkkfosrrpfoohehdldepjhklneeineghronnkgdrhdijodnksojdgnkfplohgdejgpplqglekoinfkpljsrjjqgmojqqfdnfhipsjgsgqigoqiromlodrsifdqdrrpepnkhpohnkqmqelesdlgklmfpidddhhhsomeehrfnsmeiifdqiminihqgppljgphpggpmssspeninonplpmsgeoqrjpsippergipomprnisdhfrimdgdkhfhrfrhrmerikiehremsfghdfefgleqjegkqndslfosseghfellpeqfssnloqmjerggjnpllgesnjplndlomhomldksffiqoerkpdqfrkkljdfjekpojelslholgfjlmofqeoqpqfpjfrmpfgfhjgdifggoinnfmgfnqnphjgdlnnggmnpkrhorkjngrofpklosehkljhijomkjnhsqirknipselsmolmeonreqfegfpjjijiigphqsgsnplshqdfjmdojlppkskernhnlojjlpeghmsgliejjrmqifdrflqenjrlqmpfpghfgpgiqoppfqjrqsrippoqrmgksssdkdlrniplodpqpphqqdhfflomiqsnlnrjsjgjqfqdrmqdmlgosgrlsrmnfdqlssppfdsesfekespkerjirkflfrmpsflpjlkgqmmigfsgdoqrorklhjhirkggfqnpnffgqohhrgqhiopjgmfejnlqpnesiisfeifdsqkrmoolpresfjhgmdrqqpqjfmpjlkqrsnjddssjgjejmfqhdssshiehhmjqjrreplomqdgmppprpmldljsdqpfooqlsdfhpgijllggipmqilqmhsjgjfolrnrpphrldprjmjgglpridrjmhoplfishnhilpkmhpkrflnkfjqeoqsqonqmhpmfsihmdrqjsjrkofhffgrsqfdneohrlekhhriffknhnokhhnihpnerfkenlfdqlqknprsnegjqkongheppsopiqgpgqfgqeirmkqgdqnnhjihgeimmrhepkmqjqlsnnqheqgngrhgqrdkqnpdrpforjenonimsfnprmlmlrihlnrdpgolpdjgngmeeqjelklfllnodroojmghjegossmifpoffkedpilpopfpfjqkqfohgredhiprksfkhgphildoghhgoqkiqrlgrfifdffirmjlqnpgjfkdfmjmqqqrhgmqreopfdpnhkmidggkjdrdfgionsjlpfgilhpshjjdjhhqpkspimeiqpejfrgdpodrdeeeessikgellhkhrlqminpnmfsmqfqerllkdsmhpggjgpsjeljqggjnifmrgfsfeljheirghkdhigqmofeofskdmjpelmlmnqhqodljoposldlrmsgeggmgmkqhkmdqkjieeremhipppnieqpnogjmloprqkodmsidimljinmqgriseolgjsfpkpgqpmoqfpgqplrqqqdimmjhffekhqeloijoodolhqnofjsfqenjrmiddefkrfqifqodgkmsledqoqpiosffhkkklsmkmomlrdrdhfnqfrpprdghomdskhnhhllfkmknlemnkehohiglkgsnmpgqhdsilrjmplklffikpmgddermleqfopjneiogiqohinfjipqpggdsqmkhoqofqmlkpjsgrkeskmndrqmqppokeekefdoinekjjmieejgrdeelkgdplfgjjgimoqdgqqedplqsfehpojmsoompkoomeqqmkhsjfehrpgjjqidphrpdijqplhhennimnlkprjphleohioggiqmrenhgnlssdlifneogdrmqdlqhirfjiksdjpmmshpdhgqegnpnerrdjjpdlemhfdsjdeolrndqrfkgdkhrrldgplghegjqssioeilojqjnjmiomemipgpppdleddsjlkpiigejkdriipsirgennihdoikrkmgnsrdejndpgnfgnkelhlhjikrefflgqgqslrhgmfflogdfopfqsdirfdrrkidfqnjpdglrikfisqrohhpknkhprmprhqhnlddsqmfnflfpgorpselndknfmholfhegpgfjrogqlphjpionfrgmrsmqfhgrskknglqfjnsdeohqpgefqhhqfiolnhmojpjlqglrjmslgognnlmjqimesmgksgoekmigogoksdqqgrhrjikieqfnhrpimnmmhpgjksggmrmljqgodposkkrimlonrlhoiqpeqq\"\n",
    "ciphertext_b3_c1 = \"ojenrrdrsopjogdggfqrpdoqoniedsdkneokphrpossgfdsqjenjeiqhekhsmiksrpjsigemoppqfhmkpqqgsefmeqgfdnegjrjhemdijkjfsgsikhhlnlqnqqrrljeeqjogoqdojikmqgjnkskfkgjmfslgjhggnkihonrdpglpjmjssnoklmpiqkssnkgegmmmissgkfhnsioefropqekkmriqlnsfdklflnmfslqserhlnjprlrdmimdhfoghifokjqhmmfeophlprhgfqfgsisfioqmrselgedilnnkfmeodlkrikkfeksniiheoelrglniqdooksnnkmqrjqlgeormjkmdeipedoiedphsgkignjmdinskmhjdifsirqmrhhorkjqkljhlnmqgddnprgkgkrkqgdhnmgmlsoeqqmrelqfhkjjlinrnpdhgeejshikmpmpodoeqriqekihlpdrepopeekmegqdkjrrjjrkrlpdqqkenmdpmoperjiolomsgkpmeppsoehpjmfinqdighfmidqlimkkefjhhjkdqliprqlnpsdorrkjshfreppkjkdgqrmoqnmgjnghljlgispfelejiqfgehproneenfhjmfjrfhgljqgmdfjodsqnkmqnqndqrjdslhnkdjirnrjqldiipsmeqphsnqloqiohlfogellqjgphrippsiemhhoqgrnpllkijkdsgqdiqsoreqsqepjqfonmhqphmqqonserrjlrrgppsgefgfsqsfmminpfsnjhmgidlfhiqmepneodnrsikiokeliofphrfgmqdjfggilmldgprmfsgjoofogngqlehidmdmnnmpsegmhjkksngsioenfkfolmmnkngjeqggriqheqkqlkjrdnrqspsfhoejdfhjospegpdesjhdoosdefhdfqjkmfdommihfghkhdmksohhrijjppemsplrorpqsnippnkimqijlrrhhrpjplisdnklngqnkpqmqnfkfsfmhkfdmdpkrjoirjqdefnqlnmgfghddjjpsdngeqslnepliifdeohonrigdiljofsqleipddrljsmofjnefsldfkoifjgprssgjokgdgeogeqepofqrejdqllhdeimmdkesqfqkdssplosiomgqekjjkgrjpjsfemmqdrsisererhrkfgsempqeidrsjorkdljkssohiofgghgpkdlqldohfmhdsmjogqehdhkkqrpkogeinlrjgrejdhnjqjsofphrsdplhhgmoihshhgeseoossolnflijnlmmrlsjflksepllhiepdhjfflrkmnppkpepgimokoijrirehqjfdqnmplhpengghdjdfikllginkhlerphpekghogdomgsiokdjgoijksqrpjnifhreerpepdjfljqhegjglglgdghfkfgpgmfsskmrqhsrjlsqenngrkqhffeqhshfhfmpmqnfngpnjnisghjoiqffggmfklgppdeseinlrsmogoireerimlnmrkqklgrpheifkoqmikhefpmooeqieoimnikrpslfijqrhosqnkoonsdoggpedkfhnlooomndlhmmijknmrnjihphlekfflrgfqhfpfghggoflklgpohfrhphhspqsegjoeolrnlfjlldqpspepjersdmpdkireeojddgpkkkdiqqsodersleofmqmisgkokpoeifesgneeinoeiqjfskoehdippshpgdgiqpkdlnqgrdmddigimokmmfnekrdmdpdidkljskddfmniljodpsjeknjrslkeqdnpglkgfqrmflnqhfkemgnhkkifdssrpndlkojdqhsnkjjshqpefkroddmnmnlfqgnmhfimomhdgshooqepifplerihoshpjimprlhrlisfjnsjdomlpopfmnpofdgdrfnfoqimklhhisjhprgmklmesigohgemgoekkrlighpfflsirepphfkohmhqsmfqjjpihjolsqnkdsjmpmeiphjksodqponfjgiqejkrkrsqsqdqksglffhgqfkjpfdoqhskmffnglqhhfkoeddfmriokeijjmneoilmsdfrreojmfrmfqggielhslqhhrnfoqffrehgfdsirfgrfrnnokrjdkgenhfmlnggpqpqdosmrniqfoqhklgheiesqeqhinmlfmgqophdleesmojodoirslhhfhiijohdhedhkfilqogedgomkriipmsoriehmgfomknkilgoemeimndhddposenihqlfnfksqkgeihnlfeiihhlkeknmqjpjhfqjspffmnldprogpnnnkhrjsmfqeeiqpdkqiehliflnhemlodfnmrdeddffjrighmkgkqrhqjqjnopilrkhdlfjeqgljhklfeqqfflsfdllmkdnlhdrnkmqjfmrnjkhdfsihsnhqgspjfppheoqiifjlhmssefnfmldfsqgliqnenqpghhnmjmdoejnpliojmegdngqnidohmljorlkjsnpghfrkonhlfoehlmmjdjhqhikoenknnfifokenhqknesjnmfmfjfqpddephgisqjgndkkqoirgfjdkjfpkshjorpokdnglgpnkohkqjikfkngsrrmpndlnnjlqghnoflihdnlhfldnjhhfrjfkojmnmnnresmdpihdhqmilepglndsgfgmimmhnfdofknkhjroddldgfprfrmgprgqnkfjfeidiorrgjmqdmdpqjlpoqgmjmrppgoisnrggohphgjflqkpfdjgmsjmesfgpdneifmnieqemsrqkqlmdfnrpgpoqjsrionsksndkshodegmrkreqhrfjnkeepjoghlmkdifsgfhehejhlrlffpjogjrqmfkljqonlihmhsgnkfnehgekjjgjqjhgeqrhllgepojhkehddghgpofgnhhgplrjgkfgfpngipqelgrirmimsenqqhihomehjqppofiqrflkdoiqorgjdgpoomqhnpliskhglqgsigdejdrjsnskkkdehpljdmjggflfmssmjlnjfksisoorfkelmnrqmprdklioldiqofpfjdpmelkpsjqhmefqmsfmiimpikhqmdlkdskgrnrkepqerikjmdseljfjsdlgopqdmsjpdqqpeedmekonsneshrkpmffelpkpkpospgfkkrhogieqfhrkrkigojfkfnqelmlldhjomijrgkroedeoeeriejrpdirpmlmqheefhfqpinqoheqieplqpgpnolpdioepismdhrkdmfpspjgfhdegnqlqonsffklejsfsdmkeqsgihkkorpghoskfqhjifkplmisodkgnqfgsjnilleiirojfdqrnlnhpjgipjegoqdjnknpmrndnpnpssdnqdqlqedpfejhlmmgedlijmrnijekephdpgihdlsgmhflldgjdjnmiodigirqqqldggnhniekgigfmlijqsmgqemddgeqqemmkismkfopnedlhsmhmgeoggmfgejqlhkrpnhfogedsihlgjopirqpkrohnsgdsrnifisrpileqmjsrinenfrgefhjkmlpoemrdhhdmqprkhjjknpsmjrlpmkfoflqeqmeeihjrnqepdnsiqhrpfgqinpeeprggfidslrspsimplmrqqgkehojrkpdeosnpopfopnejgjsesjkhhkjgppfknklihoeisgfdkgnkmpiqsheiksnnidejeqpnqgepodqljelqqjljkemeqqfosrefdesmdliekoqfjjojligjophoqfgdekrfhjsnnfnolfqnjhfpsdkkoqjpklesghngonlsjieejoelhpsshimfmqkhfoqehimkrihqmikpripdesmddlqegmffpknojjspfosnfigkrpsgepplishikdlqrrfonjhkmsedkdepemohrrrfqegrffqije\"\n",
    "ciphertext_b4_c1 = \"qpperqqkonidiekihgknrgignnmhefqfkpjnnmqsmfjqsjfsfglmfhderljgkmgqsggfeoieikirpkjgljlprorjfflroglnsgedggsqpsgjjolmeoffpipkerkgjiehfnqledsjdnpopgegslssngpfmooeohklmfgnnqeeqppiodsnhoiqskfqndomrgldpijjkdonrkmffpikfsfidsmsrqrldknjferkdsjdlsfqgngqknlonnmhieesfogkkollffjrpgqjfrdriihgesoligdierirpqqqllprmqepjlrqsginhflrigqdpmjolqlipnjqiooieqrojoqodqdfmjhnpnidkhhmfjiiqidiihhhkejjireiqlgjrddirohpnkrlfgioopslsksgdgqjhfkmhgmfjqihnoqfeimqirndhfjrqsmhjjmdnqffelopmhrjomhkkmhjddnpkrjrdkljrgghjhesrqsfnklfirrdefdiedojsernodlfmmsssnogindrhilpklrergkkgkrhqhirjpsonqsjrkpsjqhikielofjqpprfrmjskeemdsiogdijidqhofhlkqkeoqmeegrgmpmkiphkghenkiqkgqghshkjeqhekkgqgldgnjhpgmhnjnekfsldmgfesnsikmkhdqinegpnhqjslrdosnlqodlpjdppoldfkqiqlkjinsdkpsdkelqgsijiqhdhifkkpedjfsrjknjfsliepohljqdmlffijlmglgilpmsjfsldkkdrpsnqkjqdilmdiiflqgnldeokogjnfiorfjksmimllhojhiejmdkimfigmppfkhhhflidnmqgjmfmqrfnsjqhnhnfpsqdeehdkigjngejngjeidsrjrsggrpprnjepqrkpejphighmqhpghhsgldqsfieooloosgssfqehjrmnmokrhoqmiordjqidqpqnsffkddghshlrdeksldhmpjemlipsjoffrnmjdfflokssplkigkodjgqnhqoqegfolhdsdsmmmsipmjkgksjkmongfinpmgnirrkgdmnfpgdsnsgmjsfglifkoksmjdplfppfmpffrmmkrqndpipqoemejfidoghsleppdgglikefqqkigoipngnppogksodkfnlkddfqiferonnrnliokfppeeoqpdpsjqglrjngfsdrnolelkkiqksisphsqmklqomeprnhlolfkiljpjogoerdkrqpshkkhifdphrlfhikmgshqkredffrmdijjinqrjpheoflgfffdeqglfprohesspqjrhjpjlkrhmfnrnirmmsmkkjeskpsmfphgmmmpfdnrflnikmgsepqfsqgfhdnflpfkgfgeiqhihqnfgfldfnhsigdlomigpjemlqqrfleofeoihgsmniqhlrjgjkiqqiikigpjnqinnlhshseehnrqeqrfmrljnrofishrjgmpkdopidijnnrsfrfmnmfdnemnkkqrroemrsspdqhfksfrlhljfjgkdfmoiflhsigoeerprlsergdgdgqendqmikfmohddiieplnjldgphqpqpohqpfflgqnikihrskrisnjkmhegphkmldmrnmdiihffljqpqrsqippkggqgpddlifjmdsorgrmferddidqinhksrrhmkrqjriklkpqesdeqjnqhkjijisnmhlekgofpqjnjehgkrehmnnfojsndfnsqdffgneiislgdqrdkjilkkriligdgdhkhopfqfmgpsffhskmmfeengjfljdrlfgnepdpdndpmirmofoiqqorhljnqdigkqgmpgikqepdrgooeoqklloenmrrlfoqdlqmjokroqriksekejqejnmfjdrfenldfrndgphepmlselsinsodgdkjkrgkiinfodjnfppjsrnijisdpsejfessrjiomgfkefssdgjmhmmsdoslhhhgegppkffjslgpmhsljeeepknhjlpipfopffnmjmsnilgikhkhfgsqjgodjfnpskfrrjojhjsgjlneejdqhhnofdjnnjplfpljqrmqkfoimlqssrdlgdonskposlnfdihsifgdselememgkogiokpnndqolfrojhnipkpprlofgooqrmiisrnijqjlihpgrhdkrhpokhhhllpfoknddohimkjismgjnnpemmskrsrkejehsndoemrgmlojepdnlsfnroedmmjhjirqogkjmhsfedlirrqmdkmlkpfkmhqjghkelofengjrnsqgegfsfjokrqdsioioemddohomsnrilgpmhggmjneokhgdojrjrikkshmnljfqeeirnmjqrlpfemddrrkjqmjrrkhpndjplnkrkhrhqipfndliiqqnfgjiffghfjqjioknepdgedjrsgfmkeoeikqdihiiknldhsgpnllkkqmmjoshoespinsheingndqpopkemfgqniredejherhenmjhklihsfmlggekmhoksnminpipfdingrnrfofseseieplerhqlleqlhprnnddsmophppfhgrhsgidmdslliogiggjskrpnesqienjjmhimongdhskdeeefsooofijfrssseongmpsrdiedndmjoohmgdmdisqsolkiflnrnkjdfhpjjmllgdgmeqrqpmjeskeiphroqqsnhqskpriomedpemrdsekfjpqsdfjisdopnleksogespfkhnkrmhsqifleorqrgiqojddssrlgpmdgqdjgdhokhnfsrlergheiohgmqeedirsigjrgrflmeqjdgoqppresjqgigpkkqleimjedimhsfofmeeidqofinlfseogopqgehdsklhsmqlsffpmqrfoimpogfkepodhosopqkponfpeqissfdrhfffioojpnmesfsenpjfkggdkkliihrepgmrkormgnnllorjhsodoenfdfsmijslfknmnoqdndekjqkjrpdkerokdgkjkjmjfdrikqhdfjrpkjhoshhdigoidhejhnjmreioqssemfmkgohkdofinrnppsrrpghrrsisddmrikkodosssoigefqpdeemnkjrfiofdmefemqpldogffligjojhrhdgemkkrqlopjeqeiglfmlmpkpslhnqejsmhsipmehkhsqkqeffegpippgpedhmmqnhromjsenflqiepiskgmldklniffdnforkpnhqjgrmhdrrgjjrqdinnmdsggosdedmiiloqhieisnihoofnjsoghmofdsrgmefmllgffeflfjjmppmlsnffdisqsqklrdosrqdosqmqkslikmnijfnsprnppljkkgimppjsgkfsmrfonjsqpneslmrrpmgsfrrkjeelleqiigofieffirrkdghjmoeslhgijedqnmglfrmieeehfgkrdhoedrkmgqpgrroqfkdrnksdjmqlhpjoridnsieqihienqlprnhhlkodkmgkllognqlmfeefdqfjdjrlgjerfgheqlhkmsgoinmlmkiosifhogdknmqpjmdirknqfqenifsrkgrdffkhmkpdfqnpshlpnfsimiekknerflqojgrpplprkeqknnlqlenrnjeskpkfohioeghqsfpjrhfnrnpeeoiojkheqghhisgqkggmepghpkjeoimqkfiknohrioqfmndfsqsiphlfdqgfrjdfjreoipqpfmonrqmjodkqdqeqfsphnhrhfhkigrdihggophlgidjgimfhqrnnfnshgimsjkoffqldhmljlsmdehhrjpokdorjjrmqnrsinehdhidmmmmlljgfsoriqmlssogjmqliqmfsdfgrspjppnkofoslkklrpkqmhkfgromhkolllrhepmrfiiqmhnfdfkirniokjqlhsonojqlsskrdlklljsrkgjghhsqilopjgqosgsjrelidhomgseqp\"\n",
    "\n",
    "ciphertext_b1_c2 = \"enhoekoiejhnrnlqpghkfgrffekqskhmkfpiolfgjeqjrmjeknsoqlpoemrnrfhlgqffgqejhogekjohelpmgonqqpphfhsodrgihhqhnfjiginmriqodpfmiogqdhqmemnkfdsepidqrsqpgnshmgrkmgkqlqlllmopndkrplmgodmmdidrpmrojlsenjogehejosmnrnhjloersrdfekrdndgplmnhlkdhnoioqjleriflldgkqrrqnqsdolprpkhqoldhisflniefdrddmhfolggmggkhhdjdjhhfopdgjhkiqffjjpnspgmjnmfpkiqpshjkermjqomrdddjirmhmhmhmqhjgmejhdojlsmlddikokqnhmfomgikjdghipsemqolnigshorphddlhgkqonlmkjgdoolfpkknnddrjljqjjodpnfgfqgipirjrijphnkggmshrmpiirqijiefnnoffedifrdojfnomqpfrnomjkjsokhijrdinrhqendmklfqhprdopjhkqnffgdpgqnqkfhimkhjghjmkknffpkiglgrfdegjmsnmrdhqskpnimdddfkqmrekdmilijdoinegheemfjffhjgjqommgeghhshfidglqrmoijldiejkhmsemmigomfnsqeefsrojgomlokmqqpfioeijenhepdrsnperrfqmhqpeeegiioqipifmrejdipqhggqdslqeklqnnqqqjpksnrolfoqmklsgohondpimmdlpsrqfqfmnihsqridpffrrprpsddnnjsgnjipednihjsgoerkeqgfdjfmfonsmsrfesfrjrqoolkeqrhqqnejmoelmqlhfjkpikglkgjpffrrmfrfnigpeemnshihipdfergmsskhjqrsqkfphnmkrkmorlodgqrindoldrlkfhpmorjdlljrkodfdjspkkpqmdqmekgjleeklipfpkmiiigklldjrsjglomlidgpekfmepkegsgfnpiiihjdljlgrnjhnjkirpmmlejhiiklhfrgfdjlokdpniijmljgdjeshemnsnmkfifrqidingkpnfimgrqlpirfegerirrdeilfdfroeigifodfrkpsqfehpqlnilslidllgfdrhsnqfqpohmfidqreeopmsfdgjdnflnngerfmmlmnlfihirqrhkoelsmqisgilehkgrerqhmiiddrgpnidlqlpqeonemkpmnfrshjfphsprdloseioojqmdhihjdqnlsrjesjiselllikimlrjqdsmolffkerpoispqgihjmkgrshqjljlnnkndjdjigdpgdsknjqglesrejkjerejppfjilnsmksnjlfkqdgngroemfqojpfokoossdmidmoldfdflrjnqngorphiklsfopknskjjdpiqlnlpsqgohmklrriihdnlgpgglqrkjirkpdohsshehoenoplqqfklqisrpremjmdolkjdrsmljlpfqifqejmsdqjrjmofrespenmmslpgnmdodgfjfenkrnikofjimgnekmojiikefiprofmigfoekqqmngklqmnimlimdfdqnopepfolqionshqphdikrkdfpkhilqgesmdnhsnforjgrrdddmkikefljmgkdpdjosdoqlglrhfgmsqgheqhfkekkrnmpekosnierjoopspqpjooeqmjoopjhksoffnoqkqllegrirekriprgksppdheqhlgnoliklplrjqrmdkdnkerhhkplrdnkfmjnflkqrjdpeehrmmjsmgqhfiigqqniqrmgjgqnpopednjnofnmgpqgrgkgqhpringflemkhpgkopsgndllgijjpsgssrsslomorhegfhkrgfimerhddjlniggpipdpfsiemglijoggkgkigmdridoodnmeqppnjfnrshdipdojqjpifpfidqlplhplkkfselojkijmleedknpekllonqmjjerokonjerogondkjqierhjmngghoskdinlqeineemhkhpqqdkkkmmkqsrslmeorshmrredjmimehgihsmiensidjhklqkpoilpgmqrkjporfjelssgsnkdqehlljhfqsdrfkhldminoefiflldnhropglmjrrloqghqedmjomjelkkhjssmdohgqjsdpdoqdhkghgnehspkjlmepkfrrmrfsfdegrqkepiollpjmdnpleqomjklpofhmmqhjmoifqrlqemqmsjrhhikqeplpdqkpqgqodslniejgnopielkodqjkpjijkjlpmjsikihkgkfnqsomrgskdmhdpprrdfjimesmrlroijhpqisopndfennrnmhdomnejnfeindfghsesjhpffrpkekhonskjponjphlkhsofdhlionihrmhrjorqpekdmjmekjgenjeogkroqprohirdkklnjehfrlkmojpqjfflrpipsidfeqkonffsrlfddnipkqkjlhqeqsfoilfhgkpjsmlkdsfrjfhjndegfefgmprqeepnhjrrkqgmsqhdlrjmnmsqegfqeddsplfqhhpmmlsnrsjfmndhmglipqqlioigfligidffosfhqsnlkfjliqmmpdkgjodlkgfilegmohnirlkshhdeiepdhhnqpnmofijlmkqkgidrgnjhfidedsjmrnsseldqsqiiglskoposnsfpjpdpdfegkrgifenlmqojdphholqffrjrkmdskngijjhpijrjsoddoildsihssngrepdgnllosqfhjhfpqlegflisiofkikepdjsmlhnohqrhgefhpkqqgermghlkjhmkooghfsfqlssfmemgsjlimrmjloerrhqgpsgekeqqdnpqirdnnpmkdndhdjhfjlshnqelknlgnlpemmrrnllpmhhshimidsnjsgoniksdppikesodofmjlfokqngnrmrjsngqsejrofsinlhokloksehimepijrsomnqphrlrisjeoqsrmfsledlrdilkekqmgkqjjifgmrdmrllgkejroqfmjikljdqdfsqiddsfdrdsolfsenfsiqojdkshqjmskpgrnjsjqsqldrsdsjlqodmgengosghnshgsonfoigdgreghlpsqgilgdjjilijjspniinogrfspmerorglhnpemmslrnkirfigkjqdqenrphjnnoelnjiepinedimgjmkmksorkkmgrglnlfpflmdhprirqdphhhrgihqghfqqjejqqijmrhjeskhmldqsspfkdprkemhqsqomrseqsslifledofsfjnmoghhnjnoddrknhrnqjdfejsqmmofdrdllhmefnpgsldifihlffjdijknjdneqoqlhierjqjornnmlqspnogrjdmmqnqiqdmrmhlpdpjriqjqqgngogklqqplgdplifsqehfdmnmekejoffqorqmnfkprkhknnoqnioqkjerkipmfjhkhejqnkrifgjhgkoldseimgfgromihkdffseqkefohkqngflkqmqnosijonjlnpkqenppngfojqsldrfomnfqeqksneiggoghnfkofsllqlpjlfpsrlllfngjjohmmfeqjhprkprljiseofldjfkhhpihjlimkjepkqsglgqsjhshedkfrlgehmknirehhfoehopjhrrrrjphrekinqeigehljdksoeolpsgdnselkernrfdjiniooepmmsqdfflshfjspdgokffssrhmmqoerresqghnenfopnfqfmdlepjfmddlnmorfompodpqjhqifoqsoqlljnerpdnrrghgosljimhqgemnfjenfpegnmrjeqerskjgefkiemdnhfffoinmrpgjmmjghgjhikeipqpjphhpfjrrolrogkddnoknsghqdqjhgpqfrlmksidknsmdimsirnjlohmpeepeigorflhleookepqhhllhne\"\n",
    "ciphertext_b2_c2 = \"jhdllihefdnrheqqqenpgdqjgfefjsnqldghejlhrmnhnrlimmmsqessngfomdssrqjpejfrkrepjeflsllkgqqfffssqknojqlpijslemkqfpipfjgmdmjjqjihomqnqmgjrodqmhipslnroplophfilqpmioqkmnrsnmdleprjfmfqmgngoieojojrjpqopsgndqniddkdeesroosnldfijrmkihljmhmijomlsmssldmdjdffedldpoqqpjoliphkikjmfkfkposoqqogoroqfemhislkrmhsekkhhrikmddrirfjemsrjjdhhrfmiesjgdimkmesnllfrhljpmegismfoflmfgdqfeonqdljsgndhfpirepqqkssmqehjosklhhmhmrqlsldkkgpegfgfmfmmqijshidhlrnjdofoemjldmnnqonefgfnojhojflehsiergjfoprnlkgsegqmsnomsmmqrlnprprhfjdenkonerhhfdosfsgkpgfksshqheihoqgfiddqlenglksfrrfsflqkijsjlkjsihkjqlfmhrjlmnpqjenddefgfgfqrpsgmpqkesmldkfhspmhhppnrjhmehsjkjodemfpdildosqhjfelmipgirqnnfhqfkdqelfnehimsjsfeqidnogrdrnpnjggrrqjjdqfjkgkroinhsimjsjnfdeirfoshlsglnmfpnpjsnsqofnsefsghjiiifkjnoejpplfqkrmsrpnergmesnirfhpspghrefildhdhelqjhjnhgrdgomeeojnqirrqmlrjihkerqmfdsrkiifhdlhgmliqosmrpmmeminksqnkkqdrdqpqphgmejkksjfmjsioriodmodjijkkkpsrgsnpogkfrkdknphrhieskqgjmirimlrikeempifrhgemgfeffiinjhnhoqmfffmqpgidhrfhkskddihhrmkdqsgihqkmfqmmfrrdfsisppqplrpqfnkslmlmmnokjpmpgmgqknqjgffsisoiogqjhmhgpkrgjhiipmdfmhofgdjmhogmdqlsqlogndsggpkkrpfsmjsnhdmnsnjjispphelffrnedsfmehimsmkggsnpooqffkpnmininenhmpshhgpnrjojkdiisnseefdgipgpsqrprlljnqlsohnepfelfhholmkokfrjdglrkoonjqehrhkopsmsdnhfooqeljokmsifnfqgmikhnndpqeiolhqlfssrjioomlmedgforpgrolpkodreeoonrhlpiqpmoghffmhosnnporgqjdhkmsnmojkpqdisnphggmhqfjpsjqhilghklfnqrejrqrgsfiorromnrqilhdgrhphkqgnnornoinjsolohslffpdhsfihfirikgkfilpllonqgqiefdrgediloormikkjhhrmigsinmgimeehslnhnqhsjfmghfeprikosqiqnskehnnkqhiioiforllgeehdfdskqisgkfdojfnqffskkelnolrdpfjkidjqkgsflgsjhhqsoiodqjjlksrogokkphkrpsjoegshsoissoirrdsjsiorfmkmfsepeiqlpenprergjeeohoqiohiqnsmfdgdmenehfqlngdmihefoihrndplpjllnrnhqsregonsllohqkegsrrrjehdmjhihoifkfrpgpkksmdoiljmrpomjioqdjrrkpnfskmsilhoddoghdjnrqrkeqdekknplrofpgirihrroonrggmkhplheijloikmoookjjqenreekdepjdsddqlqdjielgnmiinnnlpkrdmhfkhlnegmodrhgehspdjlgemddineoffldfhsosirmgjrsoihofksknllehnpnpnonflodkeosdflgkleprfgofnqrhmppkkgefsqmoohpdenqoielsiphrisfpnkopjookeeokgkjgomhsqgpdkdsqodpnoqmimghjrdeskdpjfsmdqrdhpedlsjqkhknjnhmiddefnoiffnkglgefglqrofihrlghsoqofqqdishhrripnklinhghfdefegdshehplrddqfhioqddidmplpomdqlkghokgefqdjrrfprjmpppqgergshrhkkofldhisnhpdsolesigipjromdfjiignronnrkdfgnlsndnorqhornfjolgsgkhrirkdjgmlghsmiosleqkhqqdhmrejlomeihospkqlmgioioefjlglnoemlliollnlqkqlkdsfgkihemdqfdopljlhelrrdsndkhgogqsfmnpqseosppknrjmdlnoijpkrsjfsdkrolphmdhpsgsoofgshdfnhliqrdggggfopqeliihhgrrshmdpfnijnoqfsmssimmkeisfqeferimqjlfdenmkhkppnglolqqkljfmirgflepgiqkndsrkpqokosssmqrmefkephilisqsshhkdjeepdnqedklkqgfhremjqffjhjnkjlofsfslgogsnilmmfqijsoeerkshlqrrlsrigeehhqfojfpsdrfgioqesdqiehjnhhplppongisorjqlkfhsigmmrjjlhohjkdjpojiehhnmeljkghjshdoleeqdehjmrfsenfooomglillfnjemlmggghrgslmooedshneehgknqhlfderfophkfomhekrqlpskoqlipejdnsqnhmoqqdmihdkrerkfkrkkrrqsfikineddnlndeonhfhngkjpfieklhkdpdseefskemdgqkkmnelmgkqdkdjeqeseqhfqhspdkilopsorhphdmjilljpnmllmhefdnggqsnkeghehmhfsmmqjnqklefkimemmlrpnfodoqglidqninelldefkmpfksrrjkliferhqdsrqmnmkkmjohjphikqededrpqjmfmggsggkorqdokeompdrigeglrhhorfiooihlqjdpfmerjisfqddmopglsmffmgshfjfmngleqinrnhfsosossqeeselhdkikeosjgjknjqfnorjnmdgqjpehqnopqfmgskpogfhkejkghkflpjmmiijnoeqffnlggjfhimlrlllmgrgldimnjgefqjprldgolqmmdggopegfeqpmhpnrjgkhedolokmkkspikmhlispoqkjgdjjoqleflieddlfhkfplosjoldldfnenpnnlonedqffflsofmdnqqsmnigrmjlnodeplqplgkhnligqrddeprgishgmoqsljdsdrkmnpsrqfselolrsfflijqerjdikihlsskrjfsgpeesgerdpeosspheiggdopgfpomriisfogpgdllhskdphoejphkmmojljmgfmmosliemrhgmpjiggklrrjmmlprffsjnsmfjqsdjkjndodlnfpnnqsjehlslnrjklikikdelfqiqikhjdnqnppffdpfmespqgsipiqhnkglnhgongfdksgmersdgimolkkrmsprqsrsmgpjqhjpkinpjodimklqfomsnlooheioqgqshihkregqoosqpeokjdrnleedsihpqofqsjjpiihhfqeklhlfmshkkrhjdndkngnfkssdnfmjrmshhrisdinpfgpookkdpqiqhodmkkgeqpelshhssoefdeggpkfqjsnspfofgehlirmjodefmgeromjrqsondkihgfhnfijofofjopjreemfgjosifrffeenosskmsqsejimdqflsghpophjesffmelrolnnoiqqrfklihnikedgnqdonhpnmsooggmlhmjjdkenjmssggrnhfqhjqhorfiilfinkfedrmikfjmdkgshnejprlpqknhdqgrnsomrjnodlidmodhifneemogsrdkfqordpgirjlpjnnhjoqlqnpjgjqlekhqlpinsojsfkkdsogsmrdrhgkieqjoopmrnophgsolsffqfdk\"\n",
    "ciphertext_b3_c2 = \"lporgpsngoogqkfejildsmqmhegesijedhsofnirgsriishfnlhrohmhngmddfpdpjkjdpgfsflkrhijmpfnjqppdnfsggpmqkhpeessfpsqjqflrndkhldngkfkismsojqqgqjqqldjqgeiqkkplmofdirjssohdefjnmerqljphnkojlrmmljhgiqpnmodilqeihodpiknneolqqildohqphjqeeigmikogkhqefsginelihlmqdelsipgifpfhoqifjdlkehdheppifmnqksenqjoosjhfgjjrhhripkjmgmgqrggsodigqpspnsilhmnhfijisspnjijidnskokokigsenlkjdpnfsmkgjglkrslredekmmegnopmgpelrolhsggqrqeljndhhldlrpiignesjqrjsdogkrghssjgliekqjfslmfifmnjdfslqeqkrknordmqpqpqdsfikigdqgjfqnlkoqdohhgeqldgrhfkeflqhgsidsmgdegdqjisshksqkpnsrrdflpqqmogkddnplgfgklogfphskilgkjqniephrfrsdjrsghrqjegeldmhhdlsemnrglegmpfrmroddhqerhlmkoegsqfikhoqlrqhsmdddknlesdkrhsimhfhposhlpgdfqeopelosdnikmlrkodrhlgndnppqghkolpepgsgkldljrimgssmmkopfqkfslsffddlrqrrenidflrhgolmlqhfpnfeiheqmsjpkmmkeoeeppgmloelnkefffomeqqlnijernmrsqlrkidhhmhfsneddfjkklisenjopdmjjheephpljonfjjmsjiqpioosmhiirehpjgrsfjpnklqpkokmepqmdqjmrqlfkrdhrjgmrkhnhjqokrqprdsqrpjmellfqjinlfikmpkodoliimmjpnfkpqpphrnjhnfmfeojkfrnpksiprqjgrredqmomssfhplkdqrsdljkqdsklppdkokjisepnpsrqpeefhksgggeoefdimknndnqnmgqppejnesihjhimihjgpgpjjdilksmhnrfjmdnngfoqpfnrmjmkdsheqhfjgqphrdegqsqfrfsgqdkhdlfhmkldrndfkdosflemplomhqeojmgrpgrfhfigjsgfhrsiqrqsfllmdnsnnesridirqhrlngfdnrjnhonirklkojmgorhkjqojekfiookidpeiiomqmgiolpnpfkiillsmnmqdjjsrsosgohdlerpgposlqpjkdjhlplorpdjrlleknnoskgdjeoirlijgfkgmlfqmkknhiglshqgijgfoeffrrknsiiisqdskqinppgneqgdejkqghpjinndgoppmlmldqomdemsklnrpkreeleedefnlllpljndnehfmkqlsiqkesnmskhdiojglfringojrlkefeiepdkppqimgpggqnkhgsfpmjqjgonepoildfipdopnrprfdqlermjdedjhlrspmpprfmroonnlskkkgdeoenreqnqeefjgfeihgopsoqhhgrdhkernsirnplfnlqedneglhkgisnhipsjsfkqgnjprsjmpsjqpdsdpseheeqfgiokhpgrdqmokshinnriliorjgleqidedghnrkhkijkpfgdmjnnrigmjdhlkkgkklhmofkldqhspplnfdmigmjlpqrhnnnjidsjliepsgeqjgndemflqkglgediqrjsosrimmlrjngkhhioljhmhlfdghnoqmilsffommnsljgsghmhgnepndmsrmhmqilonkoejpfdoqolefmrkmmnssijdhmmggfkqgggnidimsjmfokrpimnoojfkhodhrkhddkgirlkghsdmlhnolnojpoqsfofphkksikgredorklqdglgmossljkodhjkomgskpegfrhqjkmnesnsidemmidsgnrhernddgsndgddsholmkoeplkiohifgdderdsjooqhnfnoqkssqmkfkhsjhmslejogginhoedqmsspkenrmefjjpikqnmmfjffjsdpngpklseipoodrpnrspmrepepjqgmeemogspdjrmfjogqimeqmhophjingirinpifjomsligefrplooiiegfigohpeddkefsjmphmgesrejnnmdfqhsnkoilndgmrjkpmqggrhiqqgelojknrkrlndnhkgfohkhipjmppiqnnjgjfllhqnfhdemdjrfjrlninrekfsnprfddnskepjskmeokihfihqkjhlmsmlpsehmfigofskgmggjqoloekieqssfnhppmlrjfmjmoljihipnpehsgksjihsldksoisdlrfdrrrpsogdlnsfjhelfofmqipkjimmgsdljgkrnkjqhojirnhdrsmmeiemkodekjdsqpirqhqjprdrrlerfimmoemmidirkqpfpefldhjlegniikjshdsmlgjedfhhnkeodemphgsigdpllnkolgjfssgdqlrnorqnrepomjpimpomgrmkosikkkkgqqsesgifregjemgnlldglspsjffepnsoffsgksoimhhnqkipdjifsfmihkmjqkeoljqhghqighggemneejjfmlsffelkhqsenhiokgnsmooohenonprmeokpkpqosgqlekrqehdrrioskhqrpmosledlkmdeksknhhnnsnlegsnqjrinfiphglrfmoqkfijpdghmrfrfqdrkonnindokphmjifhlkgdlsfnkfmrqrllkslmnprpfeggsljorpjhgklofpngehejfdnomehrpeqgidmmdkmeiqqriqmpeshenqigmdorndeoeqespjsfiqrgnlkqgefjejjkikhfdkefkrsjmgkmonfsohshmjlshfmeisrqoorpnnerneeddjrgdjdsfirmejnmqfpkmnjoelkdldnemqhifrfjonjmnqhsqkssiiolpjlomphmqrsgrjpopgqpkignjijgpmokhkdfljnjndmolqmsofrljrnerihiemqdomgrshqpgeeoggsmhmedfllljdpqpfjsqdkqolsmonhgsgnmnrejopsdmkikemspiofreopohjgoqqlkrljjeiidkpiooksoehqreqgfmgdmhikrhlkedjierfpimojjshnonhekerohphdmdgoosljlpsjgejemmqslfkgqjmhdgdfjpshomfsflpeqrhmdnrikelhsmpslpffmijdnjfdddgphpejnjrpqsldksierfddmdorefjkkikkkgnlsdogshofqeiikplflolprshipkiskdjlgserrnkompesngrqqgjffnfjpkdfjgnenlgoodrhnfikrirpejgirnkkkmomqqmirggrdeqqhljskjfsjiokfqghfniqriefemgjigmqjhgosgohpdnmkfdnmjjlhqjrhmkdihoefpipolkeqrfdilkrhihhkfejsogssgldpgnglkkhejplqgjjeoqmrgjmdkpdpnldipkksqpfnipmnljojkrjdmqingomjflkpmjhldgqgskijpgrgskrdiqlejmlmeedoknsdoenlsdifrpjdgospjlsqqlgrjlilmfegffdrirjrnsnemiqdrqndnifrliegefdrjpenspgdddjgosejmsjoghkkkdshrhoglfsrflhiqknsfdhgnqelidmsisjfjkkfghdpsrnrpnhglkjinmsnriepkfqdirhspjqhmhkjlpnrfdersjimpfipjihhkogpifqnfpgpmhhlifdkdspjseksnggfkqhsfghlnnendsmnjshrofgmqdsqddnjqshkniksglhhhqindlmjnqkleoqhoefrngjldqnhinkefjmelrhprirjjpdkresiqsoqrsmqlhdsmhdomlgpqrfnfkmhoredefkioffgqopsjmsfmghgrqhdpjpnqhsjdlpipnlo\"\n",
    "ciphertext_b4_c2 = \"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\"\n",
    "\n",
    "output_a_orig = ciphertext_a1 + ciphertext_a2 + ciphertext_a3 + ciphertext_a4\n",
    "output_b_c1_orig = ciphertext_b1_c1 + ciphertext_b2_c1 + ciphertext_b3_c1 + ciphertext_b4_c1\n",
    "output_b_c2_orig = ciphertext_b1_c2 + ciphertext_b2_c2 + ciphertext_b3_c2 + ciphertext_b4_c2\n",
    "\n",
    "output_a = []              ## list of 1st ciphertext of chosen pairs as 64 bit binary (after applying reverse output permutation)\n",
    "output_b_c1 = []           ## list of 2nd ciphertext of chosen pairs as 64 bit binary (after applying reverse output permutation) for charateristic 1\n",
    "output_b_c2 = []           ## list of 2nd ciphertext of chosen pairs as 64 bit binary (after applying reverse output permutation) for charateristic 2\n",
    "\n",
    "for i in range(len(input_a)):\n",
    "    a_out = text2bin(output_a_orig[16*i:16*i+16])\n",
    "    b_c1_out = text2bin(output_b_c1_orig[16*i:16*i+16])\n",
    "    b_c2_out = text2bin(output_b_c2_orig[16*i:16*i+16])\n",
    "    output_a.append(get_perm(a_out, op_rev))\n",
    "    output_b_c1.append(get_perm(b_c1_out, op_rev))\n",
    "    output_b_c2.append(get_perm(b_c2_out, op_rev))\n"
   ]
  },
  {
   "cell_type": "code",
   "execution_count": 8,
   "metadata": {},
   "outputs": [],
   "source": [
    "def crack(l3_xor, s4_xor, s_boxes, output_b):\n",
    "    keys = []\n",
    "    for k in range(5):\n",
    "        key = [0]*64\n",
    "        keys.append(key)\n",
    "    \n",
    "    for i in range(len(input_a)):\n",
    "        l6_a = output_a[i][0:32]       \n",
    "        r6_a = output_a[i][32:64]\n",
    "        l6_b = output_b[i][0:32]\n",
    "        r6_b = output_b[i][32:64]\n",
    "        \n",
    "        l6_xor = xor(l6_a, l6_b)                          \n",
    "        r6_xor = xor(r6_a, r6_b)                          \n",
    "        \n",
    "        r5_a = l6_a                     \n",
    "        r5_b = l6_b\n",
    "        \n",
    "        e6_a = get_perm(r5_a, expand)  \n",
    "        e6_b = get_perm(r5_b, expand)\n",
    "        e6_xor = xor(e6_a, e6_b)                          \n",
    "                                  \n",
    "        p4_xor = get_perm(s4_xor, p)                      \n",
    "        \n",
    "        l5_xor = \"\"                                       \n",
    "        for k in range(len(l3_xor)):                      ## calculating l5_xor \n",
    "            if(p4_xor[k]=='x'):\n",
    "                l5_xor = l5_xor + 'x'\n",
    "            elif(p4_xor[k]==l3_xor[k]):\n",
    "                l5_xor = l5_xor + '0'\n",
    "            else:\n",
    "                l5_xor = l5_xor + '1'\n",
    "        \n",
    "        p6_xor = \"\"                                       \n",
    "        for k in range(len(l5_xor)):                       ## calculating p6_xor\n",
    "            if(l5_xor[k]=='x'):\n",
    "                p6_xor = p6_xor + 'x'\n",
    "            elif(l5_xor[k]==r6_xor[k]):\n",
    "                p6_xor = p6_xor + '0'\n",
    "            else:\n",
    "                p6_xor = p6_xor + '1'\n",
    "        \n",
    "        s6_xor = get_perm(p6_xor, p_rev)                ## output xor of S6 (6th round)   \n",
    "        \n",
    "        counter = 0                                     ## counter for current s box \n",
    "        for j in s_boxes:                               ## calulating possible keys for each S-box\n",
    "            s_in = e6_xor[6*j:6*j+6]                    ## input xor to s box\n",
    "            s_out = s6_xor[4*j:4*j+4]                   ## output xor of s box \n",
    "            for val in range(64):                       ## trying all 64 key values for 6 key bits to corresponding to this s box\n",
    "                beta_1 = format(val, \"06b\")\n",
    "                beta_2 = xor(s_in, beta_1)\n",
    "                gamma_1 = sbox(beta_1, j)\n",
    "                gamma_2 = sbox(beta_2, j)\n",
    "                if(xor(gamma_1, gamma_2) == s_out):       ## if output xor matches the expected xor, this key is probable\n",
    "                    key_val = int(xor(e6_a[6*j:6*j+6], beta_1), 2)\n",
    "                    #print(j, s_in, s_out, beta1, beta2, gamma1, gamma2, keyval)\n",
    "                    keys[counter][key_val] = keys[counter][key_val] + 1\n",
    "            counter = counter + 1\n",
    "    for key_list in keys:\n",
    "        print(key_list)\n",
    "    print('\\n')\n",
    "    return keys"
   ]
  },
  {
   "cell_type": "code",
   "execution_count": 9,
   "metadata": {
    "scrolled": true
   },
   "outputs": [
    {
     "name": "stdout",
     "output_type": "stream",
     "text": [
      "[297, 306, 297, 296, 305, 307, 317, 299, 300, 305, 310, 302, 297, 301, 312, 299, 306, 292, 300, 306, 301, 309, 300, 312, 301, 298, 305, 320, 299, 308, 302, 301, 315, 294, 302, 301, 304, 294, 302, 300, 301, 304, 289, 309, 318, 294, 285, 311, 313, 293, 296, 306, 312, 306, 307, 300, 301, 298, 304, 398, 299, 298, 298, 304]\n",
      "[294, 307, 307, 300, 291, 288, 306, 306, 292, 291, 302, 304, 291, 293, 298, 296, 299, 308, 308, 289, 295, 294, 297, 302, 294, 291, 297, 308, 301, 297, 303, 300, 295, 297, 299, 294, 296, 338, 302, 305, 311, 301, 294, 290, 300, 300, 290, 296, 302, 298, 303, 300, 302, 299, 305, 298, 290, 298, 301, 301, 294, 298, 283, 309]\n",
      "[286, 299, 310, 290, 285, 296, 307, 299, 302, 302, 292, 307, 307, 294, 283, 306, 291, 285, 298, 299, 292, 302, 296, 288, 300, 299, 295, 300, 298, 296, 309, 290, 289, 291, 297, 298, 312, 297, 295, 296, 290, 298, 289, 297, 293, 298, 293, 307, 390, 306, 308, 287, 300, 287, 294, 307, 299, 294, 293, 298, 296, 298, 290, 284]\n",
      "[353, 292, 300, 291, 305, 310, 295, 294, 299, 292, 303, 297, 300, 308, 310, 295, 302, 313, 304, 293, 301, 294, 304, 294, 294, 289, 298, 292, 296, 311, 295, 296, 289, 293, 305, 306, 298, 283, 313, 308, 316, 306, 310, 300, 291, 301, 285, 295, 293, 304, 289, 303, 299, 294, 300, 299, 305, 318, 306, 296, 294, 286, 302, 309]\n",
      "[300, 303, 308, 302, 306, 293, 292, 297, 306, 300, 297, 299, 300, 311, 296, 291, 299, 297, 297, 299, 296, 301, 300, 300, 304, 294, 302, 298, 303, 288, 295, 299, 293, 307, 300, 300, 301, 301, 305, 293, 299, 304, 303, 289, 304, 304, 299, 301, 303, 299, 290, 289, 304, 354, 296, 295, 295, 296, 288, 299, 298, 297, 296, 297]\n",
      "\n",
      "\n",
      "[52, 66, 59, 61, 64, 46, 68, 72, 54, 65, 60, 69, 72, 68, 59, 60, 79, 70, 70, 63, 74, 59, 59, 52, 61, 56, 55, 54, 61, 64, 59, 50, 78, 75, 60, 54, 56, 55, 69, 60, 67, 72, 62, 58, 60, 103, 62, 70, 62, 62, 70, 54, 58, 58, 65, 69, 75, 63, 56, 77, 58, 64, 66, 69]\n",
      "[62, 77, 62, 57, 67, 61, 59, 58, 55, 65, 55, 55, 69, 57, 65, 51, 52, 60, 92, 56, 63, 70, 78, 62, 74, 57, 80, 63, 66, 63, 67, 44, 56, 54, 57, 57, 81, 70, 67, 66, 64, 49, 67, 73, 60, 65, 55, 51, 48, 61, 48, 83, 71, 71, 62, 65, 62, 56, 57, 106, 68, 60, 63, 65]\n",
      "[70, 74, 70, 74, 63, 56, 75, 164, 72, 60, 64, 49, 66, 53, 66, 56, 67, 70, 53, 78, 76, 68, 61, 65, 83, 63, 59, 81, 53, 54, 67, 66, 65, 78, 51, 65, 69, 62, 67, 76, 91, 67, 72, 64, 71, 61, 77, 73, 64, 64, 60, 78, 58, 72, 77, 74, 68, 60, 70, 82, 75, 75, 74, 70]\n",
      "[69, 57, 63, 82, 61, 53, 58, 72, 58, 57, 59, 55, 56, 54, 64, 58, 61, 68, 67, 62, 55, 73, 58, 63, 62, 63, 53, 69, 56, 59, 56, 58, 58, 71, 51, 52, 79, 92, 54, 54, 74, 56, 57, 61, 50, 65, 57, 63, 48, 65, 56, 55, 59, 68, 67, 66, 56, 67, 59, 63, 55, 66, 48, 69]\n",
      "[86, 68, 53, 67, 58, 65, 80, 60, 58, 57, 62, 72, 72, 48, 74, 55, 60, 67, 73, 52, 56, 79, 72, 64, 64, 65, 77, 60, 72, 64, 64, 82, 61, 54, 65, 67, 85, 54, 52, 61, 60, 53, 47, 66, 63, 59, 70, 53, 162, 73, 65, 80, 62, 83, 56, 78, 80, 62, 89, 77, 74, 66, 64, 69]\n",
      "\n",
      "\n"
     ]
    }
   ],
   "source": [
    "s4_xor_c1 = \"xxxx0000xxxxxxxx0000000000000000\"     \n",
    "s4_xor_c2 = \"00000000xxxx000000000000xxxxxxxx\"\n",
    "\n",
    "l3_xor_c1 = \"00000100000000000000000000000000\"      \n",
    "l3_xor_c2 = \"00000000000000000000010000000000\"\n",
    "\n",
    "s_boxes_c1 = [1, 4, 5, 6, 7]\n",
    "s_boxes_c2 = [0, 1, 3, 4, 5]                       ## index of s box used\n",
    "\n",
    "keys_c1 = crack(l3_xor_c1, s4_xor_c1, s_boxes_c1, output_b_c1)\n",
    "keys_c2 = crack(l3_xor_c2, s4_xor_c2, s_boxes_c2, output_b_c2)"
   ]
  },
  {
   "cell_type": "code",
   "execution_count": 10,
   "metadata": {},
   "outputs": [
    {
     "name": "stdout",
     "output_type": "stream",
     "text": [
      "[398, 338, 390, 353, 354]\n",
      "[304.15625, 299.03125, 298.03125, 300.25, 299.5625]\n",
      "[59, 37, 48, 0, 53]\n",
      "[1, 4, 5, 6, 7]\n",
      "\n",
      "\n",
      "[103, 106, 164, 92, 162]\n",
      "[63.5625, 63.4375, 69.15625, 61.25, 67.4375]\n",
      "[45, 59, 7, 37, 48]\n",
      "[0, 1, 3, 4, 5]\n"
     ]
    }
   ],
   "source": [
    "def get_keys(keys):\n",
    "    max_val = []\n",
    "    avg_val = []\n",
    "    key = []\n",
    "    for l in keys:\n",
    "        max_val.append(max(l))\n",
    "        key.append(l.index(max(l)))\n",
    "        avg_val.append(sum(l)/len(l))\n",
    "    print(max_val)\n",
    "    print(avg_val)\n",
    "    print(key)\n",
    "    return\n",
    "\n",
    "get_keys(keys_c1)\n",
    "print(s_boxes_c1)\n",
    "print('\\n')\n",
    "get_keys(keys_c2)\n",
    "print(s_boxes_c2)"
   ]
  },
  {
   "cell_type": "code",
   "execution_count": 11,
   "metadata": {},
   "outputs": [],
   "source": [
    "key = [45, 59, 'yet_to_calculate', 7, 37, 48, 0, 53]        ## obtained 42 bits of key"
   ]
  },
  {
   "cell_type": "code",
   "execution_count": 12,
   "metadata": {},
   "outputs": [],
   "source": [
    "## for taking 48 bits from 56 bits key\n",
    "pc2 = [13,16,10,23,0,4,\n",
    "       2,27,14,5,20,9,\n",
    "       22,18,11,3,25,7,\n",
    "       15,6,26,19,12,1,\n",
    "       40,51,30,36,46,54,\n",
    "       29,39,50,44,32,47,\n",
    "       43,48,38,55,33,52,\n",
    "       45,41,49,35,28,31]\n",
    "\n",
    "## permutaion on 56 bits key for selecting 48 bits key for round 6\n",
    "shifted_perm = [10, 11, 12, 13, 14, 15, 16, 17, 18, 19, 20, 21, 22, 23, 24, 25, 26, 27, 0, 1, 2, 3, 4, 5, 6, 7, 8, 9,\n",
    "               38, 39, 40, 41, 42, 43, 44, 45, 46, 47, 48, 49, 50, 51, 52, 53, 54, 55, 28, 29, 30, 31, 32, 33, 34, 35, 36, 37]"
   ]
  },
  {
   "cell_type": "code",
   "execution_count": 13,
   "metadata": {},
   "outputs": [],
   "source": [
    "key56 = ['y']*56\n",
    "key48 = \"101101111011xxxxxx000111100101110000000000110101\"   ## from 42 bits obtained above\n",
    "key48_list = list(key48)\n",
    "\n",
    "key56_temp = ['z']*56      \n",
    "\n",
    "## generating key56_temp from key48 (reverse of applying pc2)\n",
    "for i in range(len(pc2)):\n",
    "    key56_temp[pc2[i]] = key48[i]\n",
    "\n",
    "#print(key56temp)\n",
    "\n",
    "## generating key56 from key56_temp (reverse of applying shifted_perm)\n",
    "for i in range(len(key56_temp)):\n",
    "    key56[shifted_perm[i]] = key56_temp[i]\n",
    "\n",
    "#print(key56)\n",
    "\n",
    "unknown_bits = []                          ## index of unknown bits in key56\n",
    "for i in range(len(key56)):\n",
    "    if(key56[i]=='x' or key56[i]=='z'):\n",
    "        unknown_bits.append(i)\n",
    "        \n",
    "#print(unknown_bits)"
   ]
  },
  {
   "cell_type": "code",
   "execution_count": 14,
   "metadata": {},
   "outputs": [],
   "source": [
    "## Applying brute force for 14 bits\n",
    "bin14 = []                         \n",
    "for i in range(2**14):                     ## all possible binary numbers of 14 bits\n",
    "    bin14.append(format(i, \"014b\"))\n",
    "    \n",
    "possible_keys = []                  \n",
    "\n",
    "for i in range(2**14):                     ## making all possible 56 bit keys by filling digits in 14 bits \n",
    "    key56_copy = key56[:]\n",
    "    for j in range(len(unknown_bits)):\n",
    "        key56_copy[unknown_bits[j]] = bin14[i][j]\n",
    "    possible_keys.append(\"\".join(key56_copy))\n",
    "\n",
    "#print(len(possible_keys))"
   ]
  },
  {
   "cell_type": "code",
   "execution_count": 15,
   "metadata": {},
   "outputs": [],
   "source": [
    "def encrypt(plaintext, keys):\n",
    "    rounds = len(keys)\n",
    "    plaintext_bin = text2bin(plaintext)\n",
    "    plaintext_bin = get_perm(plaintext_bin, ip)\n",
    "    for i in range(rounds):\n",
    "        key = text2bin(keys[i])\n",
    "        ptext_l = plaintext_bin[0:32]\n",
    "        ptext_r = plaintext_bin[32:64]\n",
    "        ptext_re = get_perm(ptext_r, expand)\n",
    "        ptext_k_xor = xor(ptext_re, key)\n",
    "        ptext_s = \"\"\n",
    "        for j in range(8):\n",
    "            ptext_s = ptext_s + sbox(ptext_k_xor[6*j:6*j+6], j)\n",
    "        ptext_p = get_perm(ptext_s, p)\n",
    "        next_r = xor(ptext_p, ptext_l)\n",
    "        next_l = ptext_r\n",
    "        plaintext_bin = next_l + next_r\n",
    "    ciphertext_bin = get_perm(plaintext_bin, op)\n",
    "    #print(ciphertext_bin)\n",
    "    ciphertext = bin2text(ciphertext_bin)\n",
    "    return ciphertext"
   ]
  },
  {
   "cell_type": "code",
   "execution_count": 16,
   "metadata": {},
   "outputs": [],
   "source": [
    "def generate_keys(key, mode=0, rounds=6):\n",
    "    key_temp = list(key)            \n",
    "    keylist = [\"\"]*rounds\n",
    "    for i in range(rounds):\n",
    "        for j in range(shifts[i]):   ## rotating/shifting left and right half of 56 bit key\n",
    "            key_temp = key_temp[1:28] + key_temp[0:1] + key_temp[29:56] + key_temp[28:29]\n",
    "        \n",
    "        roundkey = \"\"\n",
    "        for k in pc2:                ## taking 48 bits from 56 bit key (after shifting)\n",
    "            roundkey = roundkey + key_temp[k]\n",
    "        \n",
    "        if(mode == 0):               ## for encryption\n",
    "            index = i\n",
    "        else:                        ## for decryption\n",
    "            index = rounds-1-i\n",
    "        \n",
    "        keylist[index] = bin2text(roundkey)  \n",
    "    return keylist"
   ]
  },
  {
   "cell_type": "code",
   "execution_count": 17,
   "metadata": {},
   "outputs": [],
   "source": [
    "plaintext = \"ffffffffffffffff\"\n",
    "ciphertext = \"gifdeemmnkojhjed\""
   ]
  },
  {
   "cell_type": "code",
   "execution_count": 18,
   "metadata": {},
   "outputs": [
    {
     "name": "stdout",
     "output_type": "stream",
     "text": [
      "key:  01101110010111100111101110000000000110010100011001110001 jrirkoldemhjke\n",
      "['sphsdklhpjfp', 'jsgsjfdeipll', 'rnshrqhlgdgi', 'qmpkinnghlnp', 'jhqoooddeomg', 'okomhkmkddgi']\n"
     ]
    }
   ],
   "source": [
    "for i in range(2**14):               ## trying all possible keys\n",
    "    round_keylist = generate_keys(possible_keys[i])\n",
    "    ciphertext_temp = encrypt(plaintext, round_keylist)\n",
    "    #print(ciphertext_temp)\n",
    "    if(ciphertext_temp == ciphertext):  \n",
    "        bin_key = possible_keys[i]\n",
    "        print(\"key: \", bin_key, bin2text(possible_keys[i]))\n",
    "        print(round_keylist)"
   ]
  },
  {
   "cell_type": "code",
   "execution_count": 19,
   "metadata": {
    "scrolled": true
   },
   "outputs": [
    {
     "name": "stdout",
     "output_type": "stream",
     "text": [
      "['okomhkmkddgi', 'jhqoooddeomg', 'qmpkinnghlnp', 'rnshrqhlgdgi', 'jsgsjfdeipll', 'sphsdklhpjfp']\n"
     ]
    },
    {
     "data": {
      "text/plain": [
       "32"
      ]
     },
     "execution_count": 19,
     "metadata": {},
     "output_type": "execute_result"
    }
   ],
   "source": [
    "cipher_password = \"lirjjekhmllflpopqrkjmjjqihfensqm\"\n",
    "final_keys = generate_keys(str(bin_key), mode=1)\n",
    "print(final_keys)\n",
    "len(cipher_password)"
   ]
  },
  {
   "cell_type": "code",
   "execution_count": 20,
   "metadata": {},
   "outputs": [
    {
     "name": "stdout",
     "output_type": "stream",
     "text": [
      "kekdkkjsjhkmjlkh\n",
      "jjkggdgdgdgdgdgd\n"
     ]
    }
   ],
   "source": [
    "password_block1 = encrypt(cipher_password[:16], final_keys)     \n",
    "password_block2 = encrypt(cipher_password[16:], final_keys)\n",
    "print(password_block1)\n",
    "print(password_block2)"
   ]
  },
  {
   "cell_type": "code",
   "execution_count": 21,
   "metadata": {},
   "outputs": [
    {
     "name": "stdout",
     "output_type": "stream",
     "text": [
      "0111000101110000011101110110111101100100011110010110100001110100\n",
      "0110011001110011001100000011000000110000001100000011000000110000\n"
     ]
    }
   ],
   "source": [
    "print((text2bin(password_block1)))\n",
    "print(text2bin(password_block2))\n"
   ]
  },
  {
   "cell_type": "code",
   "execution_count": 22,
   "metadata": {},
   "outputs": [
    {
     "name": "stdout",
     "output_type": "stream",
     "text": [
      "kekdkkjsjhkmjlkhjjkggdgdgdgdgdgd\n",
      "qpwodyhtfs000000\n"
     ]
    }
   ],
   "source": [
    "ans = password_block1 + password_block2\n",
    "print(ans)\n",
    "bin_ans = text2bin(ans)\n",
    "final_password = \"\"\n",
    "for i in range(len(bin_ans)//8):\n",
    "    final_password += chr(int(bin_ans[8*i:8*i+8], 2))       ## taking ASCII values of each 8 bit from answer(128 bits binary)\n",
    "print(final_password)"
   ]
  },
  {
   "cell_type": "code",
   "execution_count": null,
   "metadata": {},
   "outputs": [],
   "source": []
  },
  {
   "cell_type": "code",
   "execution_count": null,
   "metadata": {},
   "outputs": [],
   "source": []
  }
 ],
 "metadata": {
  "kernelspec": {
   "display_name": "Python 3 (ipykernel)",
   "language": "python",
   "name": "python3"
  },
  "language_info": {
   "codemirror_mode": {
    "name": "ipython",
    "version": 3
   },
   "file_extension": ".py",
   "mimetype": "text/x-python",
   "name": "python",
   "nbconvert_exporter": "python",
   "pygments_lexer": "ipython3",
   "version": "3.8.2"
  }
 },
 "nbformat": 4,
 "nbformat_minor": 2
}
